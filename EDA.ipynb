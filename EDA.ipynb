{
 "cells": [
  {
   "cell_type": "markdown",
   "metadata": {
    "ExecuteTime": {
     "end_time": "2020-01-10T13:51:45.178906Z",
     "start_time": "2020-01-10T13:51:45.176937Z"
    }
   },
   "source": [
    "# Load libs"
   ]
  },
  {
   "cell_type": "code",
   "execution_count": 83,
   "metadata": {
    "ExecuteTime": {
     "end_time": "2020-01-10T21:41:38.564285Z",
     "start_time": "2020-01-10T21:41:38.560272Z"
    }
   },
   "outputs": [
    {
     "name": "stderr",
     "output_type": "stream",
     "text": [
      "[nltk_data] Downloading package wordnet to /home/fisz/nltk_data...\n",
      "[nltk_data]   Package wordnet is already up-to-date!\n"
     ]
    }
   ],
   "source": [
    "import pandas as pd\n",
    "import numpy as np\n",
    "\n",
    "from matplotlib import pyplot as plt\n",
    "import itertools\n",
    "\n",
    "import re\n",
    "\n",
    "import nltk\n",
    "nltk.download('wordnet')\n",
    "\n",
    "from nltk.stem import WordNetLemmatizer, PorterStemmer \n",
    "from nltk.tokenize import word_tokenize \n",
    "\n",
    "from sklearn.decomposition import PCA, TruncatedSVD\n",
    "from sklearn.feature_extraction.text import CountVectorizer, TfidfVectorizer\n",
    "from sklearn.preprocessing import LabelEncoder\n",
    "\n",
    "import plotly.graph_objects as go\n",
    "import numpy as np"
   ]
  },
  {
   "cell_type": "markdown",
   "metadata": {
    "ExecuteTime": {
     "end_time": "2020-01-10T13:51:54.424707Z",
     "start_time": "2020-01-10T13:51:54.422719Z"
    }
   },
   "source": [
    "# Load dataset"
   ]
  },
  {
   "cell_type": "code",
   "execution_count": 67,
   "metadata": {
    "ExecuteTime": {
     "end_time": "2020-01-10T21:36:01.894329Z",
     "start_time": "2020-01-10T21:36:01.887783Z"
    }
   },
   "outputs": [],
   "source": [
    "df = pd.read_csv(\"dataset.csv\", usecols=[\"id\", \"search_query\", \"description\"])"
   ]
  },
  {
   "cell_type": "markdown",
   "metadata": {
    "ExecuteTime": {
     "end_time": "2020-01-10T13:52:05.691319Z",
     "start_time": "2020-01-10T13:52:05.689338Z"
    }
   },
   "source": [
    "# Data analysis\n",
    "## Query distribution"
   ]
  },
  {
   "cell_type": "code",
   "execution_count": 68,
   "metadata": {
    "ExecuteTime": {
     "end_time": "2020-01-10T21:36:03.099963Z",
     "start_time": "2020-01-10T21:36:02.913714Z"
    }
   },
   "outputs": [
    {
     "data": {
      "text/plain": [
       "<matplotlib.axes._subplots.AxesSubplot at 0x7fb070a0f550>"
      ]
     },
     "execution_count": 68,
     "metadata": {},
     "output_type": "execute_result"
    },
    {
     "data": {
      "image/png": "[encoded data removed]",
      "text/plain": [
       "<Figure size 1152x288 with 1 Axes>"
      ]
     },
     "metadata": {
      "needs_background": "light"
     },
     "output_type": "display_data"
    }
   ],
   "source": [
    "df[\"search_query\"].value_counts().plot(kind=\"bar\", title='Query distribution', figsize=(16, 4))"
   ]
  },
  {
   "cell_type": "markdown",
   "metadata": {
    "ExecuteTime": {
     "end_time": "2020-01-10T13:54:56.631598Z",
     "start_time": "2020-01-10T13:54:56.629015Z"
    }
   },
   "source": [
    "## Words number in description distribution"
   ]
  },
  {
   "cell_type": "code",
   "execution_count": 69,
   "metadata": {
    "ExecuteTime": {
     "end_time": "2020-01-10T21:36:04.362413Z",
     "start_time": "2020-01-10T21:36:04.095020Z"
    }
   },
   "outputs": [
    {
     "data": {
      "text/plain": [
       "Text(0, 0.5, 'Descriptions number with words amount')"
      ]
     },
     "execution_count": 69,
     "metadata": {},
     "output_type": "execute_result"
    },
    {
     "data": {
      "image/png": "[encoded data removed]",
      "text/plain": [
       "<Figure size 1152x288 with 1 Axes>"
      ]
     },
     "metadata": {
      "needs_background": "light"
     },
     "output_type": "display_data"
    }
   ],
   "source": [
    "df[\"description\"].str.split().apply(len).value_counts().sort_index().plot(kind=\"bar\", figsize=(16, 4))\n",
    "\n",
    "plt.title('Words number in description')\n",
    "plt.xlabel('Words number')\n",
    "plt.ylabel('Descriptions number with words amount')"
   ]
  },
  {
   "cell_type": "markdown",
   "metadata": {},
   "source": [
    "## Dictionary analysis\n",
    "### Raw dictionary"
   ]
  },
  {
   "cell_type": "code",
   "execution_count": 70,
   "metadata": {
    "ExecuteTime": {
     "end_time": "2020-01-10T21:36:05.954582Z",
     "start_time": "2020-01-10T21:36:05.944170Z"
    }
   },
   "outputs": [
    {
     "name": "stdout",
     "output_type": "stream",
     "text": [
      "Raw dictionary size: 2861 unique words.\n"
     ]
    }
   ],
   "source": [
    "raw_dictionary = pd.Series(itertools.chain.from_iterable(df[\"description\"].str.split()))\n",
    "print(\"Raw dictionary size: {} unique words.\".format(len(np.unique(raw_dictionary))))"
   ]
  },
  {
   "cell_type": "markdown",
   "metadata": {
    "ExecuteTime": {
     "end_time": "2020-01-10T21:12:30.285347Z",
     "start_time": "2020-01-10T21:12:30.283325Z"
    }
   },
   "source": [
    "### Cleaning descriptions"
   ]
  },
  {
   "cell_type": "code",
   "execution_count": 71,
   "metadata": {
    "ExecuteTime": {
     "end_time": "2020-01-10T21:36:07.265966Z",
     "start_time": "2020-01-10T21:36:07.251245Z"
    }
   },
   "outputs": [],
   "source": [
    "stemmer = PorterStemmer() \n",
    "lemmatizer = WordNetLemmatizer()\n",
    "\n",
    "def clean_description(description: str):\n",
    "    temp = description\n",
    "    \n",
    "    # remove urls\n",
    "    temp = \" \".join(filter(lambda word: not word.startswith(\"http\"), temp.split()))\n",
    "    \n",
    "    # remove not alphanumeric and whitespace\n",
    "    temp = re.sub(\"[^a-zA-Z\\d\\s]\", \"\", temp)\n",
    "    \n",
    "    # lemmatization\n",
    "    temp = lemmatizer.lemmatize(temp)\n",
    "    \n",
    "    # stemming\n",
    "    temp = stemmer.stem(temp)\n",
    "    return temp\n",
    "    \n",
    "df[\"cleaned_description\"] = df[\"description\"].apply(clean_description)"
   ]
  },
  {
   "cell_type": "code",
   "execution_count": 72,
   "metadata": {
    "ExecuteTime": {
     "end_time": "2020-01-10T21:36:09.980918Z",
     "start_time": "2020-01-10T21:36:09.972997Z"
    }
   },
   "outputs": [
    {
     "name": "stdout",
     "output_type": "stream",
     "text": [
      "Cleaned dictionary size: 1913 unique words.\n"
     ]
    }
   ],
   "source": [
    "cleaned_dictionary = pd.Series(itertools.chain.from_iterable(df[\"cleaned_description\"].str.split()))\n",
    "print(\"Cleaned dictionary size: {} unique words.\".format(len(np.unique(cleaned_dictionary))))"
   ]
  },
  {
   "cell_type": "markdown",
   "metadata": {
    "ExecuteTime": {
     "end_time": "2020-01-10T21:13:37.475504Z",
     "start_time": "2020-01-10T21:13:37.473680Z"
    }
   },
   "source": [
    "# Embedding\n",
    "## BOW"
   ]
  },
  {
   "cell_type": "code",
   "execution_count": 84,
   "metadata": {
    "ExecuteTime": {
     "end_time": "2020-01-10T21:42:24.987450Z",
     "start_time": "2020-01-10T21:42:24.975178Z"
    }
   },
   "outputs": [],
   "source": [
    "bow_embeddings = TfidfVectorizer().fit_transform(df[\"cleaned_description\"])\n",
    "encoded_labels = LabelEncoder().fit_transform(df[\"search_query\"])\n",
    "\n",
    "trunc = TruncatedSVD(n_components=3).fit_transform(bow_embeddings)"
   ]
  },
  {
   "cell_type": "code",
   "execution_count": 99,
   "metadata": {
    "ExecuteTime": {
     "end_time": "2020-01-10T21:57:28.613456Z",
     "start_time": "2020-01-10T21:57:28.610232Z"
    }
   },
   "outputs": [],
   "source": [
    "def add_new_lines(description: str) -> str:\n",
    "    result = []\n",
    "    for i, word in enumerate(description.split()):\n",
    "        if i % 5 == 0:\n",
    "            result.append(\"<br>\")\n",
    "        result.append(word)\n",
    "    return \" \".join(result)"
   ]
  },
  {
   "cell_type": "code",
   "execution_count": 103,
   "metadata": {
    "ExecuteTime": {
     "end_time": "2020-01-10T21:58:32.341344Z",
     "start_time": "2020-01-10T21:58:32.227122Z"
    }
   },
   "outputs": [
    {
     "data": {
      "application/vnd.plotly.v1+json": {
       "config": {
        "plotlyServerURL": "https://plot.ly"
       },
       "data": [
        {
         "hovertext": [
          "Query: <b>programming</b><br> First 500 People Get 2 <br> Months of Skillshare FREE --- <br> http://bit.ly/forrest-skillshare When I travel back <br> in time to speak with <br> my younger self, these are <br> the 5 things ...",
          "Query: <b>programming</b><br> I'm confused. Watch till the <br> end of the video. Occasionally <br> I work on a project <br> only to scrap it so <br> I wanted to show you <br> one example. From the outside <br> it may ...",
          "Query: <b>programming</b><br> This course will give you <br> a full introduction into all <br> of the core concepts in <br> python. Follow along with the <br> videos and you'll be a <br> python programmer in no time!",
          "Query: <b>programming</b><br> Edureka Online Training on Trending <br> Programming Languages: https://www.edureka.co This Edureka <br> video on \"Top 10 Programming <br> Languages in 2020\" will ...",
          "Query: <b>programming</b><br> Programming #language #2020 Top 4 <br> Programming Languages To Learn In <br> 2020 1 Year Free Hosting: <br> https://www.atlantic.net/kalle/ Use code KALLE for <br> an ...",
          "Query: <b>programming</b><br> A lot of software engineers <br> have made videos on the <br> things they wish they knew <br> before starting programming, so I <br> figured I'd share the 5 <br> things I wish I knew <br> ...",
          "Query: <b>programming</b><br> Timeline of the most popular <br> programming languages since 1965 to <br> 2019. So far the most <br> intense ranking I've ever done <br> :) For recent years I've <br> used multiple ...",
          "Query: <b>programming</b><br> Ex-Google/ex-Facebook TechLead lists his top <br> coding languages to know in <br> 2020. Visit http://brilliant.org/TechLead/ to learn <br> math, science, and computer ...",
          "Query: <b>programming</b><br> This is the most asked <br> question on my channel by <br> far so I thought I'd <br> explain how I learned programming. <br> In the process I got <br> a little distracted and accidentally <br> ...",
          "Query: <b>programming</b><br> Want to land jobs at <br> Facebook/Google/Microsoft/Amazon? Learn how to do <br> that here: http://techinterviewpro.com/ ▻ Resume <br> Template and Cover letter I <br> used ...",
          "Query: <b>programming</b><br> Want to land jobs at <br> Facebook/Google/Microsoft/Amazon? Learn how to do <br> that here: http://techinterviewpro.com/ ▻ Resume <br> Template and Cover letter I <br> used ...",
          "Query: <b>programming</b><br> How To Get Internships At <br> Top Tech Companies - www.lifeofluba.com/internship <br> For video tips on practicing <br> technical interview - www.algoexpert.io/luba, use <br> ...",
          "Query: <b>programming</b><br> My Patreon - https://www.patreon.com/ThomasRandall In <br> this development log I implement <br> the basic inventory logic for <br> Arcane, as well as some <br> debugging tools ...",
          "Query: <b>programming</b><br> thx for the explanation.",
          "Query: <b>programming</b><br> Stay with Jim ^-^ Enjoy <br> and do not forget to <br> say thank you! Support on <br> Patreon will motivate me more. <br> I need to know that <br> you guys need this stuff <br> and you ...",
          "Query: <b>programming</b><br> This simple tutorial will teach <br> you how you can learn <br> computer programming and teach yourself <br> code. Learning code is not <br> that hard, and it's easier <br> than it looks.",
          "Query: <b>programming</b><br> I left a physics job <br> to do software engineering. Was <br> it worth it? What do <br> software engineers actually do? Thank <br> you to YouTube for sponsoring <br> this video!",
          "Query: <b>programming</b><br> A question like what is <br> the difference between programming and <br> coding can be tricky to <br> answer, as these are one <br> or the same. Programming and <br> coding are ...",
          "Query: <b>programming</b><br> Fourteen-year-old programmer and software developer <br> Santiago Gonzalez might just be <br> the next Steve Jobs. He <br> already has 15 iOS apps <br> to his name and ...",
          "Query: <b>programming</b><br> Get the Squatnik Hoodies here: <br> https://www.weslav.com/collections/squatnik-suit Programmer Boris is here! <br> I had to get some <br> floppy disks and a new <br> drive to ...",
          "Query: <b>programming</b><br> There are too many resources <br> out there going over how <br> to start programming, but they <br> talk about everything that has <br> to do with programming and <br> software ...",
          "Query: <b>programming</b><br> Follow the Insanity at: https://www.FailedNormal.com <br> Downloadable Podcasts at: https://failednormal.podbean.com iTunes: <br> ...",
          "Query: <b>programming</b><br> Hello! In this video, I <br> attempt to create a simple <br> voxel game/ Minecraft clone in <br> a single week. It doesn't <br> have the best performance or <br> the most features; but of <br> ...",
          "Query: <b>programming</b><br> A quick look at how <br> I went about implementing the <br> first city-building mechanic to my <br> game this week: a simple <br> road placement system! Get access <br> to the code ...",
          "Query: <b>programming</b><br> Bill Gates reflects, in detail, <br> on his early programming career. <br> From a 2010 interview with <br> the Academy of Achievement.",
          "Query: <b>programming</b><br> The Future of Programming 2019 <br> Update How did our industry <br> start, what paths did it <br> take to get to where <br> we are, and where is <br> it going. What big problems <br> did ...",
          "Query: <b>programming</b><br> What programming language to learn <br> first? Watch this video to <br> find out. My Python tutorials: <br> https://goo.gl/4dQMsJ Keep in touch on <br> Facebook: ...",
          "Query: <b>programming</b><br> Land the job! Get help <br> with a resume and cover <br> letter https://grindreel.com My Courses: https://grindreel.academy/ <br> Learn Code FREE for 2 <br> months: ...",
          "Query: <b>programming</b><br> In this video I explain <br> the benefits of becoming a <br> self-taught programmer from my own <br> personal experience. *** JOIN MY <br> GROUP *** Looking for a <br> high-quality ...",
          "Query: <b>programming</b><br> Music: Noisia - Seven Stitches.",
          "Query: <b>programming</b><br> Learning to program is hard <br> because programming feels different than <br> other skills. But programming isn't <br> about the languages - it <br> is about the way one <br> should ...",
          "Query: <b>programming</b><br> Ex-Google Tech Lead tells you <br> what he wishes he knew <br> before he began coding. Get <br> your free audio book: http://audibletrial.com/techlead <br> We had an ...",
          "Query: <b>programming</b><br> Ex-Google TechLead lists the 5 <br> \"must-have\" skills that all software <br> engineers need to be successful. <br> Visit http://dailyinterviewpro.com/ / for coding <br> interview ...",
          "Query: <b>programming</b><br> Join my 1-hour FREE training <br> Top 3 Secrets to Becoming <br> a Python Freelancer... https://events.genndi.com/register/169105139238457808/257d6fbaf8 In <br> this ...",
          "Query: <b>programming</b><br> Linda Liukas believes that a <br> movement in technology is already <br> happening and that we need <br> to engage everyone -- especially <br> the next generation -- to <br> take part ...",
          "Query: <b>programming</b><br> If you're a programmer and <br> looking to decide which laptop <br> to get in 2019, I've <br> developed a set of recommendations <br> for you based on 3 <br> different budgets! In this ...",
          "Query: <b>programming</b><br> Python tutorial for beginners - <br> Learn Python for machine learning <br> and web development. Get my <br> Complete Python Programming Course for <br> $29 (reg price ...",
          "Query: <b>programming</b><br> How did our industry start, <br> what paths did it take <br> to get to where we <br> are, and where is it <br> going. What big problems did <br> programmers encounter in the past?",
          "Query: <b>programming</b><br> Programming is not easy. It <br> takes massive amounts of effort, <br> focus, concentration, stress and sacrifice <br> to become proficient enough to <br> become a software ...",
          "Query: <b>programming</b><br> Visit the website: https://hackr.io/ Hey <br> whats up guys in today's <br> video I'll show you that <br> how can you learn coding <br> language or programming language easily <br> from ...",
          "Query: <b>programming</b><br> Want to build profitable Apps <br> ($105K+) without code in days? <br> ▶︎ https://zerotoapp.com/ytd In this video <br> I'm going to breakdown the <br> main 4 concepts you need <br> ...",
          "Query: <b>programming</b><br> In this video, I conduct <br> a mock Google coding interview <br> with a competitive programmer, Errichto. <br> As a Google Software Engineer, <br> I interviewed dozens of ...",
          "Query: <b>programming</b><br> WHY Programmers QUIT Discord - <br> https://discord.gg/bHQAuGj.",
          "Query: <b>programming</b><br> Get Edureka Certified in Trending <br> Programming Languages: https://www.edureka.co In this <br> highly competitive IT industry, everyone <br> wants to learn programming ...",
          "Query: <b>programming</b><br> Donald Knuth is one of <br> the greatest and most impactful <br> computer scientists and mathematicians ever. <br> He is the recipient in <br> 1974 of the Turing Award, <br> considered ...",
          "Query: <b>programming</b><br> The BEST Programming Languages To <br> Learn In 2020 (#1 WILL <br> SHOCK YOU) #1 will SHOCK <br> YOU! A lot of people <br> ask me about what programming <br> languages ...",
          "Query: <b>programming</b><br> Get the COMPLETE COURSE: http://bit.ly/2keDCna <br> 4 pillars of object-oriented programming: <br> encapsulation, abstraction, inheritance and polymorphism.",
          "Query: <b>programming</b><br> how to start coding and <br> learn coding and become a <br> computer programmer easy step by <br> step guide and tutorials for <br> beginners to learn Computer programming <br> c ...",
          "Query: <b>programming</b><br> This course will give you <br> a full introduction into all <br> of the core concepts in <br> the C programming language. Follow <br> along with the tutorial video <br> and you'll be a C <br> ...",
          "Query: <b>coding</b><br> Growth books: https://amzn.to/2WnvXHK My Instagram: <br> https://www.instagram.com/thejohnfish/ Links to all projects <br> + more below ⬇️ Camera <br> Gear: ...",
          "Query: <b>coding</b><br> Hello Friends welcome to Soft <br> Tech. In this video about <br> big techies like Bill Gates,David <br> Karp,Mark Zuckerberg Karlie Kloss,Explain the <br> importance of coding.",
          "Query: <b>coding</b><br> Ex-Google/ex-Facebook TechLead exposes why he's <br> so good at programming. Thanks <br> to our sponsor Skillshare, an <br> online learning community - get <br> your FREE ...",
          "Query: <b>coding</b><br> This video is an overview <br> of computer programming (coding) at <br> the most basic level. See <br> where it came from and <br> how it works. Content, narration, <br> animation ...",
          "Query: <b>coding</b><br> This is the most asked <br> question on my channel by <br> far so I thought I'd <br> explain how I learned programming. <br> In the process I got <br> a little distracted and accidentally <br> ...",
          "Query: <b>coding</b><br> This course will give you <br> a full introduction into all <br> of the core concepts in <br> python. Follow along with the <br> videos and you'll be a <br> python programmer in no time!",
          "Query: <b>coding</b><br> A question like what is <br> the difference between programming and <br> coding can be tricky to <br> answer, as these are one <br> or the same. Programming and <br> coding are ...",
          "Query: <b>coding</b><br> We're doin' lines… of code.” <br> Check out more awesome videos <br> at BuzzFeedVideo! http://bit.ly/YTbuzzfeedvideo MUSIC Super <br> Power Up Licensed via Warner <br> ...",
          "Query: <b>coding</b><br> Watch me code live for <br> 12 hours with no breaks <br> during this 12 HOUR CODING <br> LIVESTREAM. I am going to <br> be creating an online multiplayer <br> game with python, ...",
          "Query: <b>coding</b><br> It's a code.org, short film <br> on the need of teaching <br> coding in schools. Listen to <br> big techies like Mark Zukerberg, <br> Bill Gates, and many gaints, <br> explain the importance ...",
          "Query: <b>coding</b><br> Stay with Jim ^-^ Enjoy <br> and do not forget to <br> say thank you! Support on <br> Patreon will motivate me more. <br> I need to know that <br> you guys need this stuff <br> and you ...",
          "Query: <b>coding</b><br> 12 Hour Coding LiveStream! Watch <br> me create a tower defense <br> game using python and pygame <br> while coding straight for 12 <br> hours with no breaks. This <br> is an ...",
          "Query: <b>coding</b><br> Coding Background Video.",
          "Query: <b>coding</b><br> Wondering how to learn to <br> code? What programming languages to <br> learn in 2019? Watch this <br> video to find out. Python <br> tutorial for beginners: ...",
          "Query: <b>coding</b><br> Get the Squatnik Hoodies here: <br> https://www.weslav.com/collections/squatnik-suit Programmer Boris is here! <br> I had to get some <br> floppy disks and a new <br> drive to ...",
          "Query: <b>coding</b><br> Hello! In this video, I <br> attempt to create a simple <br> voxel game/ Minecraft clone in <br> a single week. It doesn't <br> have the best performance or <br> the most features; but of <br> ...",
          "Query: <b>coding</b><br> Welcome to the Tic Tac <br> Toe challenge! This is be <br> a beginner-friendly challenge where I <br> attempt to code a basic <br> version of the game Tic-Tac-Toe <br> using ...",
          "Query: <b>coding</b><br> First 500 people will get <br> 2 months of Skillshare free: <br> https://skl.sh/polymatter4 Patreon: https://patreon.com/polymatter Twitter: https://twitter.com/polymatters <br> ...",
          "Query: <b>coding</b><br> Ex-Google tech lead Patrick Shyu <br> explains how to learn to <br> code quickly and easily, with <br> this one weird trick! It's <br> so simple with this 1-step <br> program! Are you ...",
          "Query: <b>coding</b><br> AVAILABLE NOW! $20 2 DISC <br> DVD - http://www.fangamer.net/products/minecraft-the-story-of-mojang $8 DRM-FREE <br> DIGITAL DOWNLOAD ...",
          "Query: <b>coding</b><br> Hi everyone! I am sharing <br> with you my experience attending <br> a coding bootcamp and advice <br> I have for anyone who <br> is thinking of attending one <br> to decide if it is <br> ...",
          "Query: <b>coding</b><br> In this coding challenge, I <br> attempt to code a p5.js <br> version of the Snake Game. <br> Challenge Webpage: ...",
          "Query: <b>coding</b><br> Support on Patreon: https://www.patreon.com/gamkedo Try <br> my free course: http://code-your-first-game.com (or <br> full URL is ...",
          "Query: <b>coding</b><br> Are you stuck at your <br> desk dreaming of another working <br> life? Many consider switching careers <br> but few are brave enough <br> to do it. The FT's <br> Emma Jacobs wants ...",
          "Query: <b>coding</b><br> In this coding adventure I <br> attempt to simulate a simple <br> ecosystem. Will the foxes and <br> rabbits get along? Probably not... <br> If you'd like to support <br> the creation of more ...",
          "Query: <b>coding</b><br> How to learn to code: <br> This is a story of <br> how I learned to code <br> and eventually became skilled enough <br> to get a job at <br> Google. My Python tutorials for <br> complete ...",
          "Query: <b>coding</b><br> In this video, I conduct <br> a mock Google coding interview <br> with a competitive programmer, Errichto. <br> As a Google Software Engineer, <br> I interviewed dozens of ...",
          "Query: <b>coding</b><br> Model and entrepreneur Karlie Kloss <br> shares more about her own <br> interest in learning to code, <br> and why you should give <br> it at least one hour. <br> Start learning at ...",
          "Query: <b>coding</b><br> I started programming 7 years <br> ago because I wanted to <br> be an entrepreneur. It took <br> a lot of failures to <br> get to where I am <br> now with a startup and <br> a couple of side ...",
          "Query: <b>coding</b><br> how to start coding and <br> learn coding and become a <br> computer programmer easy step by <br> step guide and tutorials for <br> beginners to learn Computer programming <br> c ...",
          "Query: <b>coding</b><br> Web Development Syllabus I made <br> with tons of resources: https://novicedock.com/learn/computer-science/web-development <br> Learn iOS Development: ...",
          "Query: <b>coding</b><br> Sekarang adalah tahun 2017, semua <br> bisa diselesaikan dengan sekali klik <br> di ponsel atau komputermu. Kamu <br> ingin memesan makan malam, kamu <br> tinggal klik ...",
          "Query: <b>coding</b><br> Want to land jobs at <br> Facebook/Google/Microsoft/Amazon? Learn how to do <br> that here: http://techinterviewpro.com/ ▻ Resume <br> Template and Cover letter I <br> used ...",
          "Query: <b>coding</b><br> Amazon coding interview question and <br> answer - recursive staircase problem! <br> For daily coding problems like <br> this one, I'd recommend this <br> website called Daily ...",
          "Query: <b>coding</b><br> I left a physics job <br> to do software engineering. Was <br> it worth it? What do <br> software engineers actually do? Thank <br> you to YouTube for sponsoring <br> this video!",
          "Query: <b>coding</b><br> Not a computer scientist or <br> new to coding? That's Ok! <br> Learn how to introduce coding <br> with your students using Minecraft: <br> Education Edition in just a <br> few minutes.",
          "Query: <b>coding</b><br> Bobby Davis explains what coding <br> project to build, how to <br> build it, and how to <br> present it to an employer. <br> WHAT TO BUILD Use a <br> design pattern, like MVC Include <br> ...",
          "Query: <b>coding</b><br> Whether you're learning to code <br> or practicing the skills you've <br> already learned, coding games offer <br> a fun and challenging way <br> to level up your programming <br> ...",
          "Query: <b>coding</b><br> 2018 H1 Student Outcomes for <br> Hack Reactor (See Page 2): <br> ...",
          "Query: <b>coding</b><br> In this challenge, I attempt <br> to make my own version <br> of Google's Dinosaur Game (T-Rex <br> run!) with a unique twist <br> -- controlling the dinosaur (unicorn, <br> in this case) ...",
          "Query: <b>coding</b><br> Coding on the iPad Pro <br> is a great experience. In <br> this video I'll show you <br> the apps and workflows I <br> use to build apps and <br> automation utilities directly on the <br> iPad.",
          "Query: <b>coding</b><br> that feeling when you have <br> a phone interview for a <br> job and it goes horribly <br> this is the long awaited <br> followup to this video on <br> coding interviews in silicon valley <br> ...",
          "Query: <b>coding</b><br> Ex-Google Tech Lead explains why <br> programming is so hard. Join <br> me in my new coding <br> interview training program: http://techinterviewpro.com/ Join <br> ...",
          "Query: <b>coding</b><br> Learn what computer programming is. <br> The Hour of Code™ is <br> a nationwide initiative by Computer <br> Science Education Week and Code.org <br> to introduce millions of ...",
          "Query: <b>coding</b><br> Find the first recurring character <br> in the given string! A <br> variation of this problem: find <br> the first NON-recurring character. This <br> variation problem and many others <br> are ...",
          "Query: <b>coding</b><br> You've taken a few developer <br> / coding courses ... but <br> you're not sure which way <br> to go, in terms of <br> career? In this video, I <br> answer a few coding career <br> questions ...",
          "Query: <b>data science</b><br> Want to land jobs at <br> Facebook/Google/Microsoft/Amazon? Learn how to do <br> that here: http://techinterviewpro.com/ ▻ Resume <br> Template and Cover letter I <br> used ...",
          "Query: <b>data science</b><br> This Data Science tutorial video <br> will give you an idea <br> on the life of a <br> Data Scientist, steps involved in <br> Data science project, roles & <br> salary offered to a Data <br> ...",
          "Query: <b>data science</b><br> Learn Data Science is this <br> full tutorial course for absolute <br> beginners. Data science is considered <br> the \"sexiest job of the <br> 21st century.\" You'll learn the <br> important ...",
          "Query: <b>data science</b><br> Data Science Master Program: https://www.edureka.co/masters-program/data-scientist-certification <br> ** This Edureka Data Science <br> Full Course video will help <br> you ...",
          "Query: <b>data science</b><br> В сегодняшнем выпуске у меня <br> в гостях Data Scientist компании <br> Banuba - Вячеслав Архипов. Слава <br> провел полный экскурс...",
          "Query: <b>data science</b><br> In this talk Mr.Asitang Mishra <br> relates his experiences as a <br> Data Scientist at the world <br> famous NASA Jet Propulsion Laboratory <br> (JPL). With his wit, intellect, <br> and ...",
          "Query: <b>data science</b><br> So, you want to become <br> a data scientist? Great! Check <br> out the ultimate guide: http://bit.ly/2P1FEJl <br> or watch this video to <br> learn what you need. Data <br> science is a ...",
          "Query: <b>data science</b><br> Want to land jobs at <br> Facebook/Google/Microsoft/Amazon? Learn how to do <br> that here: http://techinterviewpro.com/ ▻ Sign <br> up for FREE daily ...",
          "Query: <b>data science</b><br> Hi, I'm Prashant Kathuria, a <br> data scientist, passionate coder and <br> Deep Learning enthusiast. This is <br> a video of one day <br> of my life at upGrad <br> as a Senior Data ...",
          "Query: <b>data science</b><br> Peranan Data Science sangat penting <br> di era Big Data saat <br> ini. Berbagai jenis data perlu <br> diolah sehingga dapat memberikan saran <br> untuk langkah ke depannya ...",
          "Query: <b>data science</b><br> How big data starts to <br> drive the world, and what <br> kind of skills will you <br> need to interpret it? General <br> Director of Alto Data Analytics, <br> Jose Miguel Cansado, has ...",
          "Query: <b>data science</b><br> Want to land jobs at <br> Facebook/Google/Microsoft/Amazon? Learn how to do <br> that here: http://techinterviewpro.com/ ▻ Resume <br> Template and Cover letter I <br> used ...",
          "Query: <b>data science</b><br> Here are my pick of <br> the best online data science <br> courses:- MY COMPLETE PYTHON PROGRAMMER <br> COURSE IS HERE http://bit.ly/2OwUA09 Coursera <br> Data ...",
          "Query: <b>data science</b><br> The average salary in Data <br> Science is $120000, while the <br> average salary in Data Analytics <br> is $70000. So can a <br> data analyst become a data <br> scientist? Learn all ...",
          "Query: <b>data science</b><br> Skillshare might not like this. <br> You can sign up for <br> a 2 month trial for <br> Skillshare, complete the data science <br> course and then cancel your <br> membership before being ...",
          "Query: <b>data science</b><br> Python é o novo Excel? <br> Para que serve o R, <br> Pandas e Jupyter? E qual <br> é, afinal, a diferença entre <br> o Data Science, Business Intelligence <br> e Machine Learning?",
          "Query: <b>data science</b><br> Learn Advanced Data Analytics www.DataStrategyWithJonathan.com.",
          "Query: <b>data science</b><br> Want to land jobs at <br> Facebook/Google/Microsoft/Amazon? Learn how to do <br> that here: http://techinterviewpro.com/ ▻ Resume <br> Template and Cover letter I <br> used ...",
          "Query: <b>data science</b><br> Talking data science with Mansha, <br> a data scientist at Instagram. <br> Previously at Blue Apron, Ernst <br> & Young and UPenn. Want <br> to learn data science with <br> a job ...",
          "Query: <b>data science</b><br> Как найти работу в Data <br> Science, если у тебя еще <br> нет рабочего опыта? - Стоит <br> ли тратить время на kaggle? <br> - Какой путь...",
          "Query: <b>data science</b><br> How to Become a Data <br> Scientist Do you want to <br> become a data scientist? In <br> this short film I show <br> you all the steps necessary <br> to become a data scientist.",
          "Query: <b>data science</b><br> The world of data and <br> data science can seem overwhelming! <br> But don't worry! We've got <br> you covered! In this Introduction <br> to Data Science video, we'll <br> show you ...",
          "Query: <b>data science</b><br> Hello Dosto, Awesome Data Science <br> 6 Courses Bundle- http://www.a-leap.com/bundles?bundle_id=data-scientist-bundle Read <br> 2 books for FREE- ...",
          "Query: <b>data science</b><br> Data Scientist Masters Program: https://www.edureka.co/masters-program/data-scientist-certification <br> ** This Edureka video on <br> \"What is Data Science\" will <br> ...",
          "Query: <b>data science</b><br> Want to land jobs at <br> Facebook/Google/Microsoft/Amazon? Learn how to do <br> that here: http://techinterviewpro.com/ ▻ Resume <br> Template and Cover letter I <br> used ...",
          "Query: <b>data science</b><br> Data Science in Hindi Learn <br> Digital Marketing(Offline Course) Or Make <br> Your Business Digital With Lapaas- <br> Digital Marketing Institue and Agency. <br> Join Our Most ...",
          "Query: <b>data science</b><br> Learn the basic components of <br> Data Science in this crash <br> course for beginners. If you <br> want to learn more about <br> data science after completing this <br> course, check ...",
          "Query: <b>data science</b><br> In this episode of our <br> “Day in the Life” series, <br> Chevron Data Scientist Alena Crivello <br> describes her use of analytics <br> to find solutions to complex <br> problems.",
          "Query: <b>data science</b><br> The median salary for a <br> mid-level Data Scientist is $128750 <br> while web developers made a <br> median salary of $67990. Does <br> that mean it's better to <br> become a data ...",
          "Query: <b>data science</b><br> With her PhD in math, <br> Ivana Seric had expected to <br> wind up with a career <br> in academia—but thanks to the <br> growing use of statistical analysis <br> in the NBA, she took <br> ...",
          "Query: <b>data science</b><br> Talking data science with Michael, <br> a data scientist at Google. <br> Previously at Mercedes. Want to <br> learn data science with a <br> job guarantee? Check out Springboard's <br> ...",
          "Query: <b>data science</b><br> Data Analytics Masters' Program: https://www.edureka.co/masters-program/data-analyst-certification <br> ** ** Data Scientist Masters' <br> Program: ...",
          "Query: <b>data science</b><br> This Data Science tutorial will <br> help you in understanding what <br> is Data Science, why we <br> need Data Science, prerequisites for <br> learning Data Science, what does <br> a ...",
          "Query: <b>data science</b><br> Hello All in this video <br> we will understand how we <br> can learn Data Science Smartly <br> Please join as a member <br> in my channel to get <br> additional benefits like materials ...",
          "Query: <b>data science</b><br> We will use glassdoor platform <br> to figure out current salary <br> trends in USA and India <br> for data scientist. The salary <br> depends on three key factors <br> (1) location (2) ...",
          "Query: <b>data science</b><br> This video on Data Science <br> is a full course compilation <br> that will help you gain <br> all the concepts (5:51), techniques <br> (30:23), and algorithms (2:30:10 onwards) <br> ...",
          "Query: <b>data science</b><br> Learn all the skills you <br> need to get an entry-level <br> data science job from Frank <br> himself: http://engineeredtruth.com/skillshare-data-science Rich Friends, Poor <br> ...",
          "Query: <b>data science</b><br> Положи начало профессии мечты с <br> курсом ⇒ http://bit.ly/pythonskillbox Преподаватель Data <br> Science в Skillbox Валентин Пановский...",
          "Query: <b>data science</b><br> مساء الخير ازيكم زي ما <br> وعدتكم المرة اللي فاتت ان <br> شاء الله المرة دي حنتكلم <br> عن الفروق بين مجالات مسمياتها...",
          "Query: <b>data science</b><br> Un data scientist es el <br> encargado en una organización que <br> busca encontrar verdades a través <br> del análisis masivo de datos <br> para poder guiar al equipo <br> en la ...",
          "Query: <b>data science</b><br> Стрим с ответами на вопросы: <br> https://www.youtube.com/watch?v=hg66smsgJ7k Как перейти в big <br> data из другой профессии: ...",
          "Query: <b>data science</b><br> Netflix is bringing engaging, culturally <br> diverse stories to people all <br> across the globe. With each <br> original movie or TV show, <br> we learn more about what <br> our ...",
          "Query: <b>data science</b><br> Intellipaat Python for Data Science <br> Course: https://intellipaat.com/python-for-data-science-training/ In this python <br> for data science video you <br> will learn end to end <br> ...",
          "Query: <b>data science</b><br> Meesho App को डाउनलोड करे <br> और फ्री में 10 हज़ार <br> तक कमाए - https://meesho.com/invite/PRAVEEN837 and <br> Watch the Meesho tutorial to...",
          "Query: <b>data science</b><br> Chatting cats & dogs subreddits <br> with Katie, data scientist @Reddit. <br> Learn data science with a <br> job guarantee: ...",
          "Query: <b>data science</b><br> Hello All, In this video <br> you are going to see <br> my path on becoming a <br> Data Scientist. Please join as <br> a member in my channel <br> to get additional benefits like <br> ...",
          "Query: <b>data science</b><br> Записывайся на годовой курс по <br> Data Science школы данных SkillFactory: <br> https://clc.to/FMZ_dg. А по промокоду CODE <br> BLOG можно получить...",
          "Query: <b>data science</b><br> Um dos grandes diferencias do <br> Nubank é que todas as <br> nossas decisões de negócio e <br> produtos são tomadas a partir <br> de dados. Para fazer com <br> isso seja ...",
          "Query: <b>data science</b><br> Chatting data science interviews and <br> career with Eva, a data <br> scientist @Uber, formerly Amazon. Learn <br> data science with a job <br> guarantee: ...",
          "Query: <b>data science</b><br> Chatting bikes & scooters with <br> Shae, data scientist @Uber. Learn <br> data science online with a <br> job guarantee: ...",
          "Query: <b>dogs</b><br> The funniest dog videos that <br> will make you laugh so <br> hard that you will pee <br> your pants! Dogs and puppies <br> are the best entertainment. Funny <br> dog videos never fail ...",
          "Query: <b>dogs</b><br> Enjoy new funniest and very <br> cute compilation of the week <br> about try not laugh funny <br> animals' life video. Cats are <br> surely the most popular pets <br> and awesome ...",
          "Query: <b>dogs</b><br> Brand new weekly theme compilation <br> where we challenge you to <br> Try Not To Laugh at <br> these Funny Dogs. Funny Pet <br> Videos brings you the best <br> cute animal ...",
          "Query: <b>dogs</b><br> TV for Dogs! Chill Your <br> Dog Out with this 24/7 <br> TV and Music Playlist! - <br> If you're looking for a <br> way to entertain your bored <br> dog without getting them too <br> hyperactive, ...",
          "Query: <b>dogs</b><br> Check out more awesome videos <br> : https://www.youtube.com/user/CopyMafia?sub_confirmation=1 Facebook : ViralBe.Official <br> Instagram : ViralBe.Official There ...",
          "Query: <b>dogs</b><br> Brand new weekly try not <br> to laugh compilation featuring the <br> funniest and cutest animals and <br> pets of January 2019! Funny <br> Vines brings you the best <br> V2 Funny ...",
          "Query: <b>dogs</b><br> Try Not To Laugh - <br> Funny Animals Videos 2019 - <br> Dogs Are So Weird Heads <br> up, folks. You're about to <br> watch some craziest fails video <br> on the internet. Welcome ...",
          "Query: <b>dogs</b><br> Bravecto #anipetshop.com ✈✈✈Shop Pet Medicines <br> : https://anipetshop.com ©BUY NOW : <br> Bravecto, Nexgard, Heartgard, Revolution,..... ▻Worldwide <br> FREE ...",
          "Query: <b>dogs</b><br> In this video compilation you <br> can meet funnie4st and adorable <br> babies which love dogs and <br> cats. This cute babies playing <br> with pets and are happy. <br> SUBSCRIBE ...",
          "Query: <b>dogs</b><br> How to Keep Your Dog <br> Healthy. If you're a dog <br> owner, you surely want your <br> pet to be healthy and <br> to live a long and <br> happy life. But you might <br> sometimes do ...",
          "Query: <b>dogs</b><br> Pink Floyd - Dogs Animals <br> (1977) *No copyright infringement intended.",
          "Query: <b>dogs</b><br> There's really no way to <br> properly describe the experience of <br> being on a South Korean <br> dog meat farm. Follow HSI's <br> Nicole Jaworski as she gets <br> her first up-close ...",
          "Query: <b>dogs</b><br> Dog's heroics will make you <br> cry! Donate at https://www.guidedogs.org/pip Click <br> here for the audio description <br> for the visually impaired: ...",
          "Query: <b>dogs</b><br> Dog Reviews Food With Husky <br> | Tucker Taste Test 17 <br> Tucker's Husky friend Echo spent <br> the weekend over for a <br> play date and Tucker told <br> her she needed to join <br> ...",
          "Query: <b>dogs</b><br> Jokes about my fear of <br> dogs & dog-owners. Hope you <br> like it. If you do, <br> please share it & also <br> don't forget to subscribe :) <br> Ticket link for India tour <br> ...",
          "Query: <b>dogs</b><br> In this video, Crusoe and <br> Oakley the miniature #dachshunds get <br> locked up in jail for <br> a misdewiener crime and then <br> have to find a way <br> to bust themselves out in <br> ...",
          "Query: <b>dogs</b><br> We've collected the most precious <br> moments from our beloved canine <br> companions: from cute puppies opening <br> their eyes for the first <br> time, to loyal wild dogs <br> and ...",
          "Query: <b>dogs</b><br> Dogs and puppies are super <br> funny and hilarious, they make <br> us laugh all the time! <br> The hardest TRY NOT TO <br> LAUGH challenge in the World! <br> Just look how all ...",
          "Query: <b>dogs</b><br> LuxuryDark: https://www.youtube.com/watch?v=cOZfhRqwSt4 *100000 likes for <br> next episode* In this episode, <br> Parker and Chester investigate a <br> situation for a ...",
          "Query: <b>dogs</b><br> Scientists, experts and common dog <br> lovers can't agree on which <br> dog breed should be considered <br> the most dangerous in the <br> world. However, due to frequent <br> ...",
          "Query: <b>dogs</b><br> Watch Part 2 now - <br> https://youtu.be/iv8Z4u5ZqWw Southern China has always <br> had a tradition of dining <br> on dogs—people from other parts <br> of the country even ...",
          "Query: <b>dogs</b><br> OMG! Husky Can Speak English! <br> - Language Of Cats And <br> Dogs - Pets Paws Video <br> 2020 ▻ Link video: https://youtu.be/TUCQAruhEKI <br> ▻ Subscribe: ...",
          "Query: <b>dogs</b><br> Rescue Dogs Buried In Giant <br> Pile Of Rocks... Rescue Dog <br> Story Touched Millions Of Hearts <br> Love Animal World would like <br> to send you the list <br> of the most ...",
          "Query: <b>dogs</b><br> Check out more awesome videos <br> : https://www.youtube.com/user/CopyMafia?sub_confirmation=1 Facebook : ViralBe.Official <br> Instagram : ViralBe.Official The ...",
          "Query: <b>dogs</b><br> Surprising My Dog With His <br> Girlfriends Tucker just loves to <br> play with his best friends. <br> Today we decided to surprise <br> him with his favorite puppy <br> girlfriends.",
          "Query: <b>dogs</b><br> Rescue Abandoned Puppies Building Mud <br> House Dog And Fish Pond <br> For Red Fish. In my <br> place have a lots of <br> puppies abandoned every where, so <br> i decide to ...",
          "Query: <b>dogs</b><br> Tiniest Puppy Loves To Race <br> Around On His Wheels | <br> Imagine if this was your <br> dog Try and keep up <br> with TurboRoo the two-legged chihuahua <br> by following ...",
          "Query: <b>dogs</b><br> TRY NOT TO CRY: Dogs <br> Meet Their Owner After Long <br> Time - Part II. AMAZING <br> video. Subscribe: http://bit.ly/FunnyPetMedia | Facebook: <br> ...",
          "Query: <b>dogs</b><br> Meet the top 10 biggest <br> dogs in the world. Despite <br> their large size they are <br> not dangerous and many children <br> would be happy to have <br> them as pets.",
          "Query: <b>dogs</b><br> Baby Animals Funny Cats and <br> Dogs Videos Compilation (2019) Perros <br> y Gatos Recopilación #10 Cats <br> are cute and funny. Dogs <br> are awesome. Check out ...",
          "Query: <b>dogs</b><br> We got a call to <br> rescue a dog fighting for <br> her life after falling in <br> a deep well. She may <br> have been swimming for hours <br> before a villager saw her <br> and called our ...",
          "Query: <b>dogs</b><br> Want to find a girlfriend <br> or boyfriend? Watch and learn <br> how this funny crab deals <br> with this problem: https://www.youtube.com/watch?v=xLeGyMh1LuI If <br> u ask a ...",
          "Query: <b>dogs</b><br> Wow!!! Amazing Videos Real Dog <br> Meeting On The Street ~ <br> Funny Animals Pets And Rural <br> Puppy I will Share you <br> about Animal Feeding and Everything <br> related ...",
          "Query: <b>dogs</b><br> Thank you for watching videos <br> :) Hope you like our <br> compilation, please share it and <br> SUBSCRIBE channel NHD-TV ! Watch <br> also our other videos!",
          "Query: <b>dogs</b><br> Dog And Baby Take A <br> Swim Very Funny Time | <br> Funny Baby Video Description: Funny <br> Dogs Playing With Water. Dogs <br> and water will always have <br> a love/hate ...",
          "Query: <b>dogs</b><br> There are many factors that <br> play a role when assigning <br> a “danger” level to a <br> dog but most critics and <br> researchers disagree as to what <br> these factors are.",
          "Query: <b>dogs</b><br> top 10 of the most <br> expensive dog breeds in the <br> world Subscribe to our channel: <br> http://goo.gl/9CwQhg For copyright matters please <br> contact us at: ...",
          "Query: <b>dogs</b><br> Since dogs can't talk, it <br> is tough to know what <br> they are thinking. It is <br> also difficult to understand why <br> they do the things they <br> do. Fortunately, there are a <br> few ...",
          "Query: <b>dogs</b><br> Check out more awesome videos <br> : https://www.youtube.com/user/CopyMafia?sub_confirmation=1 Facebook : ViralBe.Official <br> Instagram : ViralBe.Official ...",
          "Query: <b>dogs</b><br> TechZone ▻ https://goo.gl/Gj3wZs Have you <br> noticed that there're always a <br> lot of videos with cute <br> animals on the Internet? Of <br> course, we love every and <br> each of ...",
          "Query: <b>dogs</b><br> These following cute cross breed <br> dogs are so fascinating, you'd <br> want one for yourself. Keep <br> watching to see just what <br> type of breeds people have <br> been creating ...",
          "Query: <b>dogs</b><br> I challenge anyone watching this <br> video to try not to <br> laugh when you see the <br> dog reaction to dog cake. <br> Because the dog is in <br> complete shock as it watches <br> the ...",
          "Query: <b>dogs</b><br> दुनिया कि सबसे खतरनाक कुत्ता <br> | Most Dangerous Dog Breeds <br> dangerous dogs in India dog <br> attack in India sabse khatarnak <br> kutta dogs that are banned <br> ...",
          "Query: <b>dogs</b><br> Subscribe to Earth Unplugged for <br> more awesome slo mo videos <br> -- http://goo.gl/VK1MH It's another dog <br> vs cat battle this week, <br> as the boys film the <br> world's fastest ...",
          "Query: <b>dogs</b><br> TV For Dogs: Interactive Dog <br> TV | 7 Hours of <br> Entertainment - Keep your dog <br> stimulated for hours with our <br> entertaining and engaging video for <br> dogs! Filmed at ...",
          "Query: <b>dogs</b><br> 10 Amazing Dogs Who Saved <br> Their Owners ▻ Subscribe: https://goo.gl/vHN6qB <br> For copyright matters please contact <br> us at: miniminter1992.29@gmail.com ...",
          "Query: <b>dogs</b><br> Dog Reviews Food With Girlfriend <br> | Tucker Taste Test 12 <br> Tucker had his girlfriend Journee <br> over today and she wanted <br> to join in on the <br> food reviews and taste ...",
          "Query: <b>dogs</b><br> Diesel the husky is a <br> dog with a dark side, <br> he's a perfect dog when <br> his 'dad' Jordan is around, <br> but when left with Becky <br> he will hump, jump and <br> bite anyone he ...",
          "Query: <b>dogs</b><br> Dog Reviews Food With Puppy <br> | Tucker Taste Test 15 <br> Tucker's puppy pal Flutter was <br> recently over for a play <br> date, and she wanted to <br> join in on the taste <br> testing ...",
          "Query: <b>cats</b><br> This Christmas, you will believe. <br> #CatsMovie Facebook: http://unvrs.al/catsFB Twitter: http://unvrs.al/catsTW <br> Instagram: http://unvrs.al/catsIG Site: ...",
          "Query: <b>cats</b><br> Cats are amazing creatures because <br> they make us laugh all <br> the time! Watching funny cats <br> is the hardest try not <br> to laugh challenge! Just look <br> how all these cats ...",
          "Query: <b>cats</b><br> Cats Was The Biggest Flop <br> And This Is Why Subscribe <br> to our channel: http://bit.ly/Subscribe-to-Screenrant Welcome <br> back ScreenRanters! Oh gosh, do <br> we have ...",
          "Query: <b>cats</b><br> Chris Stuckmann reviews Cats, starring <br> James Corden, Judi Dench, Jason <br> Derulo, Idris Elba, Jennifer Hudson, <br> Ian McKellen, Taylor Swift, Rebel <br> Wilson, ...",
          "Query: <b>cats</b><br> if you love cats so <br> much this video is for <br> you. Watch this cute and <br> funny moment of cat and <br> kittens filling joy in their <br> house. This video is full <br> pf cats and kittens. but <br> ...",
          "Query: <b>cats</b><br> Try Not To Laugh Animals <br> - Funny Cats Videos 2019 <br> - Cats Clean Vines Compilation <br> Heads up, folks. You're about <br> to watch some craziest fails <br> video on the ...",
          "Query: <b>cats</b><br> Check out the official Cats <br> trailer starring Idris Elba! Let <br> us know what you think <br> in the comments below. ▻ <br> Buy Tickets for Cats: ...",
          "Query: <b>cats</b><br> Here is a video of <br> cats and kittens meowing to <br> confuse your pets Puppies & <br> Babies & Kitties OH MY! <br> New videos all the time! <br> Subscribe: ...",
          "Query: <b>cats</b><br> Check out the official Cats <br> trailer starring Taylor Swift! Let <br> us know what you think <br> in the comments below. ▻ <br> Buy Tickets for Cats: ...",
          "Query: <b>cats</b><br> Our cat Lily had kittens <br> - watch them meow and <br> play! We also found a <br> mama cat and 4 kittens <br> in a park nearby and <br> watched them purr and meow <br> for food.",
          "Query: <b>cats</b><br> Well well well, cats for <br> you again. But this time, <br> even better, even funnier, even <br> more hilarious! We know you <br> like these furries the most, <br> so that's why we keep <br> ...",
          "Query: <b>cats</b><br> HUG CHALLENGE! Do cats like <br> to be hugged? * Kittisaurus <br> & CreamHeroes Goods https://www.amazon.com/shops/creamheroes.",
          "Query: <b>cats</b><br> Ab 25. Dezember im Kino <br> https://www.facebook.com/CatsFilm.DE/ Andrew Lloyd Webbers weltweiter <br> Musicalerfolg „Cats“ brach alle Rekorde <br> – nun erschafft der ...",
          "Query: <b>cats</b><br> Cats might have nine lives <br> but the film adaptation of <br> Cats was basically dead on <br> arrival. Perhaps it sounds overly <br> dramatic to declare Tom Hooper's <br> Cats a ...",
          "Query: <b>cats</b><br> You're invited to the most <br> joyful event of the holiday <br> season. Watch the new trailer <br> for CATS now. ✨ #CatsMovie <br> Facebook: http://unvrs.al/catsFB Twitter: ...",
          "Query: <b>cats</b><br> These cats got caught... and <br> they know it! Subscribe: http://bit.ly/FunnyPetMedia <br> | Submit your video: http://bit.ly/submit-your-vid <br> Business inquiries/contact: ...",
          "Query: <b>cats</b><br> Baby and Cat Fun and <br> Fails - Funny Baby Video <br> ▯Link video:https://youtu.be/7na_-LfGfpE Thanks for watching! <br> Wait to see more new <br> video everyday on Fun ...",
          "Query: <b>cats</b><br> Suscríbete a nuestro canal: http://bit.ly/Suscribete__ <br> Después de que el tráiler <br> de \"Cats\" se estrenó en <br> julio, Internet ha expresado su <br> confusión general sobre la ...",
          "Query: <b>cats</b><br> CATS 25 DECEMBRE 2019 Genre: <br> Comédie musicale Distribution: James Corden, <br> Judi Dench, Jason Derulo, Idris <br> Elba, Jennifer Hudson, Ian McKellen, <br> Taylor ...",
          "Query: <b>cats</b><br> SUBSCRIBE for more TheThings ▻ <br> http://bit.ly/TheThingsSub The Cutest Baby Yoda <br> Scenes That Make Us Melt <br> Inside ▻ https://youtu.be/oxZbEHo-S1g 10 ...",
          "Query: <b>cats</b><br> In cinemas December 20 Follow <br> us on Facebook at https://www.facebook.com/CatsMovieUK/ <br> Find us on Instagram at <br> ...",
          "Query: <b>cats</b><br> Let's all pay our condolences <br> to Cats as it fades <br> away to the Heaviside Layer. <br> The film adaptation of the <br> famous Andrew Lloyd Webber stage <br> musical finally hit ...",
          "Query: <b>cats</b><br> Cats are awesome, and super <br> funny too! Who doesn't like <br> cats and kittens? They make <br> us laugh and happy! Just <br> look how they play, sleep, <br> fail, get along with ...",
          "Query: <b>cats</b><br> Cat-astrophic special effects ruin Tom <br> Hooper's adaptation of the classic <br> Andrew Lloyd Webber stage musical.",
          "Query: <b>cats</b><br> We visit a Cat Cafe <br> where cats and kittens play <br> and meow around you while <br> you drink your coffee. All <br> cats are well cared for <br> and are available for sale <br> or ...",
          "Query: <b>cats</b><br> You have likely seen or <br> at least heard of the <br> Andrew Llyod Webber musical “Cats,” <br> but did you really understand <br> what you were watching? The <br> bizarre story ...",
          "Query: <b>cats</b><br> This video is from SPOCKCOMEDIA <br> YouTube channel Thanks for your <br> video if you like this <br> video please share and leave <br> a like and comment and <br> don't forgot to ...",
          "Query: <b>cats</b><br> Stacy loves her cat and <br> comes up with funny children's <br> stories with her participation. Subscribe <br> to Like Nastya Vlog - <br> https://is.gd/gdv8uX ...",
          "Query: <b>cats</b><br> Kitties are trying to save <br> treats in water! * Kittisaurus <br> & CreamHeroes Goods https://www.amazon.com/shops/creamheroes.",
          "Query: <b>cats</b><br> Cats estreou no final de <br> 2019 e logo ganhou o <br> status de um dos piores <br> filmes da década. Mas será <br> que o longa é tão <br> ruim assim? Confira agora nosso <br> veredito!",
          "Query: <b>cats</b><br> Meowing, Purring, Trilling, Chattering, Yowling, <br> Hissing and Growling Cats! … <br> Have your cats made all <br> of these noises? Subscribe: ...",
          "Query: <b>cats</b><br> Today, I tried \"Invisible Wall <br> Challenge\" with kitties! * Kittisaurus <br> & CreamHeroes Goods https://www.amazon.com/shops/creamheroes.",
          "Query: <b>cats</b><br> Watching funny baby cats is <br> the hardest try not to <br> laugh challenge. Baby cats are <br> amazing creature because they are <br> the cutest and most funny. <br> This is the cutest ...",
          "Query: <b>cats</b><br> Today I take my munchkin <br> cats to the pet store <br> and buy them everything they <br> touch. Then the cats play <br> with their new toys, cat <br> foods, cat toys that they <br> wanted.",
          "Query: <b>cats</b><br> Try Not To Laugh or <br> Grin While Watching Funny Dogs <br> & Cats Vines compilation 2017 <br> IMPOSSIBLE CHALLENGE! Subscribe to CooL <br> Vines ...",
          "Query: <b>cats</b><br> Cats are simply the funniest <br> and most hilarious pets, they <br> make us laugh all the <br> time! Just look how all <br> these cats & kittens play, <br> fail, get along with dogs <br> and ...",
          "Query: <b>cats</b><br> Cats scared of Cucumbers Compilation <br> - Cats Vs Cucumbers - <br> Funny Cats Cats Vs Cucumbers <br> Part 4 - https://youtu.be/KLZvYrvYi0c Cats <br> Vs Cucumbers Part 3 ...",
          "Query: <b>cats</b><br> PLAYING DEAD PRANK I played <br> dead to see how the <br> kitties react! * Kittisaurus & <br> CreamHeroes Goods https://www.amazon.com/shops/creamheroes.",
          "Query: <b>cats</b><br> Watching funny baby cats is <br> the hardest try not to <br> laugh challenge. Baby cats are <br> amazing creature because they are <br> the cutest and most funny. <br> This is the cutest ...",
          "Query: <b>cats</b><br> 初めて伊勢海老を見た猫たち♪ 元気な伊勢海老におっかなびっくり Facebookhttps://www.facebook.com/10-Cats-929118100482897/ Instagram ...",
          "Query: <b>cats</b><br> My kitties love boxes! * <br> Kittisaurus & CreamHeroes Goods https://www.amazon.com/shops/creamheroes.",
          "Query: <b>cats</b><br> Watch part one of Jellicle <br> Songs! Lyrics: Are you blind <br> when you're born? Can you <br> see in the dark? Dare <br> you look at a king? <br> Would you sit on his <br> throne?",
          "Query: <b>cats</b><br> Watching funny baby cats is <br> the hardest try not to <br> laugh challenge. Baby cats are <br> amazing pets because they are <br> the cutest and most funny. <br> This is the cutest ...",
          "Query: <b>cats</b><br> In this video I show <br> you how to make Giant <br> Cardboard Maze Game for your <br> cat or kittens. It's a <br> fun project for you and <br> your pets. If you like <br> the video, share it, like <br> ...",
          "Query: <b>cats</b><br> Meet the smallest cats in <br> the world. If you like <br> cats, then these small and <br> cute versions will enchant you. <br> Here is the list of <br> the smallest cats in the <br> world. -Lilieput ...",
          "Query: <b>cats</b><br> I was going to do <br> a totally different video this <br> week but then I saw <br> Cats and I have some <br> thoughts. Seriously if you guys <br> have any ideas on how <br> to make them ...",
          "Query: <b>cats</b><br> FEARLESS CATS. These cats are <br> COURAGEOUS! Subscribe: http://bit.ly/EpicLaughsChannel | Facebook: <br> http://bit.ly/EpicLaughsFB Submit your video: ...",
          "Query: <b>cats</b><br> Stina and Mossy usually fight <br> instead of communicate, so this <br> was an odd moment. They <br> kept \"talking\" for about one <br> hour, constantly. Thanks for all <br> the positive ...",
          "Query: <b>cats</b><br> Watch part 1 of Mr <br> Mistoffelees. Buy tickets for your <br> nearest CATS performance now: http://www.catsthemusical.com/see-the-show <br> Lyrics: You ought to ask <br> Mr.",
          "Query: <b>kittens</b><br> Bravecto #anipetshop.com ✈✈✈Shop Pet Medicines <br> : https://anipetshop.com ©BUY NOW : <br> Bravecto, Nexgard, Heartgard, Revolution,..... ▻Worldwide <br> FREE ...",
          "Query: <b>kittens</b><br> In this adorable and information-packed <br> video, I'll teach you everything <br> you need to know about <br> how to determine a kitten's <br> age, what developmental milestones ...",
          "Query: <b>kittens</b><br> Thank you for watching, I <br> hope you enjoyed! ▷ Watch <br> more cute animal compilations! https://youtube.com/playlist?list=UU5ggtACLoJ3Ro8RNNgKfcvA <br> ...",
          "Query: <b>kittens</b><br> More amazing animal moments: https://youtube.com/playlist?list=PLWSopI47S5QOekTUcwVwYFFnFZ83Tnu1_ <br> Subscribe to CuteVN animals for <br> more ...",
          "Query: <b>kittens</b><br> These 5 extremely hyperactive kittens <br> are playing and running like <br> crazy and the mother cat <br> is being very patient with <br> them. The kittens are fighting <br> each other in ...",
          "Query: <b>kittens</b><br> From kittens playing with a <br> man's beard, kittens climbing on <br> the back of their owner, <br> to kittens playing in a <br> box, these are just a <br> few of the funny kittens <br> that will ...",
          "Query: <b>kittens</b><br> From cute kittens and bunnies <br> playing together, kittens trying to <br> stay awake, to cute kittens <br> enjoying bath time, these are <br> just a few of the <br> cute kittens you'll find in <br> ...",
          "Query: <b>kittens</b><br> My foster kittens are 3 <br> weeks old and learning how <br> to walk. Good job, babies!",
          "Query: <b>kittens</b><br> Little Kitten Adventures - Fun <br> Learning Games For Children By <br> Fox and Sheep GmbH ***************************************************************** <br> Click Here To ...",
          "Query: <b>kittens</b><br> Hello my beloved subscribers! in <br> this video is Rescue abandoned <br> kittens in black plastic bag <br> near the road and adopted <br> them. NOTE : Please open <br> your mind, ...",
          "Query: <b>kittens</b><br> Videos of awesome kids that <br> react to getting a kitten <br> or a puppy as a <br> gift / present surprise for <br> Christmas. Kittens and puppies are <br> apparently the best presents to <br> ...",
          "Query: <b>kittens</b><br> WOW! 11 meowing Ginger kittens <br> in a basket! Well, actually <br> 10 gingers and one all <br> white kitten. Still they are <br> very #cute and adorable as <br> they meow for attention.",
          "Query: <b>kittens</b><br> Kittens came out of the <br> hole and meows. Now they <br> use this hole for safety. <br> Calico cat feeding her kittens <br> in the bushes. Link annotation: <br> ...",
          "Query: <b>kittens</b><br> SPAY AND NEUTER! Kittens shouldn't <br> be having kittens, folks. Did <br> you know that a kitten <br> can get pregnant as young <br> as 4 months of age? <br> That's why you should ...",
          "Query: <b>kittens</b><br> The tigers meet the kittens <br> for the first time , <br> a bit different to when <br> they met the puppies . <br> Made with Samsung s7 edge.",
          "Query: <b>kittens</b><br> 00:09 - Three Little Kittens <br> Park - Cutians 02:36 - <br> Three Little Kittens food - <br> Cutians 05:03 - Three Little <br> Kittens farm - Cutians 07:29 <br> - Three Little Kittens Rio <br> ...",
          "Query: <b>kittens</b><br> Belly is one and a <br> half years old. She is <br> cute and clever. Cause I <br> got depression problems 3 years <br> ago. Life was hopeless. My <br> friends were suggested to me <br> to ...",
          "Query: <b>kittens</b><br> A new compilation video, including <br> one of our most recent <br> songs, \"Three Little Kittens\"! Subscribe <br> for new videos every week: <br> ...",
          "Query: <b>kittens</b><br> New little kitten hisses at <br> me. Someone abandoned kitten on <br> the street. Now he lives <br> in a rented apartment. http://www.robinseplut.site/ <br> ...",
          "Query: <b>kittens</b><br> Our cat Lily had kittens <br> - watch them meow and <br> play! We also found a <br> mama cat and 4 kittens <br> in a park nearby and <br> watched them purr and meow <br> for food.",
          "Query: <b>kittens</b><br> Little Kitten - My Favorite <br> Cat by Fox and Sheep <br> (New Update ) Play Fun <br> for Baby, Family, Toddlers or <br> Children Games The lovely kitten <br> is every child's dream ...",
          "Query: <b>kittens</b><br> Kittens Mambo, Samba, and Salsa- <br> 4.5 weeks These little guys <br> are in the weaning stage- <br> learning how to eat solid <br> food- so they are a <br> mess after mealtime!",
          "Query: <b>kittens</b><br> Follow The Kits Cats on <br> Facebook! https://www.facebook.com/drnworb/ And you thought <br> a den of snakes was <br> dangerous! For more videos of <br> our foster kittens ...",
          "Query: <b>kittens</b><br> Sick kittens were found in <br> the box. They were taken <br> to the vet clinic. At <br> the hospital, kittens were intensively <br> treated. #rescueanimals #rescue #rescuekitten.",
          "Query: <b>kittens</b><br> Watch this funny cat video <br> and you will never leave <br> your cat home alone again <br> :p https://www.youtube.com/watch?v=R5PHvKvOUJk Warning: do not <br> watch if ...",
          "Query: <b>kittens</b><br> Best Of CUTE Puppies and <br> Kittens | Cute Baby Animal <br> | Funny Everyday Complation ▯ <br> Link Video: https://youtu.be/NiNsxhKxKf8 WOA Funny <br> Video ...",
          "Query: <b>kittens</b><br> Don't let the cat out <br> of the box. Check out <br> more awesome BuzzFeedViolet videos! http://bit.ly/YTbuzzfeedviolet <br> Check out more awesome BuzzFeedYellow <br> ...",
          "Query: <b>kittens</b><br> Which kitten is smarter. BOY <br> or GIRL. I built a <br> giant water bottle maze to <br> find out. Like the video, <br> share it and comment. Thanks. <br> Music: \"Outfoxing the Fox\" Kevin <br> ...",
          "Query: <b>kittens</b><br> This wild little sweetheart was <br> so ill he couldn't move, <br> collapsed in the water of <br> a shallow drain. When rescuers <br> arrived, they found his face <br> covered in blood, too ...",
          "Query: <b>kittens</b><br> Cute is Not Enough - <br> Cute Cats and Kittens Doing <br> Funny Things 2018 #11 ▻Subscribe <br> for new video: http://goo.gl/Koxcb0 ▻Fanpage: <br> http://goo.gl/8JZskX ...",
          "Query: <b>kittens</b><br> This Video about our cat <br> Sparta. She ask us to <br> join her during the birth. <br> It's like: - hey come-on <br> upstairs, it's time. Instagram: ...",
          "Query: <b>kittens</b><br> Fostering orphan kittens means you <br> have fill in for their <br> mama--and that includes providing them <br> with comfort and warmth. Here's <br> my top 5 tips for <br> comforting a ...",
          "Query: <b>kittens</b><br> How to make Amazing Kitten <br> Cat Pet House from Cardboard <br> My kittens don't let me <br> make a match house. I <br> know why! They want their <br> own house. In this video, <br> I ...",
          "Query: <b>kittens</b><br> Kittens live under a concrete <br> slab.",
          "Query: <b>kittens</b><br> Cute Cats and Little Kittens <br> Meowing and Talking Compilation ▻Subscribe <br> for new video: http://goo.gl/Koxcb0 ▻Fanpage: <br> http://goo.gl/8JZskX ▻Thanks For ...",
          "Query: <b>kittens</b><br> ITS SO CUTE! MERCH http://bit.ly/NewDobreMerch <br> WE POST TUESDAY,THURSDAY, & SUNDAY! <br> TURN OUR POST NOTIFICATIONS ON <br> FOR A ...",
          "Query: <b>kittens</b><br> 7 week old fostered kittens <br> waiting on their dinner being <br> prepared. They had been ill <br> with cat flu and were <br> just starting to get their <br> appetite back. Because of their <br> ...",
          "Query: <b>kittens</b><br> Here is a video of <br> cats and kittens meowing to <br> confuse your pets Puppies & <br> Babies & Kitties OH MY! <br> New videos all the time! <br> Subscribe: ...",
          "Query: <b>kittens</b><br> This is the cutest thing <br> you'll see all day ❤ <br> (By, Cattralpark) » Check out <br> more on Instagram: https://instagram.com/cattralpark » <br> Visit: https://www.cattralpark.com ...",
          "Query: <b>kittens</b><br> 3 week old pure white <br> rescue kittens need a bath! <br> This video shows how to <br> bathe a kitten. These kittens <br> were rescued from a window <br> well in Philadelphia with ...",
          "Query: <b>kittens</b><br> The first bath of the <br> kitten is not so easy. <br> The rescue kitten is very <br> dirty and needs to be <br> washed thoroughly Please support us <br> by subscribing to our channel!",
          "Query: <b>kittens</b><br> Hi everybody ! This video <br> I want to send to <br> you that everything is possible. <br> The miracle has come to <br> the kitten and I thought <br> it could not escape. God <br> has saved it ...",
          "Query: <b>kittens</b><br> In this video I show <br> you how to make Giant <br> Cardboard Maze Game for your <br> cat or kittens. It's a <br> fun project for you and <br> your pets. If you like <br> the video, share it, like <br> ...",
          "Query: <b>kittens</b><br> Please don't forget to hit <br> the CC button for Subtitles* <br> Get Cat Kitten Apparel here: <br> http://bit.ly/CuteKittenApparelMerch Use code meme for <br> an Extra 5% discount ...",
          "Query: <b>kittens</b><br> Download Link Play iOS : <br> http://apple.co/2hSp7Fd ***************************************************************** ♥♥♥ Hi my <br> friends! If you enjoyed my <br> video ...",
          "Query: <b>kittens</b><br> If you bite the mic <br> then we can't use this <br> audio”. Check out more awesome <br> videos at BuzzFeedVideo! http://bit.ly/YTbuzzfeedvideo MUSIC <br> Hop Skip And A Jump <br> ...",
          "Query: <b>kittens</b><br> I want them all!\" GET <br> MORE BUZZFEED: https://www.buzzfeed.com https://www.buzzfeed.com/videos https://www.youtube.com/buzzfeedvideo <br> ...",
          "Query: <b>kittens</b><br> This is just unbelievable! Loreta <br> and I just completed the <br> rescue of Josephine and her <br> babies, and as we were <br> getting closer to Los Angeles, <br> we received a text ...",
          "Query: <b>kittens</b><br> What would happen to a <br> mother cat if she was <br> exposed to 5 hyperactive kittens <br> running like crazy all day <br> long? Our crazy active kittens <br> finally drove their patient ...",
          "Query: <b>monkeys</b><br> Funny monkeys in this funny <br> monkey videos compilation. Cute baby <br> monkey and funny adult monkeys <br> videos. Orangutan, chimp, capuchin monkey <br> and more.",
          "Query: <b>monkeys</b><br> 2nd single from debut EP <br> 'The Kids Are Coming' out <br> now. https://tonesandi.lnk.to/TheKidsAreComingYT Tones And I <br> - Dance Monkey ...",
          "Query: <b>monkeys</b><br> How to make fun with <br> monkeys - Everyday monkey funny <br> YouTube videos from Cambodia : <br> Today I am so happy <br> with play with monkeys because <br> bring the RC ...",
          "Query: <b>monkeys</b><br> Monkeys can be so amusing <br> :) Hope you like our <br> compilation, please share it and <br> SUBSCRIBE! Watch also our other <br> videos! WANT TO SEE YOUR <br> KID, ...",
          "Query: <b>monkeys</b><br> A funny monkey always produces <br> funny videos to look at. <br> Check out these funny monkey <br> videos. Monkeys are one of <br> the funniest animals. I wanted <br> to make a ...",
          "Query: <b>monkeys</b><br> What is going on guys, <br> Devin back here for a <br> new video! Today I am <br> bringing you guys a compilation <br> of monkeys reacting to magic! <br> Hope you enjoy watching ...",
          "Query: <b>monkeys</b><br> Join this troop of Langur <br> monkeys as they grieve the <br> fallen. Doesn't matter if it's <br> an animatronic Spy Monkey; it <br> was still part of the <br> family. Now scrub up, it's <br> time ...",
          "Query: <b>monkeys</b><br> Stream Tones and I - <br> Dance Monkey (Lyrics): https://spoti.fi/2LrpDX7 ✖ <br> BEST MUSIC ON SPOTIFY: https://spoti.fi/2LrpDX7 <br> ✖ FOLLOW MY AWESOME ...",
          "Query: <b>monkeys</b><br> Tones And I - Dance <br> Monkey (Lyrics) Stream Dance Monkey <br> here: ...",
          "Query: <b>monkeys</b><br> Tones And I - Dance <br> Monkey (Lyrics) 2nd single from <br> debut EP 'The Kids Are <br> Coming' out now. https://tonesandi.lnk.to/TheKidsAreComing Tones <br> And I - Dance ...",
          "Query: <b>monkeys</b><br> Tones And I - Dance <br> Monkey (Lyrics) Follow our Spotify <br> Playlist: https://loku.lnk.to/Spotify Stream/Download: https://tonesandi.lnk.to/DanceMonkeyYT Tones <br> And ...",
          "Query: <b>monkeys</b><br> Arctic Monkeys - 'Do I <br> Wanna Know?' from 'AM', released <br> 2013 on Domino Recording Co. <br> Subscribe to Arctic Monkeys on <br> YouTube: ...",
          "Query: <b>monkeys</b><br> Tones and I - Dance <br> Monkey (Lyrics) For more quality <br> music subscribe here ➡ http://po.st/thvbgd <br> We're on Spotify ➡ http://po.st/tvgsp <br> Turn on notifications to ...",
          "Query: <b>monkeys</b><br> Capuchin monkey visits the Starbucks <br> drive thru for a treat! <br> MonkeyBoo took a trip to <br> Starbucks for the first time <br> ever to see what all <br> the hype was about.",
          "Query: <b>monkeys</b><br> Little Curtis and I wake <br> up at 12am everyday for <br> his midnight bottle. It just <br> so happened that this particular <br> night was also baby monkey <br> bath time! Every day I <br> feel ...",
          "Query: <b>monkeys</b><br> Subscribe for new videos every <br> week: https://www.youtube.com/c/cocomelon?sub_confirmation=1 'Sound Effects by <br> http://audiomicro.com/sound-effects' About ...",
          "Query: <b>monkeys</b><br> WARNING! It's a crazy monkey! <br> And it's coming your way!!! <br> This compilation is all about <br> funny monkeys. You'll see it <br> all: monkeys being funny, monkeys <br> being ...",
          "Query: <b>monkeys</b><br> FlickBox presents 5 Little Monkeys, <br> a popular children's rhyme about <br> five naughty monkeys who jump <br> on the bed and get <br> into trouble, for your kid <br> to watch and ...",
          "Query: <b>monkeys</b><br> Monkeys and primates are some <br> of the most intelligent animals <br> on earth. Here's a list <br> of the top five genius <br> monkeys caught on camera. Several <br> segments are ...",
          "Query: <b>monkeys</b><br> Tones And I - Dance <br> Monkey (Lyrics) Follow our Spotify <br> Playlist ➜ https://loku.lnk.to/Spotify Hit The <br> Bell To Join The Notification <br> Squad! Subscribe ...",
          "Query: <b>monkeys</b><br> Baby Monkey Too Crying Not <br> Want To Bathed Cute Monkey <br> Newborn Monkey Poo RIP MY <br> Mom #Monkey_Too How To Make <br> Fun With Monkeys - Everyday <br> ...",
          "Query: <b>monkeys</b><br> Big monkey hits baby monkey <br> nearly to die Big monkey <br> is DeeDee, Baby monkey is <br> Daniela Because baby's mom(Dana) low <br> rank in the group, Dana <br> can not ...",
          "Query: <b>monkeys</b><br> Please Subscribe Channel Here : <br> https://goo.gl/8gdXzH Monkeys have always been <br> regarded as fun, adorable and <br> entertainingly witty creatures. If you <br> spend ...",
          "Query: <b>monkeys</b><br> MONKEYTONY#MONKEYTINO#MONKEYBNA Thanks for watching.Baby Monkey <br> TONY Diving and Drink Milk.",
          "Query: <b>monkeys</b><br> Music guest Tones and I <br> makes her U.S. TV debut <br> performing her global smash hit <br> \"Dance Monkey\" for the Tonight <br> Show audience. Subscribe NOW to <br> The ...",
          "Query: <b>monkeys</b><br> Capuchin Monkey Boo eats an <br> OLD mushy banana! Watch this <br> funny monkey peel and enjoy <br> this GROSS brown banana! He <br> will show you how good <br> it tastes!",
          "Query: <b>monkeys</b><br> Baby monkey terrify by big <br> female monkey mistreated | Baby <br> monkey cries seizures on branch <br> Thanks for watching. Please subscribe <br> and turn on notification for <br> ...",
          "Query: <b>monkeys</b><br> \"Five Little Monkeys Jumping on <br> the bed\" - 3D Animation <br> English Nursery rhyme for children. <br> 5 Little Monkeys Jumping on <br> the bed Lyrics : Five <br> little monkeys ...",
          "Query: <b>monkeys</b><br> Tom is my newborn boy. <br> I take care of him <br> like a child who needs <br> to be taken care of <br> by Tom Tom growing up <br> and he looks much better <br> than before .. #monkeysu ...",
          "Query: <b>monkeys</b><br> Funny Savage Monkeys! Hilarious! Funniest <br> Animals Videos 2018. Try not <br> to laugh when watching this <br> video. Monkeys are so funny!",
          "Query: <b>monkeys</b><br> Little Curtis back to school <br> morning routine! Little Curtis Merch: <br> https://sixthsupply.com/collections/little-curtis Last Video: ...",
          "Query: <b>monkeys</b><br> Top 10 funny monkey videos <br> of funny monkeys behaving like <br> humans. Monkeys acting like humans <br> in this funny animals behaving <br> like humans compilation.",
          "Query: <b>monkeys</b><br> Cute baby monkey relax and <br> play happily with 2 puppies <br> NOW 5/4/2019 Baby Monkey has <br> been assigned to wildlife protection <br> organization Subscribe and ...",
          "Query: <b>monkeys</b><br> A family troop of macaques <br> in eastern China. The family <br> consists of several females, infants, <br> and older siblings. Majority of <br> this clip is of one <br> of the older siblings ...",
          "Query: <b>monkeys</b><br> Awesome Monkey Give A Birth <br> | Cute Newborn Monkeys Description: <br> Monkey Cry Before Give Birth <br> To Baby Newborn. Mom cry <br> because Mom hurt too much.",
          "Query: <b>monkeys</b><br> This is Max's morning and <br> it's very basic to changing <br> his diaper and feeding him <br> to play time For business <br> email: Guzzy1991@gmail.com Instagram: ...",
          "Query: <b>monkeys</b><br> Cute monkeys in this monkey <br> natural videos compilation. Cute baby <br> monkey and funny adult monkeys <br> videos. If you have any <br> questions about compilation or ...",
          "Query: <b>monkeys</b><br> Funny Kids Meet Monkey For <br> The First Time | Kids <br> And Animals At The Zoo <br> ▯ Link Video: https://youtu.be/D53H2m4UCY0 WOA <br> Funny Video ...",
          "Query: <b>monkeys</b><br> Everyone please register and share <br> Nui Family channel . Thanks <br> https://www.youtube.com/channel/UCWSBUQx_-sywUO73fQxzljw These are videos describe <br> ...",
          "Query: <b>monkeys</b><br> Wow...! What is silly teenage <br> monkey doing It's my first <br> time to see monkeys do <br> that I don't think that <br> teenage monkey is feeling like <br> that too because he is <br> still ...",
          "Query: <b>monkeys</b><br> The Crested Black Macaques live <br> in forests which sit directly <br> in the path of the <br> monsoon but it is thanks <br> to these rains that babies <br> develop characteristics more ...",
          "Query: <b>monkeys</b><br> Small Baby monkey is tortured <br> by 2 kidnappers Thanks for <br> watching. Please subscribe and turn <br> on notification for get new <br> videos everyday. Help like and <br> share ...",
          "Query: <b>monkeys</b><br> The new album, Everyday Life, <br> out Nov 22. Pre-order https://coldplay.com <br> The first single to be <br> taken from Coldplay's new album, <br> A Head Full Of Dreams <br> (out ...",
          "Query: <b>monkeys</b><br> This Girl Was Stolen From <br> Her Parents By Monkeys. This <br> Is Her 30-Years Later... If <br> you're new, Subscribe! → https://goo.gl/ZskRcx <br> Extreme Trends is the #1 <br> ...",
          "Query: <b>monkeys</b><br> Tones and I - Dance <br> Monkey (Lyrics) Follow our Spotify <br> playlists: http://bit.ly/7cloudsSpotify ⏬ Stream Dance <br> Monkey Tones and I: ...",
          "Query: <b>monkeys</b><br> This troop of Langur Monkeys <br> show empathetic behaviour as they <br> mourn what they think is <br> a dead baby Langur, which <br> is actually a robotic spy <br> monkey, ...",
          "Query: <b>monkeys</b><br> Subscribe and watch new videos <br> uploaded every week. ☆ YouTube <br> Channel: http://www.youtube.com/Pinkfong PINKFONG! no. 1 <br> kids' app chosen by 100 <br> ...",
          "Query: <b>monkeys</b><br> Capuchin MonkeyBoo takes a hot <br> relaxing bath! Watch this cute <br> capuchin monkey wash himself with <br> his new Dove baby soap. <br> This funny monkey even tries <br> to ...",
          "Query: <b>monkeys</b><br> Spider monkeys have a prehensile <br> tail, a fifth limb that <br> plays an important role as <br> they spend their days high <br> up in the tropical forest <br> canopy. As National ..."
         ],
         "marker": {
          "color": [
           6,
           6,
           6,
           6,
           6,
           6,
           6,
           6,
           6,
           6,
           6,
           6,
           6,
           6,
           6,
           6,
           6,
           6,
           6,
           6,
           6,
           6,
           6,
           6,
           6,
           6,
           6,
           6,
           6,
           6,
           6,
           6,
           6,
           6,
           6,
           6,
           6,
           6,
           6,
           6,
           6,
           6,
           6,
           6,
           6,
           6,
           6,
           6,
           6,
           1,
           1,
           1,
           1,
           1,
           1,
           1,
           1,
           1,
           1,
           1,
           1,
           1,
           1,
           1,
           1,
           1,
           1,
           1,
           1,
           1,
           1,
           1,
           1,
           1,
           1,
           1,
           1,
           1,
           1,
           1,
           1,
           1,
           1,
           1,
           1,
           1,
           1,
           1,
           1,
           1,
           1,
           1,
           1,
           1,
           1,
           2,
           2,
           2,
           2,
           2,
           2,
           2,
           2,
           2,
           2,
           2,
           2,
           2,
           2,
           2,
           2,
           2,
           2,
           2,
           2,
           2,
           2,
           2,
           2,
           2,
           2,
           2,
           2,
           2,
           2,
           2,
           2,
           2,
           2,
           2,
           2,
           2,
           2,
           2,
           2,
           2,
           2,
           2,
           2,
           2,
           2,
           2,
           2,
           2,
           2,
           3,
           3,
           3,
           3,
           3,
           3,
           3,
           3,
           3,
           3,
           3,
           3,
           3,
           3,
           3,
           3,
           3,
           3,
           3,
           3,
           3,
           3,
           3,
           3,
           3,
           3,
           3,
           3,
           3,
           3,
           3,
           3,
           3,
           3,
           3,
           3,
           3,
           3,
           3,
           3,
           3,
           3,
           3,
           3,
           3,
           3,
           3,
           3,
           3,
           0,
           0,
           0,
           0,
           0,
           0,
           0,
           0,
           0,
           0,
           0,
           0,
           0,
           0,
           0,
           0,
           0,
           0,
           0,
           0,
           0,
           0,
           0,
           0,
           0,
           0,
           0,
           0,
           0,
           0,
           0,
           0,
           0,
           0,
           0,
           0,
           0,
           0,
           0,
           0,
           0,
           0,
           0,
           0,
           0,
           0,
           0,
           0,
           0,
           4,
           4,
           4,
           4,
           4,
           4,
           4,
           4,
           4,
           4,
           4,
           4,
           4,
           4,
           4,
           4,
           4,
           4,
           4,
           4,
           4,
           4,
           4,
           4,
           4,
           4,
           4,
           4,
           4,
           4,
           4,
           4,
           4,
           4,
           4,
           4,
           4,
           4,
           4,
           4,
           4,
           4,
           4,
           4,
           4,
           4,
           4,
           4,
           4,
           5,
           5,
           5,
           5,
           5,
           5,
           5,
           5,
           5,
           5,
           5,
           5,
           5,
           5,
           5,
           5,
           5,
           5,
           5,
           5,
           5,
           5,
           5,
           5,
           5,
           5,
           5,
           5,
           5,
           5,
           5,
           5,
           5,
           5,
           5,
           5,
           5,
           5,
           5,
           5,
           5,
           5,
           5,
           5,
           5,
           5,
           5,
           5,
           5
          ],
          "colorscale": [
           [
            0,
            "#440154"
           ],
           [
            0.1111111111111111,
            "#482878"
           ],
           [
            0.2222222222222222,
            "#3e4989"
           ],
           [
            0.3333333333333333,
            "#31688e"
           ],
           [
            0.4444444444444444,
            "#26828e"
           ],
           [
            0.5555555555555556,
            "#1f9e89"
           ],
           [
            0.6666666666666666,
            "#35b779"
           ],
           [
            0.7777777777777778,
            "#6ece58"
           ],
           [
            0.8888888888888888,
            "#b5de2b"
           ],
           [
            1,
            "#fde725"
           ]
          ],
          "opacity": 0.8,
          "size": 20
         },
         "mode": "markers",
         "type": "scatter3d",
         "x": [
          0.1968620819650897,
          0.24216990420127607,
          0.3067939913443025,
          0.16601405582437737,
          0.16095892751801524,
          0.14467921902462264,
          0.1517031540847569,
          0.2076287114462596,
          0.25045929267567085,
          0.32582870342815873,
          0.32582870342815873,
          0.1479738334490836,
          0.12838246246593685,
          0.10134929746575919,
          0.29331755407069887,
          0.27142816159816796,
          0.2243402668889998,
          0.31226239114870463,
          0.13965377788836356,
          0.21654001040025778,
          0.23327659209202417,
          0.08898167715490744,
          0.25653578771686975,
          0.20657790320207695,
          0.13414096728149486,
          0.23921086965939475,
          0.2957172117890613,
          0.25102227859263726,
          0.1827878541714534,
          0.007520840144506279,
          0.21654819584441218,
          0.10368192496434778,
          0.1657486998339217,
          0.13687549592914658,
          0.16952771371671052,
          0.23532680058078626,
          0.17797360381052083,
          0.22460247685270102,
          0.15777920264734377,
          0.23437579806317824,
          0.2248617612053544,
          0.1415957889612838,
          0.01054423401012539,
          0.1845269388196348,
          0.21538228907014323,
          0.24350226700672176,
          0.12962849839736285,
          0.25114300290979547,
          0.34295637115151273,
          0.08526308710215608,
          0.15801535602495947,
          0.13879600426591993,
          0.2508103444424206,
          0.25045929267567085,
          0.3067939913443025,
          0.31226239114870463,
          0.11259704452292132,
          0.16004383010395445,
          0.18014723879861744,
          0.29331755407069887,
          0.14877231733466573,
          0.09267364735300058,
          0.36152634765798547,
          0.21654001040025778,
          0.25653578771686975,
          0.20555744701734568,
          0.09578958592062511,
          0.23952424843830805,
          0.012623347866234187,
          0.21022238409343091,
          0.1898248228966143,
          0.14785017060701103,
          0.17075248236431417,
          0.25842499392236545,
          0.3114691139779942,
          0.1415957889612838,
          0.19744500182201993,
          0.2055617359490886,
          0.25114300290979547,
          0.06977775848758415,
          0.000871633811170927,
          0.32582870342815873,
          0.1304741593238956,
          0.2243402668889998,
          0.20889142319181037,
          0.2000877314392986,
          0.18569970843230324,
          0.03581258089458913,
          0.17094254586328506,
          0.24770100415096719,
          0.2736056930475961,
          0.14950728954395545,
          0.24604687939656453,
          0.16479752554077637,
          0.1614904549090079,
          0.32582870342815873,
          0.30625406787767406,
          0.30762842825097514,
          0.24929436257654675,
          0.09617517301307096,
          0.15258568579639237,
          0.4046305423347653,
          0.2821504850570297,
          0.21625069276367556,
          0.07430091078298728,
          0.25133536634366677,
          0.32582870342815873,
          0.2639628751291327,
          0.25382019544849926,
          0.23086633139203402,
          0.07091353057346488,
          0.090490104666737,
          0.32582870342815873,
          0.24463268662746515,
          0.11998669022648678,
          0.30279796700165823,
          0.32075528295829,
          0.10986269990134946,
          0.27758913615115893,
          0.32582870342815873,
          0.15465491069481857,
          0.3466511068838144,
          0.21782200450132166,
          0.1690485858774124,
          0.19393845373413326,
          0.25207701278188555,
          0.0950755802209247,
          0.2842306807608815,
          0.2959718771257427,
          0.17569543331474724,
          0.26608611739793986,
          0.21866244819762073,
          0.11998668573247238,
          0,
          0.026390330426681013,
          0.11352833651912882,
          0.17350927971243577,
          0.3033237294298582,
          0.1280949700325385,
          0.20504599424010958,
          0.33291810133104793,
          0.10684916474489088,
          0.026394662888217145,
          0.20545363170323486,
          0.16334972822954666,
          0.306384829096618,
          0.35181453484777336,
          0.3198044328447476,
          0.1866500595214547,
          0.09334455026098605,
          0.29534819027982534,
          0.27789405597755745,
          0.01799324099486223,
          0.3133022083793112,
          0.253082470978852,
          0.032995277370486034,
          0.11238505924496271,
          0.19726748780921902,
          0.11689697835284117,
          0.23839648467980204,
          0.2469108380482771,
          0.18181374449678928,
          0.38074064991592244,
          0.0994786756910292,
          0.1661783519268663,
          0.11662093227288817,
          0.1827744112176116,
          0.20893405422286915,
          0.12670620754825218,
          0.14510060493104635,
          0.13833061918786438,
          0.1824869821975737,
          0.1590703519691017,
          0.22724961850420294,
          0.28120051315186634,
          0.15231441583950256,
          0.24851361705075053,
          0.2183399727702174,
          0.27950886940070846,
          0.22040331080710587,
          0.15824079011111797,
          0.2522606364841174,
          0.23700542846352848,
          0.0939582211593445,
          0.24686040040177185,
          0.18264746260619555,
          0.3421183738015818,
          0.11729739474649666,
          0.18795849302356799,
          0.1843074889466548,
          0.11137144883724347,
          0.14617316358950366,
          0.14502157984126643,
          0.15016160484072397,
          0.0999838001386437,
          0.3623081377012172,
          0.23521598844944713,
          0.025450977031121542,
          0.41485710042748936,
          0.2905941284975418,
          0.2125379025838049,
          0.3592851277319175,
          0.2118096216779852,
          0.20437851606786356,
          0.1822151832636337,
          0.14224073293633507,
          0.024112077145108223,
          0.15825141852296018,
          0.21509006242766937,
          0.18775892246883338,
          0.266575631448063,
          0.02057934235421239,
          0.026779586428985223,
          0.15007926122455933,
          0.13315514669996828,
          0.18363143501109563,
          0.30217972710522806,
          0.053527337841099046,
          0.28702835270195065,
          0.20933930774113274,
          0.3373958113669322,
          0.155237654672552,
          0.10269537580952746,
          0.03980407986538502,
          0.15376690027790027,
          0.05386676446926197,
          0.4026784349250003,
          0.22338374247017978,
          0.20050329828433655,
          0.3557235618769412,
          0.0991123913688052,
          0.10196886726244395,
          0.4026784349250003,
          0.013423925096811014,
          0.047733615908450724,
          0.22618700911202283,
          0.4141062899165721,
          0.4137961800230464,
          0.3325138458255272,
          0.2573219866392245,
          0.17794016676420313,
          0.17262126393375848,
          0.1471840866544445,
          0.01799324099486223,
          0.2661688285257568,
          0.17497847694595,
          0.1391496086139136,
          0.2596269989950913,
          0.2828201584146207,
          0.24994937621955965,
          0.1733186123350819,
          0.13736616635334642,
          0.1904072698867676,
          0.24539993112959144,
          0.1952979884856329,
          0.20734466818031963,
          0.1850429931019021,
          0.2225632629818074,
          0.05934116973863225,
          0.1645972131294836,
          0.20559836812412863,
          0.12410345988163841,
          0.20437851606786356,
          0.17155536178586317,
          0.18747918856224907,
          0.26486357783668646,
          0.1618400559300747,
          0.2295515020152877,
          0.2405341474214334,
          0.17101149836495838,
          0.207070266597222,
          0.13227763012971486,
          0.2513072240251263,
          0.1839446581409819,
          0.16737589511129475,
          0.19980998550731563,
          0.03472389023943379,
          0.285832131760852,
          0.0924536220062123,
          0.16528318124570582,
          0.3592851277319175,
          0.1971277657844344,
          0.19205376467410865,
          0.27061084610594727,
          0.2657201655752228,
          0.4137961800230464,
          0.16058511351127927,
          0.1345508499770436,
          0.19250509312899414,
          0.11326021945857877,
          0.19753827433376067,
          0.15255594936457828,
          0.25654008153455016,
          0.1626914240168674,
          0.23612601894106894,
          0.2750707495681852,
          0.3188706368726021,
          0.2462510700503988,
          0.20169409762375745,
          0.15650031867865585,
          0.1326683997629624,
          0.17145865570726487,
          0.1349143190469289,
          0.11193180031463784,
          0.20721643033567225,
          0.20660313253976226,
          0.17388365780856307,
          0.13286720867536922,
          0.23119572937061697,
          0.1940531254674809,
          0.20066501193276018,
          0.19812690514453535,
          0.20834124461499853,
          0.17281616828344792,
          0.15850502941592648,
          0.08419205327768481,
          0.1740584073862364,
          0.17941002012022345,
          0.1832642945709484,
          0.11598064256554487,
          0.12044828590332307,
          0.24528389040217977,
          0.06753901035032786,
          0.16351491126114634,
          0.17777117141446622,
          0.1610375419962061,
          0.0998504766390943,
          0.19031759911553184,
          0.27357576953835994,
          0.2647552610928019,
          0.1306648921210625,
          0.2164349349298291,
          0.21828808574651962,
          0.2646171947777308,
          0.1504891939433196,
          0.18316547868986507,
          0.1390920009853506,
          0.15825862475881605,
          0.12130084953284141,
          0.16498605437440705,
          0.10690621358462243
         ],
         "y": [
          -0.03890930876929909,
          -0.041822104066068226,
          -0.04653288154330503,
          0.009493438842137509,
          0.07378805941104387,
          -0.07244455700689183,
          -0.006662204603717117,
          0.11552515062602779,
          -0.0514825672898999,
          0.7154602974116996,
          0.7154602974116996,
          0.05357960459662219,
          -0.024686111162417798,
          -0.03793780698565077,
          0.053336099578263,
          0.06207298506567598,
          0.10949541167481867,
          -0.08457229576961754,
          0.02811448911705524,
          0.06318334279504738,
          0.058529357557433506,
          0.05519034438693918,
          -0.07245852026877482,
          0.03073982756795328,
          -0.022411207761687042,
          -0.004320937632324378,
          0.06036755188905029,
          0.3085810695235281,
          -0.034449191122406256,
          -0.004985474391999299,
          -0.03293785812061332,
          0.0029338165860465903,
          0.02960381053723664,
          0.029122372166443377,
          0.040244595685247526,
          -0.011962695726858761,
          0.06923860091116213,
          0.0004738072123391962,
          0.015681530949858698,
          0.05001217936924875,
          0.04854798136400412,
          0.0018550413917941834,
          0.001855415372299579,
          0.06368684012762121,
          -0.07414026474619752,
          0.033482366985830375,
          -0.012411774495131379,
          0.13000583659170767,
          -0.05901073548027624,
          -0.0007065947206973818,
          -0.02390263038603282,
          0.04237004044486998,
          -0.0027048769142591824,
          -0.0514825672898999,
          -0.04653288154330481,
          -0.08457229576961754,
          -0.01149138464375315,
          0.023419935320240618,
          -0.027415489525307115,
          0.053336099578263,
          -0.004556249294901537,
          -0.015523704704073127,
          0.17142438731965737,
          0.06318334279504738,
          -0.07245852026877482,
          -0.03681577754549691,
          0.008411055530413531,
          0.06360178325047816,
          -0.00505326126142923,
          -0.02446428715129572,
          -0.033010945741489876,
          -0.01670109661984954,
          0.0015746630398520256,
          -0.039670617104182314,
          0.16296065036427934,
          0.0018550413917941834,
          0.04295454948865063,
          0.003950640548373557,
          0.13000583659170767,
          0.0465771084688594,
          -0.00025693677150056014,
          0.7154602974116996,
          -0.0051137454363513815,
          0.10949541167481867,
          0.0662420122440874,
          0.07046629588509294,
          0.004436488120794625,
          -0.013378227157292234,
          -0.026751430912030864,
          -0.04546628408585617,
          -0.000522286776574949,
          -0.006380909547535126,
          0.058262941009012345,
          -0.054329785256260144,
          -0.01723239478879279,
          0.7154602974116996,
          0.24081643061126495,
          0.19573123954191296,
          0.23686702343890836,
          0.18706441453583533,
          0.06446859314312349,
          0.2433438436562186,
          0.47543649422968115,
          0.10098620772924186,
          0.14452977824746543,
          0.11495029145635619,
          0.7154602974116996,
          0.18303567973435392,
          0.20452747897572512,
          0.04019642867931906,
          0.1253161742889657,
          0.1858208653839146,
          0.7154602974116996,
          0.35368637863199565,
          0.23661351336160108,
          0.2580487125042955,
          0.16493874022121113,
          0.11762263366003907,
          0.2304483863189614,
          0.7154602974116996,
          0.07861090937427065,
          0.2498856178652065,
          0.05510813073984612,
          0.1169187552098263,
          -0.010157529803286,
          0.37322086180687375,
          0.17705461039029521,
          0.28250521552554403,
          0.11610386164608603,
          0.05279876745299876,
          0.06822931085914859,
          0.14985663816535244,
          0.23661399577102585,
          0,
          0.05135065856006057,
          0.19259398106459547,
          0.009045133480534883,
          0.23166743246271,
          -0.013156524150242415,
          0.23166386227330563,
          0.03606196295460434,
          0.18840821805870603,
          0.021203084013234477,
          0.3051435719487288,
          0.2679390395946571,
          -0.11764528141841556,
          -0.26526850507927957,
          -0.16210262747511797,
          -0.044246246035936944,
          -0.05801651148319848,
          -0.202426143330364,
          -0.15297631461072278,
          -0.0020664888350361305,
          -0.14549002247777268,
          0.05055521814120586,
          -0.030753820055790526,
          -0.033778674264371866,
          0.009397995486658116,
          -0.0204216779566617,
          -0.02562064460495217,
          -0.02043410375382063,
          -0.08255309704340415,
          -0.21590815125763155,
          -0.012220365836076568,
          -0.050248940692734945,
          -0.053031618974294197,
          -0.09708157799575305,
          -0.07312318293453392,
          -0.07775214885815625,
          0.008349078946818361,
          -0.034798254189303865,
          -0.041472724895581646,
          -0.08912424443558668,
          -0.10254524415030229,
          -0.25406671486575355,
          -0.027701422255559948,
          0.07738058461956394,
          -0.12073288084923653,
          -0.11845691962534598,
          -0.15874890251392662,
          -0.007678857256840585,
          -0.05956311550998647,
          -0.021661763909590435,
          -0.06148880770961878,
          -0.06919292393156869,
          -0.04009740466956507,
          -0.1050317572290758,
          -0.03765627443642461,
          -0.07764241604989129,
          -0.03292678791218272,
          -0.034502759059244256,
          -0.020970247568201972,
          -0.03059598837476147,
          -0.027311484491930448,
          -0.010202087437763931,
          -0.2660779939436192,
          -0.04764727066808427,
          -0.02993161252249625,
          -0.17408983268746497,
          -0.18684993355279567,
          -0.1047514968997625,
          -0.14722139696874087,
          -0.1042887518937661,
          -0.08631067182026306,
          -0.07259128779266755,
          -0.005477228323417514,
          -0.024633575675116044,
          -0.08436088437594566,
          -0.10361750451325988,
          -0.11056765105781446,
          -0.1421494530900133,
          -0.01826279036498716,
          -0.030412834331357042,
          -0.07291692975453973,
          0.022695404665577738,
          -0.05965978428037425,
          -0.18072404050194446,
          -0.028772233014441213,
          -0.1359627300578795,
          -0.04665602027680376,
          -0.07665431553548609,
          -0.0450202633145724,
          -0.022439218905948157,
          -0.012515137725898857,
          -0.1125886567495297,
          -0.01550129024339718,
          -0.3224367826467276,
          -0.08941659823385138,
          -0.14089378979317851,
          -0.21248098724047793,
          -0.10978185191717742,
          0.0032392757533326907,
          -0.3224367826467276,
          -0.001978053542083199,
          -0.011527280718700463,
          -0.04679191828655574,
          -0.3309842589128195,
          -0.0920174471716594,
          -0.13564253355544958,
          -0.0068234860318357815,
          -0.15434662962195161,
          -0.05626962765744672,
          -0.050958728938093355,
          -0.0020664888350361305,
          0.013548162587492961,
          -0.06513582195820168,
          -0.05407467485176598,
          -0.1368154490412205,
          -0.11726446732736742,
          -0.12495464363519261,
          0.013261328119650808,
          0.02215811896141179,
          -0.05979619907704363,
          -0.06108902092157676,
          -0.1105715369497632,
          -0.09622911971390949,
          -0.02247785386152559,
          -0.09289288916799894,
          -0.04804069681530537,
          -0.018381744892914973,
          -0.13898256372395573,
          -0.02175533340625732,
          -0.08631067182026306,
          -0.08192328410492529,
          -0.056970631949222326,
          -0.13155005205091533,
          -0.04573674867766995,
          -0.05814292089573551,
          -0.1940389044177825,
          -0.0857718668626639,
          -0.06426360732028229,
          -0.04785708950395779,
          -0.1867682583787668,
          -0.06018719730646051,
          -0.01209110808519168,
          -0.017100556612303065,
          -0.026464883157090488,
          -0.16743560226868148,
          -0.043273409415841006,
          -0.05926919891178192,
          -0.14722139696874087,
          -0.07641011062772925,
          -0.02587584136876869,
          -0.08161644946145723,
          0.022947979864369694,
          -0.0920174471716594,
          0.020742568969095317,
          -0.02554876727268551,
          -0.034024856953128346,
          0.049289637026159246,
          -0.050596277009622076,
          -0.04425895021515727,
          -0.22734482615597576,
          -0.11536466822843258,
          -0.08739141290014756,
          -0.07036019253960178,
          -0.19149368497546637,
          -0.03416209955654006,
          -0.10039593791943031,
          -0.09242245060146383,
          -0.050270932768018764,
          -0.11721763744908209,
          -0.08602551653879772,
          -0.010192592729602023,
          -0.04385300261519885,
          -0.054899068852291504,
          -0.029220258338846856,
          -0.08835504354244429,
          -0.1540373576363039,
          -0.06702295614678289,
          -0.12375936797349385,
          -0.09867411468716011,
          -0.038289118109566166,
          -0.0958873558102476,
          -0.034751045876103094,
          -0.041340226066041694,
          -0.07995739007413824,
          -0.046095166873849756,
          -0.12067486381946793,
          -0.07325272723390551,
          -0.02488329325304484,
          -0.18622092439984586,
          -0.008994351806169013,
          -0.13459051430796962,
          -0.1010041105341748,
          -0.05913121239220552,
          -0.06909518341276553,
          -0.019829029543942913,
          -0.2039106762646957,
          -0.14415509338081056,
          -0.08638511102864335,
          0.006998602136242876,
          -0.04548491060290235,
          -0.13376545048077143,
          -0.05404585468820247,
          -0.08114384868022143,
          -0.09898937923725229,
          -0.08595772586278576,
          -0.07415247447117512,
          -0.08796484034620511,
          -0.023451396349709445
         ],
         "z": [
          0.0014250566644455585,
          -0.01937856662270977,
          -0.1351876449363461,
          -0.08827467445590484,
          -0.016913359773767588,
          0.006388786046782334,
          0.03404965241045777,
          -0.05589951691223809,
          -0.004694604161720175,
          0.5724656748070915,
          0.5724656748070915,
          0.03736704449976086,
          -0.03167964662239769,
          -0.00628683720230266,
          0.01302567730078832,
          -0.005043519234188548,
          0.06295700738762568,
          0.015848661336646076,
          0.06321750174523405,
          0.10574061112200628,
          0.09649698120619639,
          0.04924204458229264,
          -0.03368511487721304,
          0.042554272049741444,
          -0.04087813000097847,
          0.023361336895238498,
          -0.03762228140080289,
          0.1514642673237517,
          -0.05064301852802828,
          0.004097937805011788,
          -0.02373541122819738,
          -0.01709760517531551,
          0.017769532998912256,
          -0.03800718838397091,
          0.04831891110668347,
          -0.01186092982190317,
          -0.06600477848677862,
          0.0200915180847015,
          0.008544393147071127,
          -0.00899509888179574,
          -0.018934542535320786,
          -0.05818295162737944,
          -0.004158912024154102,
          -0.037220973230471376,
          -0.01428455272467395,
          -0.06609060569563885,
          -0.02375817495674519,
          0.04218032848405497,
          -0.13650040782157277,
          -0.0007489054740437122,
          -0.03830317173321017,
          0.015208041781196427,
          0.01684371041542138,
          -0.004694604161720175,
          -0.13518764493634583,
          0.015848661336646076,
          0.017380721654134273,
          -0.042920567043169974,
          -0.022719620264633533,
          0.01302567730078832,
          -0.038172784567433775,
          -0.021736254361501398,
          -0.005720379133294429,
          0.10574061112200628,
          -0.03368511487721304,
          0.001529412867107017,
          -0.02660929058538496,
          -0.015514617557313162,
          -0.002407964652181994,
          -0.014574112256310756,
          -0.01389209440860386,
          -0.0521324613734982,
          0.044562245402916464,
          -0.00847044296497305,
          0.04553580934384461,
          -0.05818295162737944,
          0.025398097459108007,
          0.026163433559002105,
          0.04218032848405497,
          -0.022111201517199468,
          -0.0009601311783762281,
          0.5724656748070915,
          -0.00942814097400395,
          0.06295700738762568,
          -0.0006876732597598667,
          0.05776595232065189,
          0.027686983801307255,
          0.0014472866823299507,
          -0.034300320121198484,
          -0.02513945722069876,
          -0.025692128373944367,
          -0.04868012614385121,
          -0.07338821563708549,
          -0.015828639594872948,
          -0.02762911386310214,
          0.5724656748070915,
          -0.5177703539413067,
          -0.35971490723658583,
          -0.5159725928206633,
          -0.3329816831009151,
          -0.11407053289437061,
          -0.3317496346459559,
          0.34939917286175737,
          -0.20985424299976926,
          -0.2661301308481154,
          -0.17589352444452985,
          0.5724656748070915,
          -0.24494684544565404,
          -0.41806716290195356,
          -0.16279551984079504,
          -0.16109085212251725,
          -0.19800943739886304,
          0.5724656748070915,
          -0.34952536093555675,
          -0.4295697723190465,
          -0.2726342992177217,
          -0.4054943248492947,
          -0.21428601764631144,
          -0.5183553580165514,
          0.5724656748070915,
          -0.14732941165373659,
          -0.3382154512624156,
          -0.1432290748071185,
          -0.19355380060961105,
          -0.02722435995429588,
          -0.3860068411421766,
          -0.33060140536085036,
          -0.5606912887041615,
          -0.19203088127470344,
          -0.14102502157019284,
          -0.2143344420847796,
          -0.20073716424324278,
          -0.42956998932855345,
          0,
          -0.09155265414645791,
          -0.3617210104618497,
          -0.018974572231579303,
          -0.4008041280924988,
          0.014177217126038649,
          -0.3791675256835134,
          -0.16172166878045666,
          -0.3175462319895991,
          0.015386324727374206,
          -0.46917107580440776,
          -0.38644891776426077,
          0.04675709892822811,
          0.0778352870406483,
          0.08568742543268558,
          0.014084248641294197,
          -0.003874112204534275,
          0.07808013713657896,
          0.06918801384216054,
          0.00540926689163117,
          0.011432568827323753,
          0.08423428964173778,
          0.007482679614927263,
          0.00048745982378350667,
          0.026876964288937766,
          0.008806566164640513,
          0.0212705382638714,
          -0.0014664217038855558,
          0.03188691979499622,
          0.10279626227054257,
          -0.01369807612001313,
          0.005282521683429244,
          -0.006631915680131469,
          0.0032253763030351177,
          -0.018224860647473834,
          -0.009330119731664133,
          -0.0061241934596931655,
          0.012655146304222285,
          0.010389282280168645,
          0.04055376630322767,
          0.03506071556065038,
          0.09469771228913662,
          -0.0006479868198772975,
          0.04394281731220037,
          0.024437411880092977,
          0.009177259865754987,
          0.049439935032908326,
          0.05344726058051867,
          0.025954535202250575,
          0.07658495569095382,
          -0.007352795232620964,
          -0.010619669499675013,
          0.041175174496006155,
          0.016127855158827,
          0.01948233591229935,
          0.010235392038016091,
          0.012429400624643339,
          0.04260119203047961,
          0.00812621814656011,
          -0.02424083321041822,
          0.00423611144447833,
          -0.05340824389817753,
          0.11320642701886352,
          0.05122851251450823,
          0.006882043150139576,
          -0.022037560892661495,
          0.08074118121906144,
          -0.019520951370159093,
          0.08663746155573598,
          -0.0195377697875268,
          0.048025065954727504,
          -0.023028596470864977,
          0.07597876110696,
          0.005179549327656144,
          0.022765123109990106,
          0.01610847736410967,
          0.03483125350156993,
          0.06281193252501256,
          0.0012219042720774203,
          0.00900214082193598,
          0.05650383632964462,
          0.026924897357438547,
          0.01485288032386863,
          0.10641086947482636,
          -0.004973259322077532,
          0.02910044092794752,
          -0.0153489476891848,
          -0.012832020640768993,
          0.022481826105948552,
          0.023029463961226324,
          0.01210003017441654,
          0.0320116280353679,
          0.0025660009054006136,
          0.10297796461631953,
          0.05928218362427185,
          0.07685236251036881,
          0.08967113216865914,
          0.02980609316658717,
          0.04237083423441304,
          0.10297796461631953,
          -0.007679452024426284,
          0.006790325646932619,
          -0.025248938010260364,
          0.10556003543307292,
          -0.012832032104770963,
          -0.006023642504795522,
          0.061054426198027006,
          0.03807130134785439,
          -0.011583548294006814,
          0.009929801720336815,
          0.00540926689163117,
          -0.0018537856992035088,
          -0.013195816182636847,
          0.037391451179692566,
          0.026610498176528906,
          0.03177811994083661,
          0.05506074610357252,
          0.04679377836399642,
          0.06545288536793568,
          -0.025646926138909357,
          0.06851631507268374,
          0.03917484500092532,
          0.0012024305649944028,
          0.008417884285914522,
          0.014487046480147538,
          0.01673038862948009,
          0.02429575335654596,
          0.02792857512859725,
          0.019037683833379063,
          0.048025065954727504,
          0.028233884972006327,
          0.04842977734335444,
          0.007861119063621259,
          0.030215768628129712,
          0.018422175415050535,
          0.05534061163237949,
          -0.01645312152124429,
          0.010776375099003824,
          -0.020207909669828758,
          0.061631315560312996,
          -0.000913963306509473,
          0.008088343261829264,
          0.03898278562759714,
          0.010688314513992157,
          0.05964806774037243,
          0.0022774799017165398,
          0.03031843032402386,
          0.08663746155573598,
          -0.0388685187290787,
          0.007556830584663205,
          0.025443491045731334,
          0.052195832100277506,
          -0.012832032104770963,
          0.034738273283271975,
          -0.029439793205662538,
          0.0002449056254565999,
          0.04369233555888242,
          0.017809655237166128,
          0.025259203084578817,
          0.09753542446157623,
          0.06251151413892757,
          0.051761505675088026,
          0.05515710329704677,
          0.11648021069909806,
          0.013643989355783783,
          0.0054100328752906815,
          0.0634941962845318,
          0.12754295380872582,
          0.07950748411608487,
          0.08348543036008257,
          0.04793720455236554,
          0.10328454158845175,
          0.022588852090652374,
          0.06588230394370932,
          0.028718753095473233,
          0.03763445491757396,
          0.038798289239698594,
          0.022017020231722674,
          0.0706944285057023,
          0.10843498215275271,
          0.023832586824195187,
          0.04769233472317757,
          0.030202968998820055,
          0.04973040430738202,
          0.014837142985249173,
          0.04808464236311305,
          0.016445068522439838,
          0.006182630627039414,
          0.06539755824500729,
          0.012614287754479986,
          0.03136167142103269,
          0.07510741258327255,
          -0.029576065522714256,
          0.03962055669237268,
          0.024436879957777637,
          0.05922865627771383,
          0.06607238247772723,
          0.033984151451017325,
          0.09097469818928781,
          0.006269441134911477,
          0.049282781819507,
          -0.0019845251635483892,
          -0.010704299442263927,
          0.09410015352752157,
          0.0019667851182383895,
          0.03338728537280353,
          0.02932125441917166,
          0.01693038401307232
         ]
        }
       ],
       "layout": {
        "margin": {
         "b": 0,
         "l": 0,
         "r": 0,
         "t": 0
        },
        "template": {
         "data": {
          "bar": [
           {
            "error_x": {
             "color": "#2a3f5f"
            },
            "error_y": {
             "color": "#2a3f5f"
            },
            "marker": {
             "line": {
              "color": "#E5ECF6",
              "width": 0.5
             }
            },
            "type": "bar"
           }
          ],
          "barpolar": [
           {
            "marker": {
             "line": {
              "color": "#E5ECF6",
              "width": 0.5
             }
            },
            "type": "barpolar"
           }
          ],
          "carpet": [
           {
            "aaxis": {
             "endlinecolor": "#2a3f5f",
             "gridcolor": "white",
             "linecolor": "white",
             "minorgridcolor": "white",
             "startlinecolor": "#2a3f5f"
            },
            "baxis": {
             "endlinecolor": "#2a3f5f",
             "gridcolor": "white",
             "linecolor": "white",
             "minorgridcolor": "white",
             "startlinecolor": "#2a3f5f"
            },
            "type": "carpet"
           }
          ],
          "choropleth": [
           {
            "colorbar": {
             "outlinewidth": 0,
             "ticks": ""
            },
            "type": "choropleth"
           }
          ],
          "contour": [
           {
            "colorbar": {
             "outlinewidth": 0,
             "ticks": ""
            },
            "colorscale": [
             [
              0,
              "#0d0887"
             ],
             [
              0.1111111111111111,
              "#46039f"
             ],
             [
              0.2222222222222222,
              "#7201a8"
             ],
             [
              0.3333333333333333,
              "#9c179e"
             ],
             [
              0.4444444444444444,
              "#bd3786"
             ],
             [
              0.5555555555555556,
              "#d8576b"
             ],
             [
              0.6666666666666666,
              "#ed7953"
             ],
             [
              0.7777777777777778,
              "#fb9f3a"
             ],
             [
              0.8888888888888888,
              "#fdca26"
             ],
             [
              1,
              "#f0f921"
             ]
            ],
            "type": "contour"
           }
          ],
          "contourcarpet": [
           {
            "colorbar": {
             "outlinewidth": 0,
             "ticks": ""
            },
            "type": "contourcarpet"
           }
          ],
          "heatmap": [
           {
            "colorbar": {
             "outlinewidth": 0,
             "ticks": ""
            },
            "colorscale": [
             [
              0,
              "#0d0887"
             ],
             [
              0.1111111111111111,
              "#46039f"
             ],
             [
              0.2222222222222222,
              "#7201a8"
             ],
             [
              0.3333333333333333,
              "#9c179e"
             ],
             [
              0.4444444444444444,
              "#bd3786"
             ],
             [
              0.5555555555555556,
              "#d8576b"
             ],
             [
              0.6666666666666666,
              "#ed7953"
             ],
             [
              0.7777777777777778,
              "#fb9f3a"
             ],
             [
              0.8888888888888888,
              "#fdca26"
             ],
             [
              1,
              "#f0f921"
             ]
            ],
            "type": "heatmap"
           }
          ],
          "heatmapgl": [
           {
            "colorbar": {
             "outlinewidth": 0,
             "ticks": ""
            },
            "colorscale": [
             [
              0,
              "#0d0887"
             ],
             [
              0.1111111111111111,
              "#46039f"
             ],
             [
              0.2222222222222222,
              "#7201a8"
             ],
             [
              0.3333333333333333,
              "#9c179e"
             ],
             [
              0.4444444444444444,
              "#bd3786"
             ],
             [
              0.5555555555555556,
              "#d8576b"
             ],
             [
              0.6666666666666666,
              "#ed7953"
             ],
             [
              0.7777777777777778,
              "#fb9f3a"
             ],
             [
              0.8888888888888888,
              "#fdca26"
             ],
             [
              1,
              "#f0f921"
             ]
            ],
            "type": "heatmapgl"
           }
          ],
          "histogram": [
           {
            "marker": {
             "colorbar": {
              "outlinewidth": 0,
              "ticks": ""
             }
            },
            "type": "histogram"
           }
          ],
          "histogram2d": [
           {
            "colorbar": {
             "outlinewidth": 0,
             "ticks": ""
            },
            "colorscale": [
             [
              0,
              "#0d0887"
             ],
             [
              0.1111111111111111,
              "#46039f"
             ],
             [
              0.2222222222222222,
              "#7201a8"
             ],
             [
              0.3333333333333333,
              "#9c179e"
             ],
             [
              0.4444444444444444,
              "#bd3786"
             ],
             [
              0.5555555555555556,
              "#d8576b"
             ],
             [
              0.6666666666666666,
              "#ed7953"
             ],
             [
              0.7777777777777778,
              "#fb9f3a"
             ],
             [
              0.8888888888888888,
              "#fdca26"
             ],
             [
              1,
              "#f0f921"
             ]
            ],
            "type": "histogram2d"
           }
          ],
          "histogram2dcontour": [
           {
            "colorbar": {
             "outlinewidth": 0,
             "ticks": ""
            },
            "colorscale": [
             [
              0,
              "#0d0887"
             ],
             [
              0.1111111111111111,
              "#46039f"
             ],
             [
              0.2222222222222222,
              "#7201a8"
             ],
             [
              0.3333333333333333,
              "#9c179e"
             ],
             [
              0.4444444444444444,
              "#bd3786"
             ],
             [
              0.5555555555555556,
              "#d8576b"
             ],
             [
              0.6666666666666666,
              "#ed7953"
             ],
             [
              0.7777777777777778,
              "#fb9f3a"
             ],
             [
              0.8888888888888888,
              "#fdca26"
             ],
             [
              1,
              "#f0f921"
             ]
            ],
            "type": "histogram2dcontour"
           }
          ],
          "mesh3d": [
           {
            "colorbar": {
             "outlinewidth": 0,
             "ticks": ""
            },
            "type": "mesh3d"
           }
          ],
          "parcoords": [
           {
            "line": {
             "colorbar": {
              "outlinewidth": 0,
              "ticks": ""
             }
            },
            "type": "parcoords"
           }
          ],
          "pie": [
           {
            "automargin": true,
            "type": "pie"
           }
          ],
          "scatter": [
           {
            "marker": {
             "colorbar": {
              "outlinewidth": 0,
              "ticks": ""
             }
            },
            "type": "scatter"
           }
          ],
          "scatter3d": [
           {
            "line": {
             "colorbar": {
              "outlinewidth": 0,
              "ticks": ""
             }
            },
            "marker": {
             "colorbar": {
              "outlinewidth": 0,
              "ticks": ""
             }
            },
            "type": "scatter3d"
           }
          ],
          "scattercarpet": [
           {
            "marker": {
             "colorbar": {
              "outlinewidth": 0,
              "ticks": ""
             }
            },
            "type": "scattercarpet"
           }
          ],
          "scattergeo": [
           {
            "marker": {
             "colorbar": {
              "outlinewidth": 0,
              "ticks": ""
             }
            },
            "type": "scattergeo"
           }
          ],
          "scattergl": [
           {
            "marker": {
             "colorbar": {
              "outlinewidth": 0,
              "ticks": ""
             }
            },
            "type": "scattergl"
           }
          ],
          "scattermapbox": [
           {
            "marker": {
             "colorbar": {
              "outlinewidth": 0,
              "ticks": ""
             }
            },
            "type": "scattermapbox"
           }
          ],
          "scatterpolar": [
           {
            "marker": {
             "colorbar": {
              "outlinewidth": 0,
              "ticks": ""
             }
            },
            "type": "scatterpolar"
           }
          ],
          "scatterpolargl": [
           {
            "marker": {
             "colorbar": {
              "outlinewidth": 0,
              "ticks": ""
             }
            },
            "type": "scatterpolargl"
           }
          ],
          "scatterternary": [
           {
            "marker": {
             "colorbar": {
              "outlinewidth": 0,
              "ticks": ""
             }
            },
            "type": "scatterternary"
           }
          ],
          "surface": [
           {
            "colorbar": {
             "outlinewidth": 0,
             "ticks": ""
            },
            "colorscale": [
             [
              0,
              "#0d0887"
             ],
             [
              0.1111111111111111,
              "#46039f"
             ],
             [
              0.2222222222222222,
              "#7201a8"
             ],
             [
              0.3333333333333333,
              "#9c179e"
             ],
             [
              0.4444444444444444,
              "#bd3786"
             ],
             [
              0.5555555555555556,
              "#d8576b"
             ],
             [
              0.6666666666666666,
              "#ed7953"
             ],
             [
              0.7777777777777778,
              "#fb9f3a"
             ],
             [
              0.8888888888888888,
              "#fdca26"
             ],
             [
              1,
              "#f0f921"
             ]
            ],
            "type": "surface"
           }
          ],
          "table": [
           {
            "cells": {
             "fill": {
              "color": "#EBF0F8"
             },
             "line": {
              "color": "white"
             }
            },
            "header": {
             "fill": {
              "color": "#C8D4E3"
             },
             "line": {
              "color": "white"
             }
            },
            "type": "table"
           }
          ]
         },
         "layout": {
          "annotationdefaults": {
           "arrowcolor": "#2a3f5f",
           "arrowhead": 0,
           "arrowwidth": 1
          },
          "coloraxis": {
           "colorbar": {
            "outlinewidth": 0,
            "ticks": ""
           }
          },
          "colorscale": {
           "diverging": [
            [
             0,
             "#8e0152"
            ],
            [
             0.1,
             "#c51b7d"
            ],
            [
             0.2,
             "#de77ae"
            ],
            [
             0.3,
             "#f1b6da"
            ],
            [
             0.4,
             "#fde0ef"
            ],
            [
             0.5,
             "#f7f7f7"
            ],
            [
             0.6,
             "#e6f5d0"
            ],
            [
             0.7,
             "#b8e186"
            ],
            [
             0.8,
             "#7fbc41"
            ],
            [
             0.9,
             "#4d9221"
            ],
            [
             1,
             "#276419"
            ]
           ],
           "sequential": [
            [
             0,
             "#0d0887"
            ],
            [
             0.1111111111111111,
             "#46039f"
            ],
            [
             0.2222222222222222,
             "#7201a8"
            ],
            [
             0.3333333333333333,
             "#9c179e"
            ],
            [
             0.4444444444444444,
             "#bd3786"
            ],
            [
             0.5555555555555556,
             "#d8576b"
            ],
            [
             0.6666666666666666,
             "#ed7953"
            ],
            [
             0.7777777777777778,
             "#fb9f3a"
            ],
            [
             0.8888888888888888,
             "#fdca26"
            ],
            [
             1,
             "#f0f921"
            ]
           ],
           "sequentialminus": [
            [
             0,
             "#0d0887"
            ],
            [
             0.1111111111111111,
             "#46039f"
            ],
            [
             0.2222222222222222,
             "#7201a8"
            ],
            [
             0.3333333333333333,
             "#9c179e"
            ],
            [
             0.4444444444444444,
             "#bd3786"
            ],
            [
             0.5555555555555556,
             "#d8576b"
            ],
            [
             0.6666666666666666,
             "#ed7953"
            ],
            [
             0.7777777777777778,
             "#fb9f3a"
            ],
            [
             0.8888888888888888,
             "#fdca26"
            ],
            [
             1,
             "#f0f921"
            ]
           ]
          },
          "colorway": [
           "#636efa",
           "#EF553B",
           "#00cc96",
           "#ab63fa",
           "#FFA15A",
           "#19d3f3",
           "#FF6692",
           "#B6E880",
           "#FF97FF",
           "#FECB52"
          ],
          "font": {
           "color": "#2a3f5f"
          },
          "geo": {
           "bgcolor": "white",
           "lakecolor": "white",
           "landcolor": "#E5ECF6",
           "showlakes": true,
           "showland": true,
           "subunitcolor": "white"
          },
          "hoverlabel": {
           "align": "left"
          },
          "hovermode": "closest",
          "mapbox": {
           "style": "light"
          },
          "paper_bgcolor": "white",
          "plot_bgcolor": "#E5ECF6",
          "polar": {
           "angularaxis": {
            "gridcolor": "white",
            "linecolor": "white",
            "ticks": ""
           },
           "bgcolor": "#E5ECF6",
           "radialaxis": {
            "gridcolor": "white",
            "linecolor": "white",
            "ticks": ""
           }
          },
          "scene": {
           "xaxis": {
            "backgroundcolor": "#E5ECF6",
            "gridcolor": "white",
            "gridwidth": 2,
            "linecolor": "white",
            "showbackground": true,
            "ticks": "",
            "zerolinecolor": "white"
           },
           "yaxis": {
            "backgroundcolor": "#E5ECF6",
            "gridcolor": "white",
            "gridwidth": 2,
            "linecolor": "white",
            "showbackground": true,
            "ticks": "",
            "zerolinecolor": "white"
           },
           "zaxis": {
            "backgroundcolor": "#E5ECF6",
            "gridcolor": "white",
            "gridwidth": 2,
            "linecolor": "white",
            "showbackground": true,
            "ticks": "",
            "zerolinecolor": "white"
           }
          },
          "shapedefaults": {
           "line": {
            "color": "#2a3f5f"
           }
          },
          "ternary": {
           "aaxis": {
            "gridcolor": "white",
            "linecolor": "white",
            "ticks": ""
           },
           "baxis": {
            "gridcolor": "white",
            "linecolor": "white",
            "ticks": ""
           },
           "bgcolor": "#E5ECF6",
           "caxis": {
            "gridcolor": "white",
            "linecolor": "white",
            "ticks": ""
           }
          },
          "title": {
           "x": 0.05
          },
          "xaxis": {
           "automargin": true,
           "gridcolor": "white",
           "linecolor": "white",
           "ticks": "",
           "title": {
            "standoff": 15
           },
           "zerolinecolor": "white",
           "zerolinewidth": 2
          },
          "yaxis": {
           "automargin": true,
           "gridcolor": "white",
           "linecolor": "white",
           "ticks": "",
           "title": {
            "standoff": 15
           },
           "zerolinecolor": "white",
           "zerolinewidth": 2
          }
         }
        }
       }
      },
      "text/html": [
       "<div>\n",
       "        \n",
       "        \n",
       "            <div id=\"ed8b1469-8cea-41fb-a54f-71ad8c260667\" class=\"plotly-graph-div\" style=\"height:525px; width:100%;\"></div>\n",
       "            <script type=\"text/javascript\">\n",
       "                require([\"plotly\"], function(Plotly) {\n",
       "                    window.PLOTLYENV=window.PLOTLYENV || {};\n",
       "                    \n",
       "                if (document.getElementById(\"ed8b1469-8cea-41fb-a54f-71ad8c260667\")) {\n",
       "                    Plotly.newPlot(\n",
       "                        'ed8b1469-8cea-41fb-a54f-71ad8c260667',\n",
       "                        [{\"hovertext\": [\"Query: <b>programming</b><br> First 500 People Get 2 <br> Months of Skillshare FREE --- <br> http://bit.ly/forrest-skillshare When I travel back <br> in time to speak with <br> my younger self, these are <br> the 5 things ...\", \"Query: <b>programming</b><br> I'm confused. Watch till the <br> end of the video. Occasionally <br> I work on a project <br> only to scrap it so <br> I wanted to show you <br> one example. From the outside <br> it may ...\", \"Query: <b>programming</b><br> This course will give you <br> a full introduction into all <br> of the core concepts in <br> python. Follow along with the <br> videos and you'll be a <br> python programmer in no time!\", \"Query: <b>programming</b><br> Edureka Online Training on Trending <br> Programming Languages: https://www.edureka.co This Edureka <br> video on \\\"Top 10 Programming <br> Languages in 2020\\\" will ...\", \"Query: <b>programming</b><br> Programming #language #2020 Top 4 <br> Programming Languages To Learn In <br> 2020 1 Year Free Hosting: <br> https://www.atlantic.net/kalle/ Use code KALLE for <br> an ...\", \"Query: <b>programming</b><br> A lot of software engineers <br> have made videos on the <br> things they wish they knew <br> before starting programming, so I <br> figured I'd share the 5 <br> things I wish I knew <br> ...\", \"Query: <b>programming</b><br> Timeline of the most popular <br> programming languages since 1965 to <br> 2019. So far the most <br> intense ranking I've ever done <br> :) For recent years I've <br> used multiple ...\", \"Query: <b>programming</b><br> Ex-Google/ex-Facebook TechLead lists his top <br> coding languages to know in <br> 2020. Visit http://brilliant.org/TechLead/ to learn <br> math, science, and computer ...\", \"Query: <b>programming</b><br> This is the most asked <br> question on my channel by <br> far so I thought I'd <br> explain how I learned programming. <br> In the process I got <br> a little distracted and accidentally <br> ...\", \"Query: <b>programming</b><br> Want to land jobs at <br> Facebook/Google/Microsoft/Amazon? Learn how to do <br> that here: http://techinterviewpro.com/ \\u25bb Resume <br> Template and Cover letter I <br> used ...\", \"Query: <b>programming</b><br> Want to land jobs at <br> Facebook/Google/Microsoft/Amazon? Learn how to do <br> that here: http://techinterviewpro.com/ \\u25bb Resume <br> Template and Cover letter I <br> used ...\", \"Query: <b>programming</b><br> How To Get Internships At <br> Top Tech Companies - www.lifeofluba.com/internship <br> For video tips on practicing <br> technical interview - www.algoexpert.io/luba, use <br> ...\", \"Query: <b>programming</b><br> My Patreon - https://www.patreon.com/ThomasRandall In <br> this development log I implement <br> the basic inventory logic for <br> Arcane, as well as some <br> debugging tools ...\", \"Query: <b>programming</b><br> thx for the explanation.\", \"Query: <b>programming</b><br> Stay with Jim ^-^ Enjoy <br> and do not forget to <br> say thank you! Support on <br> Patreon will motivate me more. <br> I need to know that <br> you guys need this stuff <br> and you ...\", \"Query: <b>programming</b><br> This simple tutorial will teach <br> you how you can learn <br> computer programming and teach yourself <br> code. Learning code is not <br> that hard, and it's easier <br> than it looks.\", \"Query: <b>programming</b><br> I left a physics job <br> to do software engineering. Was <br> it worth it? What do <br> software engineers actually do? Thank <br> you to YouTube for sponsoring <br> this video!\", \"Query: <b>programming</b><br> A question like what is <br> the difference between programming and <br> coding can be tricky to <br> answer, as these are one <br> or the same. Programming and <br> coding are ...\", \"Query: <b>programming</b><br> Fourteen-year-old programmer and software developer <br> Santiago Gonzalez might just be <br> the next Steve Jobs. He <br> already has 15 iOS apps <br> to his name and ...\", \"Query: <b>programming</b><br> Get the Squatnik Hoodies here: <br> https://www.weslav.com/collections/squatnik-suit Programmer Boris is here! <br> I had to get some <br> floppy disks and a new <br> drive to ...\", \"Query: <b>programming</b><br> There are too many resources <br> out there going over how <br> to start programming, but they <br> talk about everything that has <br> to do with programming and <br> software ...\", \"Query: <b>programming</b><br> Follow the Insanity at: https://www.FailedNormal.com <br> Downloadable Podcasts at: https://failednormal.podbean.com iTunes: <br> ...\", \"Query: <b>programming</b><br> Hello! In this video, I <br> attempt to create a simple <br> voxel game/ Minecraft clone in <br> a single week. It doesn't <br> have the best performance or <br> the most features; but of <br> ...\", \"Query: <b>programming</b><br> A quick look at how <br> I went about implementing the <br> first city-building mechanic to my <br> game this week: a simple <br> road placement system! Get access <br> to the code ...\", \"Query: <b>programming</b><br> Bill Gates reflects, in detail, <br> on his early programming career. <br> From a 2010 interview with <br> the Academy of Achievement.\", \"Query: <b>programming</b><br> The Future of Programming 2019 <br> Update How did our industry <br> start, what paths did it <br> take to get to where <br> we are, and where is <br> it going. What big problems <br> did ...\", \"Query: <b>programming</b><br> What programming language to learn <br> first? Watch this video to <br> find out. My Python tutorials: <br> https://goo.gl/4dQMsJ Keep in touch on <br> Facebook: ...\", \"Query: <b>programming</b><br> Land the job! Get help <br> with a resume and cover <br> letter https://grindreel.com My Courses: https://grindreel.academy/ <br> Learn Code FREE for 2 <br> months: ...\", \"Query: <b>programming</b><br> In this video I explain <br> the benefits of becoming a <br> self-taught programmer from my own <br> personal experience. *** JOIN MY <br> GROUP *** Looking for a <br> high-quality ...\", \"Query: <b>programming</b><br> Music: Noisia - Seven Stitches.\", \"Query: <b>programming</b><br> Learning to program is hard <br> because programming feels different than <br> other skills. But programming isn't <br> about the languages - it <br> is about the way one <br> should ...\", \"Query: <b>programming</b><br> Ex-Google Tech Lead tells you <br> what he wishes he knew <br> before he began coding. Get <br> your free audio book: http://audibletrial.com/techlead <br> We had an ...\", \"Query: <b>programming</b><br> Ex-Google TechLead lists the 5 <br> \\\"must-have\\\" skills that all software <br> engineers need to be successful. <br> Visit http://dailyinterviewpro.com/ / for coding <br> interview ...\", \"Query: <b>programming</b><br> Join my 1-hour FREE training <br> Top 3 Secrets to Becoming <br> a Python Freelancer... https://events.genndi.com/register/169105139238457808/257d6fbaf8 In <br> this ...\", \"Query: <b>programming</b><br> Linda Liukas believes that a <br> movement in technology is already <br> happening and that we need <br> to engage everyone -- especially <br> the next generation -- to <br> take part ...\", \"Query: <b>programming</b><br> If you're a programmer and <br> looking to decide which laptop <br> to get in 2019, I've <br> developed a set of recommendations <br> for you based on 3 <br> different budgets! In this ...\", \"Query: <b>programming</b><br> Python tutorial for beginners - <br> Learn Python for machine learning <br> and web development. Get my <br> Complete Python Programming Course for <br> $29 (reg price ...\", \"Query: <b>programming</b><br> How did our industry start, <br> what paths did it take <br> to get to where we <br> are, and where is it <br> going. What big problems did <br> programmers encounter in the past?\", \"Query: <b>programming</b><br> Programming is not easy. It <br> takes massive amounts of effort, <br> focus, concentration, stress and sacrifice <br> to become proficient enough to <br> become a software ...\", \"Query: <b>programming</b><br> Visit the website: https://hackr.io/ Hey <br> whats up guys in today's <br> video I'll show you that <br> how can you learn coding <br> language or programming language easily <br> from ...\", \"Query: <b>programming</b><br> Want to build profitable Apps <br> ($105K+) without code in days? <br> \\u25b6\\ufe0e https://zerotoapp.com/ytd In this video <br> I'm going to breakdown the <br> main 4 concepts you need <br> ...\", \"Query: <b>programming</b><br> In this video, I conduct <br> a mock Google coding interview <br> with a competitive programmer, Errichto. <br> As a Google Software Engineer, <br> I interviewed dozens of ...\", \"Query: <b>programming</b><br> WHY Programmers QUIT Discord - <br> https://discord.gg/bHQAuGj.\", \"Query: <b>programming</b><br> Get Edureka Certified in Trending <br> Programming Languages: https://www.edureka.co In this <br> highly competitive IT industry, everyone <br> wants to learn programming ...\", \"Query: <b>programming</b><br> Donald Knuth is one of <br> the greatest and most impactful <br> computer scientists and mathematicians ever. <br> He is the recipient in <br> 1974 of the Turing Award, <br> considered ...\", \"Query: <b>programming</b><br> The BEST Programming Languages To <br> Learn In 2020 (#1 WILL <br> SHOCK YOU) #1 will SHOCK <br> YOU! A lot of people <br> ask me about what programming <br> languages ...\", \"Query: <b>programming</b><br> Get the COMPLETE COURSE: http://bit.ly/2keDCna <br> 4 pillars of object-oriented programming: <br> encapsulation, abstraction, inheritance and polymorphism.\", \"Query: <b>programming</b><br> how to start coding and <br> learn coding and become a <br> computer programmer easy step by <br> step guide and tutorials for <br> beginners to learn Computer programming <br> c ...\", \"Query: <b>programming</b><br> This course will give you <br> a full introduction into all <br> of the core concepts in <br> the C programming language. Follow <br> along with the tutorial video <br> and you'll be a C <br> ...\", \"Query: <b>coding</b><br> Growth books: https://amzn.to/2WnvXHK My Instagram: <br> https://www.instagram.com/thejohnfish/ Links to all projects <br> + more below \\u2b07\\ufe0f Camera <br> Gear: ...\", \"Query: <b>coding</b><br> Hello Friends welcome to Soft <br> Tech. In this video about <br> big techies like Bill Gates,David <br> Karp,Mark Zuckerberg Karlie Kloss,Explain the <br> importance of coding.\", \"Query: <b>coding</b><br> Ex-Google/ex-Facebook TechLead exposes why he's <br> so good at programming. Thanks <br> to our sponsor Skillshare, an <br> online learning community - get <br> your FREE ...\", \"Query: <b>coding</b><br> This video is an overview <br> of computer programming (coding) at <br> the most basic level. See <br> where it came from and <br> how it works. Content, narration, <br> animation ...\", \"Query: <b>coding</b><br> This is the most asked <br> question on my channel by <br> far so I thought I'd <br> explain how I learned programming. <br> In the process I got <br> a little distracted and accidentally <br> ...\", \"Query: <b>coding</b><br> This course will give you <br> a full introduction into all <br> of the core concepts in <br> python. Follow along with the <br> videos and you'll be a <br> python programmer in no time!\", \"Query: <b>coding</b><br> A question like what is <br> the difference between programming and <br> coding can be tricky to <br> answer, as these are one <br> or the same. Programming and <br> coding are ...\", \"Query: <b>coding</b><br> We're doin' lines\\u2026 of code.\\u201d <br> Check out more awesome videos <br> at BuzzFeedVideo! http://bit.ly/YTbuzzfeedvideo MUSIC Super <br> Power Up Licensed via Warner <br> ...\", \"Query: <b>coding</b><br> Watch me code live for <br> 12 hours with no breaks <br> during this 12 HOUR CODING <br> LIVESTREAM. I am going to <br> be creating an online multiplayer <br> game with python, ...\", \"Query: <b>coding</b><br> It's a code.org, short film <br> on the need of teaching <br> coding in schools. Listen to <br> big techies like Mark Zukerberg, <br> Bill Gates, and many gaints, <br> explain the importance ...\", \"Query: <b>coding</b><br> Stay with Jim ^-^ Enjoy <br> and do not forget to <br> say thank you! Support on <br> Patreon will motivate me more. <br> I need to know that <br> you guys need this stuff <br> and you ...\", \"Query: <b>coding</b><br> 12 Hour Coding LiveStream! Watch <br> me create a tower defense <br> game using python and pygame <br> while coding straight for 12 <br> hours with no breaks. This <br> is an ...\", \"Query: <b>coding</b><br> Coding Background Video.\", \"Query: <b>coding</b><br> Wondering how to learn to <br> code? What programming languages to <br> learn in 2019? Watch this <br> video to find out. Python <br> tutorial for beginners: ...\", \"Query: <b>coding</b><br> Get the Squatnik Hoodies here: <br> https://www.weslav.com/collections/squatnik-suit Programmer Boris is here! <br> I had to get some <br> floppy disks and a new <br> drive to ...\", \"Query: <b>coding</b><br> Hello! In this video, I <br> attempt to create a simple <br> voxel game/ Minecraft clone in <br> a single week. It doesn't <br> have the best performance or <br> the most features; but of <br> ...\", \"Query: <b>coding</b><br> Welcome to the Tic Tac <br> Toe challenge! This is be <br> a beginner-friendly challenge where I <br> attempt to code a basic <br> version of the game Tic-Tac-Toe <br> using ...\", \"Query: <b>coding</b><br> First 500 people will get <br> 2 months of Skillshare free: <br> https://skl.sh/polymatter4 Patreon: https://patreon.com/polymatter Twitter: https://twitter.com/polymatters <br> ...\", \"Query: <b>coding</b><br> Ex-Google tech lead Patrick Shyu <br> explains how to learn to <br> code quickly and easily, with <br> this one weird trick! It's <br> so simple with this 1-step <br> program! Are you ...\", \"Query: <b>coding</b><br> AVAILABLE NOW! $20 2 DISC <br> DVD - http://www.fangamer.net/products/minecraft-the-story-of-mojang $8 DRM-FREE <br> DIGITAL DOWNLOAD ...\", \"Query: <b>coding</b><br> Hi everyone! I am sharing <br> with you my experience attending <br> a coding bootcamp and advice <br> I have for anyone who <br> is thinking of attending one <br> to decide if it is <br> ...\", \"Query: <b>coding</b><br> In this coding challenge, I <br> attempt to code a p5.js <br> version of the Snake Game. <br> Challenge Webpage: ...\", \"Query: <b>coding</b><br> Support on Patreon: https://www.patreon.com/gamkedo Try <br> my free course: http://code-your-first-game.com (or <br> full URL is ...\", \"Query: <b>coding</b><br> Are you stuck at your <br> desk dreaming of another working <br> life? Many consider switching careers <br> but few are brave enough <br> to do it. The FT's <br> Emma Jacobs wants ...\", \"Query: <b>coding</b><br> In this coding adventure I <br> attempt to simulate a simple <br> ecosystem. Will the foxes and <br> rabbits get along? Probably not... <br> If you'd like to support <br> the creation of more ...\", \"Query: <b>coding</b><br> How to learn to code: <br> This is a story of <br> how I learned to code <br> and eventually became skilled enough <br> to get a job at <br> Google. My Python tutorials for <br> complete ...\", \"Query: <b>coding</b><br> In this video, I conduct <br> a mock Google coding interview <br> with a competitive programmer, Errichto. <br> As a Google Software Engineer, <br> I interviewed dozens of ...\", \"Query: <b>coding</b><br> Model and entrepreneur Karlie Kloss <br> shares more about her own <br> interest in learning to code, <br> and why you should give <br> it at least one hour. <br> Start learning at ...\", \"Query: <b>coding</b><br> I started programming 7 years <br> ago because I wanted to <br> be an entrepreneur. It took <br> a lot of failures to <br> get to where I am <br> now with a startup and <br> a couple of side ...\", \"Query: <b>coding</b><br> how to start coding and <br> learn coding and become a <br> computer programmer easy step by <br> step guide and tutorials for <br> beginners to learn Computer programming <br> c ...\", \"Query: <b>coding</b><br> Web Development Syllabus I made <br> with tons of resources: https://novicedock.com/learn/computer-science/web-development <br> Learn iOS Development: ...\", \"Query: <b>coding</b><br> Sekarang adalah tahun 2017, semua <br> bisa diselesaikan dengan sekali klik <br> di ponsel atau komputermu. Kamu <br> ingin memesan makan malam, kamu <br> tinggal klik ...\", \"Query: <b>coding</b><br> Want to land jobs at <br> Facebook/Google/Microsoft/Amazon? Learn how to do <br> that here: http://techinterviewpro.com/ \\u25bb Resume <br> Template and Cover letter I <br> used ...\", \"Query: <b>coding</b><br> Amazon coding interview question and <br> answer - recursive staircase problem! <br> For daily coding problems like <br> this one, I'd recommend this <br> website called Daily ...\", \"Query: <b>coding</b><br> I left a physics job <br> to do software engineering. Was <br> it worth it? What do <br> software engineers actually do? Thank <br> you to YouTube for sponsoring <br> this video!\", \"Query: <b>coding</b><br> Not a computer scientist or <br> new to coding? That's Ok! <br> Learn how to introduce coding <br> with your students using Minecraft: <br> Education Edition in just a <br> few minutes.\", \"Query: <b>coding</b><br> Bobby Davis explains what coding <br> project to build, how to <br> build it, and how to <br> present it to an employer. <br> WHAT TO BUILD Use a <br> design pattern, like MVC Include <br> ...\", \"Query: <b>coding</b><br> Whether you're learning to code <br> or practicing the skills you've <br> already learned, coding games offer <br> a fun and challenging way <br> to level up your programming <br> ...\", \"Query: <b>coding</b><br> 2018 H1 Student Outcomes for <br> Hack Reactor (See Page 2): <br> ...\", \"Query: <b>coding</b><br> In this challenge, I attempt <br> to make my own version <br> of Google's Dinosaur Game (T-Rex <br> run!) with a unique twist <br> -- controlling the dinosaur (unicorn, <br> in this case) ...\", \"Query: <b>coding</b><br> Coding on the iPad Pro <br> is a great experience. In <br> this video I'll show you <br> the apps and workflows I <br> use to build apps and <br> automation utilities directly on the <br> iPad.\", \"Query: <b>coding</b><br> that feeling when you have <br> a phone interview for a <br> job and it goes horribly <br> this is the long awaited <br> followup to this video on <br> coding interviews in silicon valley <br> ...\", \"Query: <b>coding</b><br> Ex-Google Tech Lead explains why <br> programming is so hard. Join <br> me in my new coding <br> interview training program: http://techinterviewpro.com/ Join <br> ...\", \"Query: <b>coding</b><br> Learn what computer programming is. <br> The Hour of Code\\u2122 is <br> a nationwide initiative by Computer <br> Science Education Week and Code.org <br> to introduce millions of ...\", \"Query: <b>coding</b><br> Find the first recurring character <br> in the given string! A <br> variation of this problem: find <br> the first NON-recurring character. This <br> variation problem and many others <br> are ...\", \"Query: <b>coding</b><br> You've taken a few developer <br> / coding courses ... but <br> you're not sure which way <br> to go, in terms of <br> career? In this video, I <br> answer a few coding career <br> questions ...\", \"Query: <b>data science</b><br> Want to land jobs at <br> Facebook/Google/Microsoft/Amazon? Learn how to do <br> that here: http://techinterviewpro.com/ \\u25bb Resume <br> Template and Cover letter I <br> used ...\", \"Query: <b>data science</b><br> This Data Science tutorial video <br> will give you an idea <br> on the life of a <br> Data Scientist, steps involved in <br> Data science project, roles & <br> salary offered to a Data <br> ...\", \"Query: <b>data science</b><br> Learn Data Science is this <br> full tutorial course for absolute <br> beginners. Data science is considered <br> the \\\"sexiest job of the <br> 21st century.\\\" You'll learn the <br> important ...\", \"Query: <b>data science</b><br> Data Science Master Program: https://www.edureka.co/masters-program/data-scientist-certification <br> ** This Edureka Data Science <br> Full Course video will help <br> you ...\", \"Query: <b>data science</b><br> \\u0412 \\u0441\\u0435\\u0433\\u043e\\u0434\\u043d\\u044f\\u0448\\u043d\\u0435\\u043c \\u0432\\u044b\\u043f\\u0443\\u0441\\u043a\\u0435 \\u0443 \\u043c\\u0435\\u043d\\u044f <br> \\u0432 \\u0433\\u043e\\u0441\\u0442\\u044f\\u0445 Data Scientist \\u043a\\u043e\\u043c\\u043f\\u0430\\u043d\\u0438\\u0438 <br> Banuba - \\u0412\\u044f\\u0447\\u0435\\u0441\\u043b\\u0430\\u0432 \\u0410\\u0440\\u0445\\u0438\\u043f\\u043e\\u0432. \\u0421\\u043b\\u0430\\u0432\\u0430 <br> \\u043f\\u0440\\u043e\\u0432\\u0435\\u043b \\u043f\\u043e\\u043b\\u043d\\u044b\\u0439 \\u044d\\u043a\\u0441\\u043a\\u0443\\u0440\\u0441...\", \"Query: <b>data science</b><br> In this talk Mr.Asitang Mishra <br> relates his experiences as a <br> Data Scientist at the world <br> famous NASA Jet Propulsion Laboratory <br> (JPL). With his wit, intellect, <br> and ...\", \"Query: <b>data science</b><br> So, you want to become <br> a data scientist? Great! Check <br> out the ultimate guide: http://bit.ly/2P1FEJl <br> or watch this video to <br> learn what you need. Data <br> science is a ...\", \"Query: <b>data science</b><br> Want to land jobs at <br> Facebook/Google/Microsoft/Amazon? Learn how to do <br> that here: http://techinterviewpro.com/ \\u25bb Sign <br> up for FREE daily ...\", \"Query: <b>data science</b><br> Hi, I'm Prashant Kathuria, a <br> data scientist, passionate coder and <br> Deep Learning enthusiast. This is <br> a video of one day <br> of my life at upGrad <br> as a Senior Data ...\", \"Query: <b>data science</b><br> Peranan Data Science sangat penting <br> di era Big Data saat <br> ini. Berbagai jenis data perlu <br> diolah sehingga dapat memberikan saran <br> untuk langkah ke depannya ...\", \"Query: <b>data science</b><br> How big data starts to <br> drive the world, and what <br> kind of skills will you <br> need to interpret it? General <br> Director of Alto Data Analytics, <br> Jose Miguel Cansado, has ...\", \"Query: <b>data science</b><br> Want to land jobs at <br> Facebook/Google/Microsoft/Amazon? Learn how to do <br> that here: http://techinterviewpro.com/ \\u25bb Resume <br> Template and Cover letter I <br> used ...\", \"Query: <b>data science</b><br> Here are my pick of <br> the best online data science <br> courses:- MY COMPLETE PYTHON PROGRAMMER <br> COURSE IS HERE http://bit.ly/2OwUA09 Coursera <br> Data ...\", \"Query: <b>data science</b><br> The average salary in Data <br> Science is $120000, while the <br> average salary in Data Analytics <br> is $70000. So can a <br> data analyst become a data <br> scientist? Learn all ...\", \"Query: <b>data science</b><br> Skillshare might not like this. <br> You can sign up for <br> a 2 month trial for <br> Skillshare, complete the data science <br> course and then cancel your <br> membership before being ...\", \"Query: <b>data science</b><br> Python \\u00e9 o novo Excel? <br> Para que serve o R, <br> Pandas e Jupyter? E qual <br> \\u00e9, afinal, a diferen\\u00e7a entre <br> o Data Science, Business Intelligence <br> e Machine Learning?\", \"Query: <b>data science</b><br> Learn Advanced Data Analytics www.DataStrategyWithJonathan.com.\", \"Query: <b>data science</b><br> Want to land jobs at <br> Facebook/Google/Microsoft/Amazon? Learn how to do <br> that here: http://techinterviewpro.com/ \\u25bb Resume <br> Template and Cover letter I <br> used ...\", \"Query: <b>data science</b><br> Talking data science with Mansha, <br> a data scientist at Instagram. <br> Previously at Blue Apron, Ernst <br> & Young and UPenn. Want <br> to learn data science with <br> a job ...\", \"Query: <b>data science</b><br> \\u041a\\u0430\\u043a \\u043d\\u0430\\u0439\\u0442\\u0438 \\u0440\\u0430\\u0431\\u043e\\u0442\\u0443 \\u0432 Data <br> Science, \\u0435\\u0441\\u043b\\u0438 \\u0443 \\u0442\\u0435\\u0431\\u044f \\u0435\\u0449\\u0435 <br> \\u043d\\u0435\\u0442 \\u0440\\u0430\\u0431\\u043e\\u0447\\u0435\\u0433\\u043e \\u043e\\u043f\\u044b\\u0442\\u0430? - \\u0421\\u0442\\u043e\\u0438\\u0442 <br> \\u043b\\u0438 \\u0442\\u0440\\u0430\\u0442\\u0438\\u0442\\u044c \\u0432\\u0440\\u0435\\u043c\\u044f \\u043d\\u0430 kaggle? <br> - \\u041a\\u0430\\u043a\\u043e\\u0439 \\u043f\\u0443\\u0442\\u044c...\", \"Query: <b>data science</b><br> How to Become a Data <br> Scientist Do you want to <br> become a data scientist? In <br> this short film I show <br> you all the steps necessary <br> to become a data scientist.\", \"Query: <b>data science</b><br> The world of data and <br> data science can seem overwhelming! <br> But don't worry! We've got <br> you covered! In this Introduction <br> to Data Science video, we'll <br> show you ...\", \"Query: <b>data science</b><br> Hello Dosto, Awesome Data Science <br> 6 Courses Bundle- http://www.a-leap.com/bundles?bundle_id=data-scientist-bundle Read <br> 2 books for FREE- ...\", \"Query: <b>data science</b><br> Data Scientist Masters Program: https://www.edureka.co/masters-program/data-scientist-certification <br> ** This Edureka video on <br> \\\"What is Data Science\\\" will <br> ...\", \"Query: <b>data science</b><br> Want to land jobs at <br> Facebook/Google/Microsoft/Amazon? Learn how to do <br> that here: http://techinterviewpro.com/ \\u25bb Resume <br> Template and Cover letter I <br> used ...\", \"Query: <b>data science</b><br> Data Science in Hindi Learn <br> Digital Marketing(Offline Course) Or Make <br> Your Business Digital With Lapaas- <br> Digital Marketing Institue and Agency. <br> Join Our Most ...\", \"Query: <b>data science</b><br> Learn the basic components of <br> Data Science in this crash <br> course for beginners. If you <br> want to learn more about <br> data science after completing this <br> course, check ...\", \"Query: <b>data science</b><br> In this episode of our <br> \\u201cDay in the Life\\u201d series, <br> Chevron Data Scientist Alena Crivello <br> describes her use of analytics <br> to find solutions to complex <br> problems.\", \"Query: <b>data science</b><br> The median salary for a <br> mid-level Data Scientist is $128750 <br> while web developers made a <br> median salary of $67990. Does <br> that mean it's better to <br> become a data ...\", \"Query: <b>data science</b><br> With her PhD in math, <br> Ivana Seric had expected to <br> wind up with a career <br> in academia\\u2014but thanks to the <br> growing use of statistical analysis <br> in the NBA, she took <br> ...\", \"Query: <b>data science</b><br> Talking data science with Michael, <br> a data scientist at Google. <br> Previously at Mercedes. Want to <br> learn data science with a <br> job guarantee? Check out Springboard's <br> ...\", \"Query: <b>data science</b><br> Data Analytics Masters' Program: https://www.edureka.co/masters-program/data-analyst-certification <br> ** ** Data Scientist Masters' <br> Program: ...\", \"Query: <b>data science</b><br> This Data Science tutorial will <br> help you in understanding what <br> is Data Science, why we <br> need Data Science, prerequisites for <br> learning Data Science, what does <br> a ...\", \"Query: <b>data science</b><br> Hello All in this video <br> we will understand how we <br> can learn Data Science Smartly <br> Please join as a member <br> in my channel to get <br> additional benefits like materials ...\", \"Query: <b>data science</b><br> We will use glassdoor platform <br> to figure out current salary <br> trends in USA and India <br> for data scientist. The salary <br> depends on three key factors <br> (1) location (2) ...\", \"Query: <b>data science</b><br> This video on Data Science <br> is a full course compilation <br> that will help you gain <br> all the concepts (5:51), techniques <br> (30:23), and algorithms (2:30:10 onwards) <br> ...\", \"Query: <b>data science</b><br> Learn all the skills you <br> need to get an entry-level <br> data science job from Frank <br> himself: http://engineeredtruth.com/skillshare-data-science Rich Friends, Poor <br> ...\", \"Query: <b>data science</b><br> \\u041f\\u043e\\u043b\\u043e\\u0436\\u0438 \\u043d\\u0430\\u0447\\u0430\\u043b\\u043e \\u043f\\u0440\\u043e\\u0444\\u0435\\u0441\\u0441\\u0438\\u0438 \\u043c\\u0435\\u0447\\u0442\\u044b \\u0441 <br> \\u043a\\u0443\\u0440\\u0441\\u043e\\u043c \\u21d2 http://bit.ly/pythonskillbox \\u041f\\u0440\\u0435\\u043f\\u043e\\u0434\\u0430\\u0432\\u0430\\u0442\\u0435\\u043b\\u044c Data <br> Science \\u0432 Skillbox \\u0412\\u0430\\u043b\\u0435\\u043d\\u0442\\u0438\\u043d \\u041f\\u0430\\u043d\\u043e\\u0432\\u0441\\u043a\\u0438\\u0439...\", \"Query: <b>data science</b><br> \\u0645\\u0633\\u0627\\u0621 \\u0627\\u0644\\u062e\\u064a\\u0631 \\u0627\\u0632\\u064a\\u0643\\u0645 \\u0632\\u064a \\u0645\\u0627 <br> \\u0648\\u0639\\u062f\\u062a\\u0643\\u0645 \\u0627\\u0644\\u0645\\u0631\\u0629 \\u0627\\u0644\\u0644\\u064a \\u0641\\u0627\\u062a\\u062a \\u0627\\u0646 <br> \\u0634\\u0627\\u0621 \\u0627\\u0644\\u0644\\u0647 \\u0627\\u0644\\u0645\\u0631\\u0629 \\u062f\\u064a \\u062d\\u0646\\u062a\\u0643\\u0644\\u0645 <br> \\u0639\\u0646 \\u0627\\u0644\\u0641\\u0631\\u0648\\u0642 \\u0628\\u064a\\u0646 \\u0645\\u062c\\u0627\\u0644\\u0627\\u062a \\u0645\\u0633\\u0645\\u064a\\u0627\\u062a\\u0647\\u0627...\", \"Query: <b>data science</b><br> Un data scientist es el <br> encargado en una organizaci\\u00f3n que <br> busca encontrar verdades a trav\\u00e9s <br> del an\\u00e1lisis masivo de datos <br> para poder guiar al equipo <br> en la ...\", \"Query: <b>data science</b><br> \\u0421\\u0442\\u0440\\u0438\\u043c \\u0441 \\u043e\\u0442\\u0432\\u0435\\u0442\\u0430\\u043c\\u0438 \\u043d\\u0430 \\u0432\\u043e\\u043f\\u0440\\u043e\\u0441\\u044b: <br> https://www.youtube.com/watch?v=hg66smsgJ7k \\u041a\\u0430\\u043a \\u043f\\u0435\\u0440\\u0435\\u0439\\u0442\\u0438 \\u0432 big <br> data \\u0438\\u0437 \\u0434\\u0440\\u0443\\u0433\\u043e\\u0439 \\u043f\\u0440\\u043e\\u0444\\u0435\\u0441\\u0441\\u0438\\u0438: ...\", \"Query: <b>data science</b><br> Netflix is bringing engaging, culturally <br> diverse stories to people all <br> across the globe. With each <br> original movie or TV show, <br> we learn more about what <br> our ...\", \"Query: <b>data science</b><br> Intellipaat Python for Data Science <br> Course: https://intellipaat.com/python-for-data-science-training/ In this python <br> for data science video you <br> will learn end to end <br> ...\", \"Query: <b>data science</b><br> Meesho App \\u0915\\u094b \\u0921\\u093e\\u0909\\u0928\\u0932\\u094b\\u0921 \\u0915\\u0930\\u0947 <br> \\u0914\\u0930 \\u092b\\u094d\\u0930\\u0940 \\u092e\\u0947\\u0902 10 \\u0939\\u091c\\u093c\\u093e\\u0930 <br> \\u0924\\u0915 \\u0915\\u092e\\u093e\\u090f - https://meesho.com/invite/PRAVEEN837 and <br> Watch the Meesho tutorial to...\", \"Query: <b>data science</b><br> Chatting cats & dogs subreddits <br> with Katie, data scientist @Reddit. <br> Learn data science with a <br> job guarantee: ...\", \"Query: <b>data science</b><br> Hello All, In this video <br> you are going to see <br> my path on becoming a <br> Data Scientist. Please join as <br> a member in my channel <br> to get additional benefits like <br> ...\", \"Query: <b>data science</b><br> \\u0417\\u0430\\u043f\\u0438\\u0441\\u044b\\u0432\\u0430\\u0439\\u0441\\u044f \\u043d\\u0430 \\u0433\\u043e\\u0434\\u043e\\u0432\\u043e\\u0439 \\u043a\\u0443\\u0440\\u0441 \\u043f\\u043e <br> Data Science \\u0448\\u043a\\u043e\\u043b\\u044b \\u0434\\u0430\\u043d\\u043d\\u044b\\u0445 SkillFactory: <br> https://clc.to/FMZ_dg. \\u0410 \\u043f\\u043e \\u043f\\u0440\\u043e\\u043c\\u043e\\u043a\\u043e\\u0434\\u0443 CODE <br> BLOG \\u043c\\u043e\\u0436\\u043d\\u043e \\u043f\\u043e\\u043b\\u0443\\u0447\\u0438\\u0442\\u044c...\", \"Query: <b>data science</b><br> Um dos grandes diferencias do <br> Nubank \\u00e9 que todas as <br> nossas decis\\u00f5es de neg\\u00f3cio e <br> produtos s\\u00e3o tomadas a partir <br> de dados. Para fazer com <br> isso seja ...\", \"Query: <b>data science</b><br> Chatting data science interviews and <br> career with Eva, a data <br> scientist @Uber, formerly Amazon. Learn <br> data science with a job <br> guarantee: ...\", \"Query: <b>data science</b><br> Chatting bikes & scooters with <br> Shae, data scientist @Uber. Learn <br> data science online with a <br> job guarantee: ...\", \"Query: <b>dogs</b><br> The funniest dog videos that <br> will make you laugh so <br> hard that you will pee <br> your pants! Dogs and puppies <br> are the best entertainment. Funny <br> dog videos never fail ...\", \"Query: <b>dogs</b><br> Enjoy new funniest and very <br> cute compilation of the week <br> about try not laugh funny <br> animals' life video. Cats are <br> surely the most popular pets <br> and awesome ...\", \"Query: <b>dogs</b><br> Brand new weekly theme compilation <br> where we challenge you to <br> Try Not To Laugh at <br> these Funny Dogs. Funny Pet <br> Videos brings you the best <br> cute animal ...\", \"Query: <b>dogs</b><br> TV for Dogs! Chill Your <br> Dog Out with this 24/7 <br> TV and Music Playlist! - <br> If you're looking for a <br> way to entertain your bored <br> dog without getting them too <br> hyperactive, ...\", \"Query: <b>dogs</b><br> Check out more awesome videos <br> : https://www.youtube.com/user/CopyMafia?sub_confirmation=1 Facebook : ViralBe.Official <br> Instagram : ViralBe.Official There ...\", \"Query: <b>dogs</b><br> Brand new weekly try not <br> to laugh compilation featuring the <br> funniest and cutest animals and <br> pets of January 2019! Funny <br> Vines brings you the best <br> V2 Funny ...\", \"Query: <b>dogs</b><br> Try Not To Laugh - <br> Funny Animals Videos 2019 - <br> Dogs Are So Weird Heads <br> up, folks. You're about to <br> watch some craziest fails video <br> on the internet. Welcome ...\", \"Query: <b>dogs</b><br> Bravecto #anipetshop.com \\u2708\\u2708\\u2708Shop Pet Medicines <br> : https://anipetshop.com \\u00a9BUY NOW : <br> Bravecto, Nexgard, Heartgard, Revolution,..... \\u25bbWorldwide <br> FREE ...\", \"Query: <b>dogs</b><br> In this video compilation you <br> can meet funnie4st and adorable <br> babies which love dogs and <br> cats. This cute babies playing <br> with pets and are happy. <br> SUBSCRIBE ...\", \"Query: <b>dogs</b><br> How to Keep Your Dog <br> Healthy. If you're a dog <br> owner, you surely want your <br> pet to be healthy and <br> to live a long and <br> happy life. But you might <br> sometimes do ...\", \"Query: <b>dogs</b><br> Pink Floyd - Dogs Animals <br> (1977) *No copyright infringement intended.\", \"Query: <b>dogs</b><br> There's really no way to <br> properly describe the experience of <br> being on a South Korean <br> dog meat farm. Follow HSI's <br> Nicole Jaworski as she gets <br> her first up-close ...\", \"Query: <b>dogs</b><br> Dog's heroics will make you <br> cry! Donate at https://www.guidedogs.org/pip Click <br> here for the audio description <br> for the visually impaired: ...\", \"Query: <b>dogs</b><br> Dog Reviews Food With Husky <br> | Tucker Taste Test 17 <br> Tucker's Husky friend Echo spent <br> the weekend over for a <br> play date and Tucker told <br> her she needed to join <br> ...\", \"Query: <b>dogs</b><br> Jokes about my fear of <br> dogs & dog-owners. Hope you <br> like it. If you do, <br> please share it & also <br> don't forget to subscribe :) <br> Ticket link for India tour <br> ...\", \"Query: <b>dogs</b><br> In this video, Crusoe and <br> Oakley the miniature #dachshunds get <br> locked up in jail for <br> a misdewiener crime and then <br> have to find a way <br> to bust themselves out in <br> ...\", \"Query: <b>dogs</b><br> We've collected the most precious <br> moments from our beloved canine <br> companions: from cute puppies opening <br> their eyes for the first <br> time, to loyal wild dogs <br> and ...\", \"Query: <b>dogs</b><br> Dogs and puppies are super <br> funny and hilarious, they make <br> us laugh all the time! <br> The hardest TRY NOT TO <br> LAUGH challenge in the World! <br> Just look how all ...\", \"Query: <b>dogs</b><br> LuxuryDark: https://www.youtube.com/watch?v=cOZfhRqwSt4 *100000 likes for <br> next episode* In this episode, <br> Parker and Chester investigate a <br> situation for a ...\", \"Query: <b>dogs</b><br> Scientists, experts and common dog <br> lovers can't agree on which <br> dog breed should be considered <br> the most dangerous in the <br> world. However, due to frequent <br> ...\", \"Query: <b>dogs</b><br> Watch Part 2 now - <br> https://youtu.be/iv8Z4u5ZqWw Southern China has always <br> had a tradition of dining <br> on dogs\\u2014people from other parts <br> of the country even ...\", \"Query: <b>dogs</b><br> OMG! Husky Can Speak English! <br> - Language Of Cats And <br> Dogs - Pets Paws Video <br> 2020 \\u25bb Link video: https://youtu.be/TUCQAruhEKI <br> \\u25bb Subscribe: ...\", \"Query: <b>dogs</b><br> Rescue Dogs Buried In Giant <br> Pile Of Rocks... Rescue Dog <br> Story Touched Millions Of Hearts <br> Love Animal World would like <br> to send you the list <br> of the most ...\", \"Query: <b>dogs</b><br> Check out more awesome videos <br> : https://www.youtube.com/user/CopyMafia?sub_confirmation=1 Facebook : ViralBe.Official <br> Instagram : ViralBe.Official The ...\", \"Query: <b>dogs</b><br> Surprising My Dog With His <br> Girlfriends Tucker just loves to <br> play with his best friends. <br> Today we decided to surprise <br> him with his favorite puppy <br> girlfriends.\", \"Query: <b>dogs</b><br> Rescue Abandoned Puppies Building Mud <br> House Dog And Fish Pond <br> For Red Fish. In my <br> place have a lots of <br> puppies abandoned every where, so <br> i decide to ...\", \"Query: <b>dogs</b><br> Tiniest Puppy Loves To Race <br> Around On His Wheels | <br> Imagine if this was your <br> dog Try and keep up <br> with TurboRoo the two-legged chihuahua <br> by following ...\", \"Query: <b>dogs</b><br> TRY NOT TO CRY: Dogs <br> Meet Their Owner After Long <br> Time - Part II. AMAZING <br> video. Subscribe: http://bit.ly/FunnyPetMedia | Facebook: <br> ...\", \"Query: <b>dogs</b><br> Meet the top 10 biggest <br> dogs in the world. Despite <br> their large size they are <br> not dangerous and many children <br> would be happy to have <br> them as pets.\", \"Query: <b>dogs</b><br> Baby Animals Funny Cats and <br> Dogs Videos Compilation (2019) Perros <br> y Gatos Recopilaci\\u00f3n #10 Cats <br> are cute and funny. Dogs <br> are awesome. Check out ...\", \"Query: <b>dogs</b><br> We got a call to <br> rescue a dog fighting for <br> her life after falling in <br> a deep well. She may <br> have been swimming for hours <br> before a villager saw her <br> and called our ...\", \"Query: <b>dogs</b><br> Want to find a girlfriend <br> or boyfriend? Watch and learn <br> how this funny crab deals <br> with this problem: https://www.youtube.com/watch?v=xLeGyMh1LuI If <br> u ask a ...\", \"Query: <b>dogs</b><br> Wow!!! Amazing Videos Real Dog <br> Meeting On The Street ~ <br> Funny Animals Pets And Rural <br> Puppy I will Share you <br> about Animal Feeding and Everything <br> related ...\", \"Query: <b>dogs</b><br> Thank you for watching videos <br> :) Hope you like our <br> compilation, please share it and <br> SUBSCRIBE channel NHD-TV ! Watch <br> also our other videos!\", \"Query: <b>dogs</b><br> Dog And Baby Take A <br> Swim Very Funny Time | <br> Funny Baby Video Description: Funny <br> Dogs Playing With Water. Dogs <br> and water will always have <br> a love/hate ...\", \"Query: <b>dogs</b><br> There are many factors that <br> play a role when assigning <br> a \\u201cdanger\\u201d level to a <br> dog but most critics and <br> researchers disagree as to what <br> these factors are.\", \"Query: <b>dogs</b><br> top 10 of the most <br> expensive dog breeds in the <br> world Subscribe to our channel: <br> http://goo.gl/9CwQhg For copyright matters please <br> contact us at: ...\", \"Query: <b>dogs</b><br> Since dogs can't talk, it <br> is tough to know what <br> they are thinking. It is <br> also difficult to understand why <br> they do the things they <br> do. Fortunately, there are a <br> few ...\", \"Query: <b>dogs</b><br> Check out more awesome videos <br> : https://www.youtube.com/user/CopyMafia?sub_confirmation=1 Facebook : ViralBe.Official <br> Instagram : ViralBe.Official ...\", \"Query: <b>dogs</b><br> TechZone \\u25bb https://goo.gl/Gj3wZs Have you <br> noticed that there're always a <br> lot of videos with cute <br> animals on the Internet? Of <br> course, we love every and <br> each of ...\", \"Query: <b>dogs</b><br> These following cute cross breed <br> dogs are so fascinating, you'd <br> want one for yourself. Keep <br> watching to see just what <br> type of breeds people have <br> been creating ...\", \"Query: <b>dogs</b><br> I challenge anyone watching this <br> video to try not to <br> laugh when you see the <br> dog reaction to dog cake. <br> Because the dog is in <br> complete shock as it watches <br> the ...\", \"Query: <b>dogs</b><br> \\u0926\\u0941\\u0928\\u093f\\u092f\\u093e \\u0915\\u093f \\u0938\\u092c\\u0938\\u0947 \\u0916\\u0924\\u0930\\u0928\\u093e\\u0915 \\u0915\\u0941\\u0924\\u094d\\u0924\\u093e <br> | Most Dangerous Dog Breeds <br> dangerous dogs in India dog <br> attack in India sabse khatarnak <br> kutta dogs that are banned <br> ...\", \"Query: <b>dogs</b><br> Subscribe to Earth Unplugged for <br> more awesome slo mo videos <br> -- http://goo.gl/VK1MH It's another dog <br> vs cat battle this week, <br> as the boys film the <br> world's fastest ...\", \"Query: <b>dogs</b><br> TV For Dogs: Interactive Dog <br> TV | 7 Hours of <br> Entertainment - Keep your dog <br> stimulated for hours with our <br> entertaining and engaging video for <br> dogs! Filmed at ...\", \"Query: <b>dogs</b><br> 10 Amazing Dogs Who Saved <br> Their Owners \\u25bb Subscribe: https://goo.gl/vHN6qB <br> For copyright matters please contact <br> us at: miniminter1992.29@gmail.com ...\", \"Query: <b>dogs</b><br> Dog Reviews Food With Girlfriend <br> | Tucker Taste Test 12 <br> Tucker had his girlfriend Journee <br> over today and she wanted <br> to join in on the <br> food reviews and taste ...\", \"Query: <b>dogs</b><br> Diesel the husky is a <br> dog with a dark side, <br> he's a perfect dog when <br> his 'dad' Jordan is around, <br> but when left with Becky <br> he will hump, jump and <br> bite anyone he ...\", \"Query: <b>dogs</b><br> Dog Reviews Food With Puppy <br> | Tucker Taste Test 15 <br> Tucker's puppy pal Flutter was <br> recently over for a play <br> date, and she wanted to <br> join in on the taste <br> testing ...\", \"Query: <b>cats</b><br> This Christmas, you will believe. <br> #CatsMovie Facebook: http://unvrs.al/catsFB Twitter: http://unvrs.al/catsTW <br> Instagram: http://unvrs.al/catsIG Site: ...\", \"Query: <b>cats</b><br> Cats are amazing creatures because <br> they make us laugh all <br> the time! Watching funny cats <br> is the hardest try not <br> to laugh challenge! Just look <br> how all these cats ...\", \"Query: <b>cats</b><br> Cats Was The Biggest Flop <br> And This Is Why Subscribe <br> to our channel: http://bit.ly/Subscribe-to-Screenrant Welcome <br> back ScreenRanters! Oh gosh, do <br> we have ...\", \"Query: <b>cats</b><br> Chris Stuckmann reviews Cats, starring <br> James Corden, Judi Dench, Jason <br> Derulo, Idris Elba, Jennifer Hudson, <br> Ian McKellen, Taylor Swift, Rebel <br> Wilson, ...\", \"Query: <b>cats</b><br> if you love cats so <br> much this video is for <br> you. Watch this cute and <br> funny moment of cat and <br> kittens filling joy in their <br> house. This video is full <br> pf cats and kittens. but <br> ...\", \"Query: <b>cats</b><br> Try Not To Laugh Animals <br> - Funny Cats Videos 2019 <br> - Cats Clean Vines Compilation <br> Heads up, folks. You're about <br> to watch some craziest fails <br> video on the ...\", \"Query: <b>cats</b><br> Check out the official Cats <br> trailer starring Idris Elba! Let <br> us know what you think <br> in the comments below. \\u25bb <br> Buy Tickets for Cats: ...\", \"Query: <b>cats</b><br> Here is a video of <br> cats and kittens meowing to <br> confuse your pets Puppies & <br> Babies & Kitties OH MY! <br> New videos all the time! <br> Subscribe: ...\", \"Query: <b>cats</b><br> Check out the official Cats <br> trailer starring Taylor Swift! Let <br> us know what you think <br> in the comments below. \\u25bb <br> Buy Tickets for Cats: ...\", \"Query: <b>cats</b><br> Our cat Lily had kittens <br> - watch them meow and <br> play! We also found a <br> mama cat and 4 kittens <br> in a park nearby and <br> watched them purr and meow <br> for food.\", \"Query: <b>cats</b><br> Well well well, cats for <br> you again. But this time, <br> even better, even funnier, even <br> more hilarious! We know you <br> like these furries the most, <br> so that's why we keep <br> ...\", \"Query: <b>cats</b><br> HUG CHALLENGE! Do cats like <br> to be hugged? * Kittisaurus <br> & CreamHeroes Goods https://www.amazon.com/shops/creamheroes.\", \"Query: <b>cats</b><br> Ab 25. Dezember im Kino <br> https://www.facebook.com/CatsFilm.DE/ Andrew Lloyd Webbers weltweiter <br> Musicalerfolg \\u201eCats\\u201c brach alle Rekorde <br> \\u2013 nun erschafft der ...\", \"Query: <b>cats</b><br> Cats might have nine lives <br> but the film adaptation of <br> Cats was basically dead on <br> arrival. Perhaps it sounds overly <br> dramatic to declare Tom Hooper's <br> Cats a ...\", \"Query: <b>cats</b><br> You're invited to the most <br> joyful event of the holiday <br> season. Watch the new trailer <br> for CATS now. \\u2728 #CatsMovie <br> Facebook: http://unvrs.al/catsFB Twitter: ...\", \"Query: <b>cats</b><br> These cats got caught... and <br> they know it! Subscribe: http://bit.ly/FunnyPetMedia <br> | Submit your video: http://bit.ly/submit-your-vid <br> Business inquiries/contact: ...\", \"Query: <b>cats</b><br> Baby and Cat Fun and <br> Fails - Funny Baby Video <br> \\u25afLink video:https://youtu.be/7na_-LfGfpE Thanks for watching! <br> Wait to see more new <br> video everyday on Fun ...\", \"Query: <b>cats</b><br> Suscr\\u00edbete a nuestro canal: http://bit.ly/Suscribete__ <br> Despu\\u00e9s de que el tr\\u00e1iler <br> de \\\"Cats\\\" se estren\\u00f3 en <br> julio, Internet ha expresado su <br> confusi\\u00f3n general sobre la ...\", \"Query: <b>cats</b><br> CATS 25 DECEMBRE 2019 Genre: <br> Com\\u00e9die musicale Distribution: James Corden, <br> Judi Dench, Jason Derulo, Idris <br> Elba, Jennifer Hudson, Ian McKellen, <br> Taylor ...\", \"Query: <b>cats</b><br> SUBSCRIBE for more TheThings \\u25bb <br> http://bit.ly/TheThingsSub The Cutest Baby Yoda <br> Scenes That Make Us Melt <br> Inside \\u25bb https://youtu.be/oxZbEHo-S1g 10 ...\", \"Query: <b>cats</b><br> In cinemas December 20 Follow <br> us on Facebook at https://www.facebook.com/CatsMovieUK/ <br> Find us on Instagram at <br> ...\", \"Query: <b>cats</b><br> Let's all pay our condolences <br> to Cats as it fades <br> away to the Heaviside Layer. <br> The film adaptation of the <br> famous Andrew Lloyd Webber stage <br> musical finally hit ...\", \"Query: <b>cats</b><br> Cats are awesome, and super <br> funny too! Who doesn't like <br> cats and kittens? They make <br> us laugh and happy! Just <br> look how they play, sleep, <br> fail, get along with ...\", \"Query: <b>cats</b><br> Cat-astrophic special effects ruin Tom <br> Hooper's adaptation of the classic <br> Andrew Lloyd Webber stage musical.\", \"Query: <b>cats</b><br> We visit a Cat Cafe <br> where cats and kittens play <br> and meow around you while <br> you drink your coffee. All <br> cats are well cared for <br> and are available for sale <br> or ...\", \"Query: <b>cats</b><br> You have likely seen or <br> at least heard of the <br> Andrew Llyod Webber musical \\u201cCats,\\u201d <br> but did you really understand <br> what you were watching? The <br> bizarre story ...\", \"Query: <b>cats</b><br> This video is from SPOCKCOMEDIA <br> YouTube channel Thanks for your <br> video if you like this <br> video please share and leave <br> a like and comment and <br> don't forgot to ...\", \"Query: <b>cats</b><br> Stacy loves her cat and <br> comes up with funny children's <br> stories with her participation. Subscribe <br> to Like Nastya Vlog - <br> https://is.gd/gdv8uX ...\", \"Query: <b>cats</b><br> Kitties are trying to save <br> treats in water! * Kittisaurus <br> & CreamHeroes Goods https://www.amazon.com/shops/creamheroes.\", \"Query: <b>cats</b><br> Cats estreou no final de <br> 2019 e logo ganhou o <br> status de um dos piores <br> filmes da d\\u00e9cada. Mas ser\\u00e1 <br> que o longa \\u00e9 t\\u00e3o <br> ruim assim? Confira agora nosso <br> veredito!\", \"Query: <b>cats</b><br> Meowing, Purring, Trilling, Chattering, Yowling, <br> Hissing and Growling Cats! \\u2026 <br> Have your cats made all <br> of these noises? Subscribe: ...\", \"Query: <b>cats</b><br> Today, I tried \\\"Invisible Wall <br> Challenge\\\" with kitties! * Kittisaurus <br> & CreamHeroes Goods https://www.amazon.com/shops/creamheroes.\", \"Query: <b>cats</b><br> Watching funny baby cats is <br> the hardest try not to <br> laugh challenge. Baby cats are <br> amazing creature because they are <br> the cutest and most funny. <br> This is the cutest ...\", \"Query: <b>cats</b><br> Today I take my munchkin <br> cats to the pet store <br> and buy them everything they <br> touch. Then the cats play <br> with their new toys, cat <br> foods, cat toys that they <br> wanted.\", \"Query: <b>cats</b><br> Try Not To Laugh or <br> Grin While Watching Funny Dogs <br> & Cats Vines compilation 2017 <br> IMPOSSIBLE CHALLENGE! Subscribe to CooL <br> Vines ...\", \"Query: <b>cats</b><br> Cats are simply the funniest <br> and most hilarious pets, they <br> make us laugh all the <br> time! Just look how all <br> these cats & kittens play, <br> fail, get along with dogs <br> and ...\", \"Query: <b>cats</b><br> Cats scared of Cucumbers Compilation <br> - Cats Vs Cucumbers - <br> Funny Cats Cats Vs Cucumbers <br> Part 4 - https://youtu.be/KLZvYrvYi0c Cats <br> Vs Cucumbers Part 3 ...\", \"Query: <b>cats</b><br> PLAYING DEAD PRANK I played <br> dead to see how the <br> kitties react! * Kittisaurus & <br> CreamHeroes Goods https://www.amazon.com/shops/creamheroes.\", \"Query: <b>cats</b><br> Watching funny baby cats is <br> the hardest try not to <br> laugh challenge. Baby cats are <br> amazing creature because they are <br> the cutest and most funny. <br> This is the cutest ...\", \"Query: <b>cats</b><br> \\u521d\\u3081\\u3066\\u4f0a\\u52e2\\u6d77\\u8001\\u3092\\u898b\\u305f\\u732b\\u305f\\u3061\\u266a \\u5143\\u6c17\\u306a\\u4f0a\\u52e2\\u6d77\\u8001\\u306b\\u304a\\u3063\\u304b\\u306a\\u3073\\u3063\\u304f\\u308a Facebookhttps://www.facebook.com/10-Cats-929118100482897/ Instagram ...\", \"Query: <b>cats</b><br> My kitties love boxes! * <br> Kittisaurus & CreamHeroes Goods https://www.amazon.com/shops/creamheroes.\", \"Query: <b>cats</b><br> Watch part one of Jellicle <br> Songs! Lyrics: Are you blind <br> when you're born? Can you <br> see in the dark? Dare <br> you look at a king? <br> Would you sit on his <br> throne?\", \"Query: <b>cats</b><br> Watching funny baby cats is <br> the hardest try not to <br> laugh challenge. Baby cats are <br> amazing pets because they are <br> the cutest and most funny. <br> This is the cutest ...\", \"Query: <b>cats</b><br> In this video I show <br> you how to make Giant <br> Cardboard Maze Game for your <br> cat or kittens. It's a <br> fun project for you and <br> your pets. If you like <br> the video, share it, like <br> ...\", \"Query: <b>cats</b><br> Meet the smallest cats in <br> the world. If you like <br> cats, then these small and <br> cute versions will enchant you. <br> Here is the list of <br> the smallest cats in the <br> world. -Lilieput ...\", \"Query: <b>cats</b><br> I was going to do <br> a totally different video this <br> week but then I saw <br> Cats and I have some <br> thoughts. Seriously if you guys <br> have any ideas on how <br> to make them ...\", \"Query: <b>cats</b><br> FEARLESS CATS. These cats are <br> COURAGEOUS! Subscribe: http://bit.ly/EpicLaughsChannel | Facebook: <br> http://bit.ly/EpicLaughsFB Submit your video: ...\", \"Query: <b>cats</b><br> Stina and Mossy usually fight <br> instead of communicate, so this <br> was an odd moment. They <br> kept \\\"talking\\\" for about one <br> hour, constantly. Thanks for all <br> the positive ...\", \"Query: <b>cats</b><br> Watch part 1 of Mr <br> Mistoffelees. Buy tickets for your <br> nearest CATS performance now: http://www.catsthemusical.com/see-the-show <br> Lyrics: You ought to ask <br> Mr.\", \"Query: <b>kittens</b><br> Bravecto #anipetshop.com \\u2708\\u2708\\u2708Shop Pet Medicines <br> : https://anipetshop.com \\u00a9BUY NOW : <br> Bravecto, Nexgard, Heartgard, Revolution,..... \\u25bbWorldwide <br> FREE ...\", \"Query: <b>kittens</b><br> In this adorable and information-packed <br> video, I'll teach you everything <br> you need to know about <br> how to determine a kitten's <br> age, what developmental milestones ...\", \"Query: <b>kittens</b><br> Thank you for watching, I <br> hope you enjoyed! \\u25b7 Watch <br> more cute animal compilations! https://youtube.com/playlist?list=UU5ggtACLoJ3Ro8RNNgKfcvA <br> ...\", \"Query: <b>kittens</b><br> More amazing animal moments: https://youtube.com/playlist?list=PLWSopI47S5QOekTUcwVwYFFnFZ83Tnu1_ <br> Subscribe to CuteVN animals for <br> more ...\", \"Query: <b>kittens</b><br> These 5 extremely hyperactive kittens <br> are playing and running like <br> crazy and the mother cat <br> is being very patient with <br> them. The kittens are fighting <br> each other in ...\", \"Query: <b>kittens</b><br> From kittens playing with a <br> man's beard, kittens climbing on <br> the back of their owner, <br> to kittens playing in a <br> box, these are just a <br> few of the funny kittens <br> that will ...\", \"Query: <b>kittens</b><br> From cute kittens and bunnies <br> playing together, kittens trying to <br> stay awake, to cute kittens <br> enjoying bath time, these are <br> just a few of the <br> cute kittens you'll find in <br> ...\", \"Query: <b>kittens</b><br> My foster kittens are 3 <br> weeks old and learning how <br> to walk. Good job, babies!\", \"Query: <b>kittens</b><br> Little Kitten Adventures - Fun <br> Learning Games For Children By <br> Fox and Sheep GmbH ***************************************************************** <br> Click Here To ...\", \"Query: <b>kittens</b><br> Hello my beloved subscribers! in <br> this video is Rescue abandoned <br> kittens in black plastic bag <br> near the road and adopted <br> them. NOTE : Please open <br> your mind, ...\", \"Query: <b>kittens</b><br> Videos of awesome kids that <br> react to getting a kitten <br> or a puppy as a <br> gift / present surprise for <br> Christmas. Kittens and puppies are <br> apparently the best presents to <br> ...\", \"Query: <b>kittens</b><br> WOW! 11 meowing Ginger kittens <br> in a basket! Well, actually <br> 10 gingers and one all <br> white kitten. Still they are <br> very #cute and adorable as <br> they meow for attention.\", \"Query: <b>kittens</b><br> Kittens came out of the <br> hole and meows. Now they <br> use this hole for safety. <br> Calico cat feeding her kittens <br> in the bushes. Link annotation: <br> ...\", \"Query: <b>kittens</b><br> SPAY AND NEUTER! Kittens shouldn't <br> be having kittens, folks. Did <br> you know that a kitten <br> can get pregnant as young <br> as 4 months of age? <br> That's why you should ...\", \"Query: <b>kittens</b><br> The tigers meet the kittens <br> for the first time , <br> a bit different to when <br> they met the puppies . <br> Made with Samsung s7 edge.\", \"Query: <b>kittens</b><br> 00:09 - Three Little Kittens <br> Park - Cutians 02:36 - <br> Three Little Kittens food - <br> Cutians 05:03 - Three Little <br> Kittens farm - Cutians 07:29 <br> - Three Little Kittens Rio <br> ...\", \"Query: <b>kittens</b><br> Belly is one and a <br> half years old. She is <br> cute and clever. Cause I <br> got depression problems 3 years <br> ago. Life was hopeless. My <br> friends were suggested to me <br> to ...\", \"Query: <b>kittens</b><br> A new compilation video, including <br> one of our most recent <br> songs, \\\"Three Little Kittens\\\"! Subscribe <br> for new videos every week: <br> ...\", \"Query: <b>kittens</b><br> New little kitten hisses at <br> me. Someone abandoned kitten on <br> the street. Now he lives <br> in a rented apartment. http://www.robinseplut.site/ <br> ...\", \"Query: <b>kittens</b><br> Our cat Lily had kittens <br> - watch them meow and <br> play! We also found a <br> mama cat and 4 kittens <br> in a park nearby and <br> watched them purr and meow <br> for food.\", \"Query: <b>kittens</b><br> Little Kitten - My Favorite <br> Cat by Fox and Sheep <br> (New Update ) Play Fun <br> for Baby, Family, Toddlers or <br> Children Games The lovely kitten <br> is every child's dream ...\", \"Query: <b>kittens</b><br> Kittens Mambo, Samba, and Salsa- <br> 4.5 weeks These little guys <br> are in the weaning stage- <br> learning how to eat solid <br> food- so they are a <br> mess after mealtime!\", \"Query: <b>kittens</b><br> Follow The Kits Cats on <br> Facebook! https://www.facebook.com/drnworb/ And you thought <br> a den of snakes was <br> dangerous! For more videos of <br> our foster kittens ...\", \"Query: <b>kittens</b><br> Sick kittens were found in <br> the box. They were taken <br> to the vet clinic. At <br> the hospital, kittens were intensively <br> treated. #rescueanimals #rescue #rescuekitten.\", \"Query: <b>kittens</b><br> Watch this funny cat video <br> and you will never leave <br> your cat home alone again <br> :p https://www.youtube.com/watch?v=R5PHvKvOUJk Warning: do not <br> watch if ...\", \"Query: <b>kittens</b><br> Best Of CUTE Puppies and <br> Kittens | Cute Baby Animal <br> | Funny Everyday Complation \\u25af <br> Link Video: https://youtu.be/NiNsxhKxKf8 WOA Funny <br> Video ...\", \"Query: <b>kittens</b><br> Don't let the cat out <br> of the box. Check out <br> more awesome BuzzFeedViolet videos! http://bit.ly/YTbuzzfeedviolet <br> Check out more awesome BuzzFeedYellow <br> ...\", \"Query: <b>kittens</b><br> Which kitten is smarter. BOY <br> or GIRL. I built a <br> giant water bottle maze to <br> find out. Like the video, <br> share it and comment. Thanks. <br> Music: \\\"Outfoxing the Fox\\\" Kevin <br> ...\", \"Query: <b>kittens</b><br> This wild little sweetheart was <br> so ill he couldn't move, <br> collapsed in the water of <br> a shallow drain. When rescuers <br> arrived, they found his face <br> covered in blood, too ...\", \"Query: <b>kittens</b><br> Cute is Not Enough - <br> Cute Cats and Kittens Doing <br> Funny Things 2018 #11 \\u25bbSubscribe <br> for new video: http://goo.gl/Koxcb0 \\u25bbFanpage: <br> http://goo.gl/8JZskX ...\", \"Query: <b>kittens</b><br> This Video about our cat <br> Sparta. She ask us to <br> join her during the birth. <br> It's like: - hey come-on <br> upstairs, it's time. Instagram: ...\", \"Query: <b>kittens</b><br> Fostering orphan kittens means you <br> have fill in for their <br> mama--and that includes providing them <br> with comfort and warmth. Here's <br> my top 5 tips for <br> comforting a ...\", \"Query: <b>kittens</b><br> How to make Amazing Kitten <br> Cat Pet House from Cardboard <br> My kittens don't let me <br> make a match house. I <br> know why! They want their <br> own house. In this video, <br> I ...\", \"Query: <b>kittens</b><br> Kittens live under a concrete <br> slab.\", \"Query: <b>kittens</b><br> Cute Cats and Little Kittens <br> Meowing and Talking Compilation \\u25bbSubscribe <br> for new video: http://goo.gl/Koxcb0 \\u25bbFanpage: <br> http://goo.gl/8JZskX \\u25bbThanks For ...\", \"Query: <b>kittens</b><br> ITS SO CUTE! MERCH http://bit.ly/NewDobreMerch <br> WE POST TUESDAY,THURSDAY, & SUNDAY! <br> TURN OUR POST NOTIFICATIONS ON <br> FOR A ...\", \"Query: <b>kittens</b><br> 7 week old fostered kittens <br> waiting on their dinner being <br> prepared. They had been ill <br> with cat flu and were <br> just starting to get their <br> appetite back. Because of their <br> ...\", \"Query: <b>kittens</b><br> Here is a video of <br> cats and kittens meowing to <br> confuse your pets Puppies & <br> Babies & Kitties OH MY! <br> New videos all the time! <br> Subscribe: ...\", \"Query: <b>kittens</b><br> This is the cutest thing <br> you'll see all day \\u2764 <br> (By, Cattralpark) \\u00bb Check out <br> more on Instagram: https://instagram.com/cattralpark \\u00bb <br> Visit: https://www.cattralpark.com ...\", \"Query: <b>kittens</b><br> 3 week old pure white <br> rescue kittens need a bath! <br> This video shows how to <br> bathe a kitten. These kittens <br> were rescued from a window <br> well in Philadelphia with ...\", \"Query: <b>kittens</b><br> The first bath of the <br> kitten is not so easy. <br> The rescue kitten is very <br> dirty and needs to be <br> washed thoroughly Please support us <br> by subscribing to our channel!\", \"Query: <b>kittens</b><br> Hi everybody ! This video <br> I want to send to <br> you that everything is possible. <br> The miracle has come to <br> the kitten and I thought <br> it could not escape. God <br> has saved it ...\", \"Query: <b>kittens</b><br> In this video I show <br> you how to make Giant <br> Cardboard Maze Game for your <br> cat or kittens. It's a <br> fun project for you and <br> your pets. If you like <br> the video, share it, like <br> ...\", \"Query: <b>kittens</b><br> Please don't forget to hit <br> the CC button for Subtitles* <br> Get Cat Kitten Apparel here: <br> http://bit.ly/CuteKittenApparelMerch Use code meme for <br> an Extra 5% discount ...\", \"Query: <b>kittens</b><br> Download Link Play iOS : <br> http://apple.co/2hSp7Fd ***************************************************************** \\u2665\\u2665\\u2665 Hi my <br> friends! If you enjoyed my <br> video ...\", \"Query: <b>kittens</b><br> If you bite the mic <br> then we can't use this <br> audio\\u201d. Check out more awesome <br> videos at BuzzFeedVideo! http://bit.ly/YTbuzzfeedvideo MUSIC <br> Hop Skip And A Jump <br> ...\", \"Query: <b>kittens</b><br> I want them all!\\\" GET <br> MORE BUZZFEED: https://www.buzzfeed.com https://www.buzzfeed.com/videos https://www.youtube.com/buzzfeedvideo <br> ...\", \"Query: <b>kittens</b><br> This is just unbelievable! Loreta <br> and I just completed the <br> rescue of Josephine and her <br> babies, and as we were <br> getting closer to Los Angeles, <br> we received a text ...\", \"Query: <b>kittens</b><br> What would happen to a <br> mother cat if she was <br> exposed to 5 hyperactive kittens <br> running like crazy all day <br> long? Our crazy active kittens <br> finally drove their patient ...\", \"Query: <b>monkeys</b><br> Funny monkeys in this funny <br> monkey videos compilation. Cute baby <br> monkey and funny adult monkeys <br> videos. Orangutan, chimp, capuchin monkey <br> and more.\", \"Query: <b>monkeys</b><br> 2nd single from debut EP <br> 'The Kids Are Coming' out <br> now. https://tonesandi.lnk.to/TheKidsAreComingYT Tones And I <br> - Dance Monkey ...\", \"Query: <b>monkeys</b><br> How to make fun with <br> monkeys - Everyday monkey funny <br> YouTube videos from Cambodia : <br> Today I am so happy <br> with play with monkeys because <br> bring the RC ...\", \"Query: <b>monkeys</b><br> Monkeys can be so amusing <br> :) Hope you like our <br> compilation, please share it and <br> SUBSCRIBE! Watch also our other <br> videos! WANT TO SEE YOUR <br> KID, ...\", \"Query: <b>monkeys</b><br> A funny monkey always produces <br> funny videos to look at. <br> Check out these funny monkey <br> videos. Monkeys are one of <br> the funniest animals. I wanted <br> to make a ...\", \"Query: <b>monkeys</b><br> What is going on guys, <br> Devin back here for a <br> new video! Today I am <br> bringing you guys a compilation <br> of monkeys reacting to magic! <br> Hope you enjoy watching ...\", \"Query: <b>monkeys</b><br> Join this troop of Langur <br> monkeys as they grieve the <br> fallen. Doesn't matter if it's <br> an animatronic Spy Monkey; it <br> was still part of the <br> family. Now scrub up, it's <br> time ...\", \"Query: <b>monkeys</b><br> Stream Tones and I - <br> Dance Monkey (Lyrics): https://spoti.fi/2LrpDX7 \\u2716 <br> BEST MUSIC ON SPOTIFY: https://spoti.fi/2LrpDX7 <br> \\u2716 FOLLOW MY AWESOME ...\", \"Query: <b>monkeys</b><br> Tones And I - Dance <br> Monkey (Lyrics) Stream Dance Monkey <br> here: ...\", \"Query: <b>monkeys</b><br> Tones And I - Dance <br> Monkey (Lyrics) 2nd single from <br> debut EP 'The Kids Are <br> Coming' out now. https://tonesandi.lnk.to/TheKidsAreComing Tones <br> And I - Dance ...\", \"Query: <b>monkeys</b><br> Tones And I - Dance <br> Monkey (Lyrics) Follow our Spotify <br> Playlist: https://loku.lnk.to/Spotify Stream/Download: https://tonesandi.lnk.to/DanceMonkeyYT Tones <br> And ...\", \"Query: <b>monkeys</b><br> Arctic Monkeys - 'Do I <br> Wanna Know?' from 'AM', released <br> 2013 on Domino Recording Co. <br> Subscribe to Arctic Monkeys on <br> YouTube: ...\", \"Query: <b>monkeys</b><br> Tones and I - Dance <br> Monkey (Lyrics) For more quality <br> music subscribe here \\u27a1 http://po.st/thvbgd <br> We're on Spotify \\u27a1 http://po.st/tvgsp <br> Turn on notifications to ...\", \"Query: <b>monkeys</b><br> Capuchin monkey visits the Starbucks <br> drive thru for a treat! <br> MonkeyBoo took a trip to <br> Starbucks for the first time <br> ever to see what all <br> the hype was about.\", \"Query: <b>monkeys</b><br> Little Curtis and I wake <br> up at 12am everyday for <br> his midnight bottle. It just <br> so happened that this particular <br> night was also baby monkey <br> bath time! Every day I <br> feel ...\", \"Query: <b>monkeys</b><br> Subscribe for new videos every <br> week: https://www.youtube.com/c/cocomelon?sub_confirmation=1 'Sound Effects by <br> http://audiomicro.com/sound-effects' About ...\", \"Query: <b>monkeys</b><br> WARNING! It's a crazy monkey! <br> And it's coming your way!!! <br> This compilation is all about <br> funny monkeys. You'll see it <br> all: monkeys being funny, monkeys <br> being ...\", \"Query: <b>monkeys</b><br> FlickBox presents 5 Little Monkeys, <br> a popular children's rhyme about <br> five naughty monkeys who jump <br> on the bed and get <br> into trouble, for your kid <br> to watch and ...\", \"Query: <b>monkeys</b><br> Monkeys and primates are some <br> of the most intelligent animals <br> on earth. Here's a list <br> of the top five genius <br> monkeys caught on camera. Several <br> segments are ...\", \"Query: <b>monkeys</b><br> Tones And I - Dance <br> Monkey (Lyrics) Follow our Spotify <br> Playlist \\u279c https://loku.lnk.to/Spotify Hit The <br> Bell To Join The Notification <br> Squad! Subscribe ...\", \"Query: <b>monkeys</b><br> Baby Monkey Too Crying Not <br> Want To Bathed Cute Monkey <br> Newborn Monkey Poo RIP MY <br> Mom #Monkey_Too How To Make <br> Fun With Monkeys - Everyday <br> ...\", \"Query: <b>monkeys</b><br> Big monkey hits baby monkey <br> nearly to die Big monkey <br> is DeeDee, Baby monkey is <br> Daniela Because baby's mom(Dana) low <br> rank in the group, Dana <br> can not ...\", \"Query: <b>monkeys</b><br> Please Subscribe Channel Here : <br> https://goo.gl/8gdXzH Monkeys have always been <br> regarded as fun, adorable and <br> entertainingly witty creatures. If you <br> spend ...\", \"Query: <b>monkeys</b><br> MONKEYTONY#MONKEYTINO#MONKEYBNA Thanks for watching.Baby Monkey <br> TONY Diving and Drink Milk.\", \"Query: <b>monkeys</b><br> Music guest Tones and I <br> makes her U.S. TV debut <br> performing her global smash hit <br> \\\"Dance Monkey\\\" for the Tonight <br> Show audience. Subscribe NOW to <br> The ...\", \"Query: <b>monkeys</b><br> Capuchin Monkey Boo eats an <br> OLD mushy banana! Watch this <br> funny monkey peel and enjoy <br> this GROSS brown banana! He <br> will show you how good <br> it tastes!\", \"Query: <b>monkeys</b><br> Baby monkey terrify by big <br> female monkey mistreated | Baby <br> monkey cries seizures on branch <br> Thanks for watching. Please subscribe <br> and turn on notification for <br> ...\", \"Query: <b>monkeys</b><br> \\\"Five Little Monkeys Jumping on <br> the bed\\\" - 3D Animation <br> English Nursery rhyme for children. <br> 5 Little Monkeys Jumping on <br> the bed Lyrics : Five <br> little monkeys ...\", \"Query: <b>monkeys</b><br> Tom is my newborn boy. <br> I take care of him <br> like a child who needs <br> to be taken care of <br> by Tom Tom growing up <br> and he looks much better <br> than before .. #monkeysu ...\", \"Query: <b>monkeys</b><br> Funny Savage Monkeys! Hilarious! Funniest <br> Animals Videos 2018. Try not <br> to laugh when watching this <br> video. Monkeys are so funny!\", \"Query: <b>monkeys</b><br> Little Curtis back to school <br> morning routine! Little Curtis Merch: <br> https://sixthsupply.com/collections/little-curtis Last Video: ...\", \"Query: <b>monkeys</b><br> Top 10 funny monkey videos <br> of funny monkeys behaving like <br> humans. Monkeys acting like humans <br> in this funny animals behaving <br> like humans compilation.\", \"Query: <b>monkeys</b><br> Cute baby monkey relax and <br> play happily with 2 puppies <br> NOW 5/4/2019 Baby Monkey has <br> been assigned to wildlife protection <br> organization Subscribe and ...\", \"Query: <b>monkeys</b><br> A family troop of macaques <br> in eastern China. The family <br> consists of several females, infants, <br> and older siblings. Majority of <br> this clip is of one <br> of the older siblings ...\", \"Query: <b>monkeys</b><br> Awesome Monkey Give A Birth <br> | Cute Newborn Monkeys Description: <br> Monkey Cry Before Give Birth <br> To Baby Newborn. Mom cry <br> because Mom hurt too much.\", \"Query: <b>monkeys</b><br> This is Max's morning and <br> it's very basic to changing <br> his diaper and feeding him <br> to play time For business <br> email: Guzzy1991@gmail.com Instagram: ...\", \"Query: <b>monkeys</b><br> Cute monkeys in this monkey <br> natural videos compilation. Cute baby <br> monkey and funny adult monkeys <br> videos. If you have any <br> questions about compilation or ...\", \"Query: <b>monkeys</b><br> Funny Kids Meet Monkey For <br> The First Time | Kids <br> And Animals At The Zoo <br> \\u25af Link Video: https://youtu.be/D53H2m4UCY0 WOA <br> Funny Video ...\", \"Query: <b>monkeys</b><br> Everyone please register and share <br> Nui Family channel . Thanks <br> https://www.youtube.com/channel/UCWSBUQx_-sywUO73fQxzljw These are videos describe <br> ...\", \"Query: <b>monkeys</b><br> Wow...! What is silly teenage <br> monkey doing It's my first <br> time to see monkeys do <br> that I don't think that <br> teenage monkey is feeling like <br> that too because he is <br> still ...\", \"Query: <b>monkeys</b><br> The Crested Black Macaques live <br> in forests which sit directly <br> in the path of the <br> monsoon but it is thanks <br> to these rains that babies <br> develop characteristics more ...\", \"Query: <b>monkeys</b><br> Small Baby monkey is tortured <br> by 2 kidnappers Thanks for <br> watching. Please subscribe and turn <br> on notification for get new <br> videos everyday. Help like and <br> share ...\", \"Query: <b>monkeys</b><br> The new album, Everyday Life, <br> out Nov 22. Pre-order https://coldplay.com <br> The first single to be <br> taken from Coldplay's new album, <br> A Head Full Of Dreams <br> (out ...\", \"Query: <b>monkeys</b><br> This Girl Was Stolen From <br> Her Parents By Monkeys. This <br> Is Her 30-Years Later... If <br> you're new, Subscribe! \\u2192 https://goo.gl/ZskRcx <br> Extreme Trends is the #1 <br> ...\", \"Query: <b>monkeys</b><br> Tones and I - Dance <br> Monkey (Lyrics) Follow our Spotify <br> playlists: http://bit.ly/7cloudsSpotify \\u23ec Stream Dance <br> Monkey Tones and I: ...\", \"Query: <b>monkeys</b><br> This troop of Langur Monkeys <br> show empathetic behaviour as they <br> mourn what they think is <br> a dead baby Langur, which <br> is actually a robotic spy <br> monkey, ...\", \"Query: <b>monkeys</b><br> Subscribe and watch new videos <br> uploaded every week. \\u2606 YouTube <br> Channel: http://www.youtube.com/Pinkfong PINKFONG! no. 1 <br> kids' app chosen by 100 <br> ...\", \"Query: <b>monkeys</b><br> Capuchin MonkeyBoo takes a hot <br> relaxing bath! Watch this cute <br> capuchin monkey wash himself with <br> his new Dove baby soap. <br> This funny monkey even tries <br> to ...\", \"Query: <b>monkeys</b><br> Spider monkeys have a prehensile <br> tail, a fifth limb that <br> plays an important role as <br> they spend their days high <br> up in the tropical forest <br> canopy. As National ...\"], \"marker\": {\"color\": [6, 6, 6, 6, 6, 6, 6, 6, 6, 6, 6, 6, 6, 6, 6, 6, 6, 6, 6, 6, 6, 6, 6, 6, 6, 6, 6, 6, 6, 6, 6, 6, 6, 6, 6, 6, 6, 6, 6, 6, 6, 6, 6, 6, 6, 6, 6, 6, 6, 1, 1, 1, 1, 1, 1, 1, 1, 1, 1, 1, 1, 1, 1, 1, 1, 1, 1, 1, 1, 1, 1, 1, 1, 1, 1, 1, 1, 1, 1, 1, 1, 1, 1, 1, 1, 1, 1, 1, 1, 1, 1, 1, 1, 1, 1, 2, 2, 2, 2, 2, 2, 2, 2, 2, 2, 2, 2, 2, 2, 2, 2, 2, 2, 2, 2, 2, 2, 2, 2, 2, 2, 2, 2, 2, 2, 2, 2, 2, 2, 2, 2, 2, 2, 2, 2, 2, 2, 2, 2, 2, 2, 2, 2, 2, 2, 3, 3, 3, 3, 3, 3, 3, 3, 3, 3, 3, 3, 3, 3, 3, 3, 3, 3, 3, 3, 3, 3, 3, 3, 3, 3, 3, 3, 3, 3, 3, 3, 3, 3, 3, 3, 3, 3, 3, 3, 3, 3, 3, 3, 3, 3, 3, 3, 3, 0, 0, 0, 0, 0, 0, 0, 0, 0, 0, 0, 0, 0, 0, 0, 0, 0, 0, 0, 0, 0, 0, 0, 0, 0, 0, 0, 0, 0, 0, 0, 0, 0, 0, 0, 0, 0, 0, 0, 0, 0, 0, 0, 0, 0, 0, 0, 0, 0, 4, 4, 4, 4, 4, 4, 4, 4, 4, 4, 4, 4, 4, 4, 4, 4, 4, 4, 4, 4, 4, 4, 4, 4, 4, 4, 4, 4, 4, 4, 4, 4, 4, 4, 4, 4, 4, 4, 4, 4, 4, 4, 4, 4, 4, 4, 4, 4, 4, 5, 5, 5, 5, 5, 5, 5, 5, 5, 5, 5, 5, 5, 5, 5, 5, 5, 5, 5, 5, 5, 5, 5, 5, 5, 5, 5, 5, 5, 5, 5, 5, 5, 5, 5, 5, 5, 5, 5, 5, 5, 5, 5, 5, 5, 5, 5, 5, 5], \"colorscale\": [[0.0, \"#440154\"], [0.1111111111111111, \"#482878\"], [0.2222222222222222, \"#3e4989\"], [0.3333333333333333, \"#31688e\"], [0.4444444444444444, \"#26828e\"], [0.5555555555555556, \"#1f9e89\"], [0.6666666666666666, \"#35b779\"], [0.7777777777777778, \"#6ece58\"], [0.8888888888888888, \"#b5de2b\"], [1.0, \"#fde725\"]], \"opacity\": 0.8, \"size\": 20}, \"mode\": \"markers\", \"type\": \"scatter3d\", \"x\": [0.1968620819650897, 0.24216990420127607, 0.3067939913443025, 0.16601405582437737, 0.16095892751801524, 0.14467921902462264, 0.1517031540847569, 0.2076287114462596, 0.25045929267567085, 0.32582870342815873, 0.32582870342815873, 0.1479738334490836, 0.12838246246593685, 0.10134929746575919, 0.29331755407069887, 0.27142816159816796, 0.2243402668889998, 0.31226239114870463, 0.13965377788836356, 0.21654001040025778, 0.23327659209202417, 0.08898167715490744, 0.25653578771686975, 0.20657790320207695, 0.13414096728149486, 0.23921086965939475, 0.2957172117890613, 0.25102227859263726, 0.1827878541714534, 0.007520840144506279, 0.21654819584441218, 0.10368192496434778, 0.1657486998339217, 0.13687549592914658, 0.16952771371671052, 0.23532680058078626, 0.17797360381052083, 0.22460247685270102, 0.15777920264734377, 0.23437579806317824, 0.2248617612053544, 0.1415957889612838, 0.01054423401012539, 0.1845269388196348, 0.21538228907014323, 0.24350226700672176, 0.12962849839736285, 0.25114300290979547, 0.34295637115151273, 0.08526308710215608, 0.15801535602495947, 0.13879600426591993, 0.2508103444424206, 0.25045929267567085, 0.3067939913443025, 0.31226239114870463, 0.11259704452292132, 0.16004383010395445, 0.18014723879861744, 0.29331755407069887, 0.14877231733466573, 0.09267364735300058, 0.36152634765798547, 0.21654001040025778, 0.25653578771686975, 0.20555744701734568, 0.09578958592062511, 0.23952424843830805, 0.012623347866234187, 0.21022238409343091, 0.1898248228966143, 0.14785017060701103, 0.17075248236431417, 0.25842499392236545, 0.3114691139779942, 0.1415957889612838, 0.19744500182201993, 0.2055617359490886, 0.25114300290979547, 0.06977775848758415, 0.000871633811170927, 0.32582870342815873, 0.1304741593238956, 0.2243402668889998, 0.20889142319181037, 0.2000877314392986, 0.18569970843230324, 0.03581258089458913, 0.17094254586328506, 0.24770100415096719, 0.2736056930475961, 0.14950728954395545, 0.24604687939656453, 0.16479752554077637, 0.1614904549090079, 0.32582870342815873, 0.30625406787767406, 0.30762842825097514, 0.24929436257654675, 0.09617517301307096, 0.15258568579639237, 0.4046305423347653, 0.2821504850570297, 0.21625069276367556, 0.07430091078298728, 0.25133536634366677, 0.32582870342815873, 0.2639628751291327, 0.25382019544849926, 0.23086633139203402, 0.07091353057346488, 0.090490104666737, 0.32582870342815873, 0.24463268662746515, 0.11998669022648678, 0.30279796700165823, 0.32075528295829, 0.10986269990134946, 0.27758913615115893, 0.32582870342815873, 0.15465491069481857, 0.3466511068838144, 0.21782200450132166, 0.1690485858774124, 0.19393845373413326, 0.25207701278188555, 0.0950755802209247, 0.2842306807608815, 0.2959718771257427, 0.17569543331474724, 0.26608611739793986, 0.21866244819762073, 0.11998668573247238, 0.0, 0.026390330426681013, 0.11352833651912882, 0.17350927971243577, 0.3033237294298582, 0.1280949700325385, 0.20504599424010958, 0.33291810133104793, 0.10684916474489088, 0.026394662888217145, 0.20545363170323486, 0.16334972822954666, 0.306384829096618, 0.35181453484777336, 0.3198044328447476, 0.1866500595214547, 0.09334455026098605, 0.29534819027982534, 0.27789405597755745, 0.01799324099486223, 0.3133022083793112, 0.253082470978852, 0.032995277370486034, 0.11238505924496271, 0.19726748780921902, 0.11689697835284117, 0.23839648467980204, 0.2469108380482771, 0.18181374449678928, 0.38074064991592244, 0.0994786756910292, 0.1661783519268663, 0.11662093227288817, 0.1827744112176116, 0.20893405422286915, 0.12670620754825218, 0.14510060493104635, 0.13833061918786438, 0.1824869821975737, 0.1590703519691017, 0.22724961850420294, 0.28120051315186634, 0.15231441583950256, 0.24851361705075053, 0.2183399727702174, 0.27950886940070846, 0.22040331080710587, 0.15824079011111797, 0.2522606364841174, 0.23700542846352848, 0.0939582211593445, 0.24686040040177185, 0.18264746260619555, 0.3421183738015818, 0.11729739474649666, 0.18795849302356799, 0.1843074889466548, 0.11137144883724347, 0.14617316358950366, 0.14502157984126643, 0.15016160484072397, 0.0999838001386437, 0.3623081377012172, 0.23521598844944713, 0.025450977031121542, 0.41485710042748936, 0.2905941284975418, 0.2125379025838049, 0.3592851277319175, 0.2118096216779852, 0.20437851606786356, 0.1822151832636337, 0.14224073293633507, 0.024112077145108223, 0.15825141852296018, 0.21509006242766937, 0.18775892246883338, 0.266575631448063, 0.02057934235421239, 0.026779586428985223, 0.15007926122455933, 0.13315514669996828, 0.18363143501109563, 0.30217972710522806, 0.053527337841099046, 0.28702835270195065, 0.20933930774113274, 0.3373958113669322, 0.155237654672552, 0.10269537580952746, 0.03980407986538502, 0.15376690027790027, 0.05386676446926197, 0.4026784349250003, 0.22338374247017978, 0.20050329828433655, 0.3557235618769412, 0.0991123913688052, 0.10196886726244395, 0.4026784349250003, 0.013423925096811014, 0.047733615908450724, 0.22618700911202283, 0.4141062899165721, 0.4137961800230464, 0.3325138458255272, 0.2573219866392245, 0.17794016676420313, 0.17262126393375848, 0.1471840866544445, 0.01799324099486223, 0.2661688285257568, 0.17497847694595, 0.1391496086139136, 0.2596269989950913, 0.2828201584146207, 0.24994937621955965, 0.1733186123350819, 0.13736616635334642, 0.1904072698867676, 0.24539993112959144, 0.1952979884856329, 0.20734466818031963, 0.1850429931019021, 0.2225632629818074, 0.05934116973863225, 0.1645972131294836, 0.20559836812412863, 0.12410345988163841, 0.20437851606786356, 0.17155536178586317, 0.18747918856224907, 0.26486357783668646, 0.1618400559300747, 0.2295515020152877, 0.2405341474214334, 0.17101149836495838, 0.207070266597222, 0.13227763012971486, 0.2513072240251263, 0.1839446581409819, 0.16737589511129475, 0.19980998550731563, 0.03472389023943379, 0.285832131760852, 0.0924536220062123, 0.16528318124570582, 0.3592851277319175, 0.1971277657844344, 0.19205376467410865, 0.27061084610594727, 0.2657201655752228, 0.4137961800230464, 0.16058511351127927, 0.1345508499770436, 0.19250509312899414, 0.11326021945857877, 0.19753827433376067, 0.15255594936457828, 0.25654008153455016, 0.1626914240168674, 0.23612601894106894, 0.2750707495681852, 0.3188706368726021, 0.2462510700503988, 0.20169409762375745, 0.15650031867865585, 0.1326683997629624, 0.17145865570726487, 0.1349143190469289, 0.11193180031463784, 0.20721643033567225, 0.20660313253976226, 0.17388365780856307, 0.13286720867536922, 0.23119572937061697, 0.1940531254674809, 0.20066501193276018, 0.19812690514453535, 0.20834124461499853, 0.17281616828344792, 0.15850502941592648, 0.08419205327768481, 0.1740584073862364, 0.17941002012022345, 0.1832642945709484, 0.11598064256554487, 0.12044828590332307, 0.24528389040217977, 0.06753901035032786, 0.16351491126114634, 0.17777117141446622, 0.1610375419962061, 0.0998504766390943, 0.19031759911553184, 0.27357576953835994, 0.2647552610928019, 0.1306648921210625, 0.2164349349298291, 0.21828808574651962, 0.2646171947777308, 0.1504891939433196, 0.18316547868986507, 0.1390920009853506, 0.15825862475881605, 0.12130084953284141, 0.16498605437440705, 0.10690621358462243], \"y\": [-0.03890930876929909, -0.041822104066068226, -0.04653288154330503, 0.009493438842137509, 0.07378805941104387, -0.07244455700689183, -0.006662204603717117, 0.11552515062602779, -0.0514825672898999, 0.7154602974116996, 0.7154602974116996, 0.05357960459662219, -0.024686111162417798, -0.03793780698565077, 0.053336099578263, 0.06207298506567598, 0.10949541167481867, -0.08457229576961754, 0.02811448911705524, 0.06318334279504738, 0.058529357557433506, 0.05519034438693918, -0.07245852026877482, 0.03073982756795328, -0.022411207761687042, -0.004320937632324378, 0.06036755188905029, 0.3085810695235281, -0.034449191122406256, -0.004985474391999299, -0.03293785812061332, 0.0029338165860465903, 0.02960381053723664, 0.029122372166443377, 0.040244595685247526, -0.011962695726858761, 0.06923860091116213, 0.0004738072123391962, 0.015681530949858698, 0.05001217936924875, 0.04854798136400412, 0.0018550413917941834, 0.001855415372299579, 0.06368684012762121, -0.07414026474619752, 0.033482366985830375, -0.012411774495131379, 0.13000583659170767, -0.05901073548027624, -0.0007065947206973818, -0.02390263038603282, 0.04237004044486998, -0.0027048769142591824, -0.0514825672898999, -0.04653288154330481, -0.08457229576961754, -0.01149138464375315, 0.023419935320240618, -0.027415489525307115, 0.053336099578263, -0.004556249294901537, -0.015523704704073127, 0.17142438731965737, 0.06318334279504738, -0.07245852026877482, -0.03681577754549691, 0.008411055530413531, 0.06360178325047816, -0.00505326126142923, -0.02446428715129572, -0.033010945741489876, -0.01670109661984954, 0.0015746630398520256, -0.039670617104182314, 0.16296065036427934, 0.0018550413917941834, 0.04295454948865063, 0.003950640548373557, 0.13000583659170767, 0.0465771084688594, -0.00025693677150056014, 0.7154602974116996, -0.0051137454363513815, 0.10949541167481867, 0.0662420122440874, 0.07046629588509294, 0.004436488120794625, -0.013378227157292234, -0.026751430912030864, -0.04546628408585617, -0.000522286776574949, -0.006380909547535126, 0.058262941009012345, -0.054329785256260144, -0.01723239478879279, 0.7154602974116996, 0.24081643061126495, 0.19573123954191296, 0.23686702343890836, 0.18706441453583533, 0.06446859314312349, 0.2433438436562186, 0.47543649422968115, 0.10098620772924186, 0.14452977824746543, 0.11495029145635619, 0.7154602974116996, 0.18303567973435392, 0.20452747897572512, 0.04019642867931906, 0.1253161742889657, 0.1858208653839146, 0.7154602974116996, 0.35368637863199565, 0.23661351336160108, 0.2580487125042955, 0.16493874022121113, 0.11762263366003907, 0.2304483863189614, 0.7154602974116996, 0.07861090937427065, 0.2498856178652065, 0.05510813073984612, 0.1169187552098263, -0.010157529803286, 0.37322086180687375, 0.17705461039029521, 0.28250521552554403, 0.11610386164608603, 0.05279876745299876, 0.06822931085914859, 0.14985663816535244, 0.23661399577102585, 0.0, 0.05135065856006057, 0.19259398106459547, 0.009045133480534883, 0.23166743246271, -0.013156524150242415, 0.23166386227330563, 0.03606196295460434, 0.18840821805870603, 0.021203084013234477, 0.3051435719487288, 0.2679390395946571, -0.11764528141841556, -0.26526850507927957, -0.16210262747511797, -0.044246246035936944, -0.05801651148319848, -0.202426143330364, -0.15297631461072278, -0.0020664888350361305, -0.14549002247777268, 0.05055521814120586, -0.030753820055790526, -0.033778674264371866, 0.009397995486658116, -0.0204216779566617, -0.02562064460495217, -0.02043410375382063, -0.08255309704340415, -0.21590815125763155, -0.012220365836076568, -0.050248940692734945, -0.053031618974294197, -0.09708157799575305, -0.07312318293453392, -0.07775214885815625, 0.008349078946818361, -0.034798254189303865, -0.041472724895581646, -0.08912424443558668, -0.10254524415030229, -0.25406671486575355, -0.027701422255559948, 0.07738058461956394, -0.12073288084923653, -0.11845691962534598, -0.15874890251392662, -0.007678857256840585, -0.05956311550998647, -0.021661763909590435, -0.06148880770961878, -0.06919292393156869, -0.04009740466956507, -0.1050317572290758, -0.03765627443642461, -0.07764241604989129, -0.03292678791218272, -0.034502759059244256, -0.020970247568201972, -0.03059598837476147, -0.027311484491930448, -0.010202087437763931, -0.2660779939436192, -0.04764727066808427, -0.02993161252249625, -0.17408983268746497, -0.18684993355279567, -0.1047514968997625, -0.14722139696874087, -0.1042887518937661, -0.08631067182026306, -0.07259128779266755, -0.005477228323417514, -0.024633575675116044, -0.08436088437594566, -0.10361750451325988, -0.11056765105781446, -0.1421494530900133, -0.01826279036498716, -0.030412834331357042, -0.07291692975453973, 0.022695404665577738, -0.05965978428037425, -0.18072404050194446, -0.028772233014441213, -0.1359627300578795, -0.04665602027680376, -0.07665431553548609, -0.0450202633145724, -0.022439218905948157, -0.012515137725898857, -0.1125886567495297, -0.01550129024339718, -0.3224367826467276, -0.08941659823385138, -0.14089378979317851, -0.21248098724047793, -0.10978185191717742, 0.0032392757533326907, -0.3224367826467276, -0.001978053542083199, -0.011527280718700463, -0.04679191828655574, -0.3309842589128195, -0.0920174471716594, -0.13564253355544958, -0.0068234860318357815, -0.15434662962195161, -0.05626962765744672, -0.050958728938093355, -0.0020664888350361305, 0.013548162587492961, -0.06513582195820168, -0.05407467485176598, -0.1368154490412205, -0.11726446732736742, -0.12495464363519261, 0.013261328119650808, 0.02215811896141179, -0.05979619907704363, -0.06108902092157676, -0.1105715369497632, -0.09622911971390949, -0.02247785386152559, -0.09289288916799894, -0.04804069681530537, -0.018381744892914973, -0.13898256372395573, -0.02175533340625732, -0.08631067182026306, -0.08192328410492529, -0.056970631949222326, -0.13155005205091533, -0.04573674867766995, -0.05814292089573551, -0.1940389044177825, -0.0857718668626639, -0.06426360732028229, -0.04785708950395779, -0.1867682583787668, -0.06018719730646051, -0.01209110808519168, -0.017100556612303065, -0.026464883157090488, -0.16743560226868148, -0.043273409415841006, -0.05926919891178192, -0.14722139696874087, -0.07641011062772925, -0.02587584136876869, -0.08161644946145723, 0.022947979864369694, -0.0920174471716594, 0.020742568969095317, -0.02554876727268551, -0.034024856953128346, 0.049289637026159246, -0.050596277009622076, -0.04425895021515727, -0.22734482615597576, -0.11536466822843258, -0.08739141290014756, -0.07036019253960178, -0.19149368497546637, -0.03416209955654006, -0.10039593791943031, -0.09242245060146383, -0.050270932768018764, -0.11721763744908209, -0.08602551653879772, -0.010192592729602023, -0.04385300261519885, -0.054899068852291504, -0.029220258338846856, -0.08835504354244429, -0.1540373576363039, -0.06702295614678289, -0.12375936797349385, -0.09867411468716011, -0.038289118109566166, -0.0958873558102476, -0.034751045876103094, -0.041340226066041694, -0.07995739007413824, -0.046095166873849756, -0.12067486381946793, -0.07325272723390551, -0.02488329325304484, -0.18622092439984586, -0.008994351806169013, -0.13459051430796962, -0.1010041105341748, -0.05913121239220552, -0.06909518341276553, -0.019829029543942913, -0.2039106762646957, -0.14415509338081056, -0.08638511102864335, 0.006998602136242876, -0.04548491060290235, -0.13376545048077143, -0.05404585468820247, -0.08114384868022143, -0.09898937923725229, -0.08595772586278576, -0.07415247447117512, -0.08796484034620511, -0.023451396349709445], \"z\": [0.0014250566644455585, -0.01937856662270977, -0.1351876449363461, -0.08827467445590484, -0.016913359773767588, 0.006388786046782334, 0.03404965241045777, -0.05589951691223809, -0.004694604161720175, 0.5724656748070915, 0.5724656748070915, 0.03736704449976086, -0.03167964662239769, -0.00628683720230266, 0.01302567730078832, -0.005043519234188548, 0.06295700738762568, 0.015848661336646076, 0.06321750174523405, 0.10574061112200628, 0.09649698120619639, 0.04924204458229264, -0.03368511487721304, 0.042554272049741444, -0.04087813000097847, 0.023361336895238498, -0.03762228140080289, 0.1514642673237517, -0.05064301852802828, 0.004097937805011788, -0.02373541122819738, -0.01709760517531551, 0.017769532998912256, -0.03800718838397091, 0.04831891110668347, -0.01186092982190317, -0.06600477848677862, 0.0200915180847015, 0.008544393147071127, -0.00899509888179574, -0.018934542535320786, -0.05818295162737944, -0.004158912024154102, -0.037220973230471376, -0.01428455272467395, -0.06609060569563885, -0.02375817495674519, 0.04218032848405497, -0.13650040782157277, -0.0007489054740437122, -0.03830317173321017, 0.015208041781196427, 0.01684371041542138, -0.004694604161720175, -0.13518764493634583, 0.015848661336646076, 0.017380721654134273, -0.042920567043169974, -0.022719620264633533, 0.01302567730078832, -0.038172784567433775, -0.021736254361501398, -0.005720379133294429, 0.10574061112200628, -0.03368511487721304, 0.001529412867107017, -0.02660929058538496, -0.015514617557313162, -0.002407964652181994, -0.014574112256310756, -0.01389209440860386, -0.0521324613734982, 0.044562245402916464, -0.00847044296497305, 0.04553580934384461, -0.05818295162737944, 0.025398097459108007, 0.026163433559002105, 0.04218032848405497, -0.022111201517199468, -0.0009601311783762281, 0.5724656748070915, -0.00942814097400395, 0.06295700738762568, -0.0006876732597598667, 0.05776595232065189, 0.027686983801307255, 0.0014472866823299507, -0.034300320121198484, -0.02513945722069876, -0.025692128373944367, -0.04868012614385121, -0.07338821563708549, -0.015828639594872948, -0.02762911386310214, 0.5724656748070915, -0.5177703539413067, -0.35971490723658583, -0.5159725928206633, -0.3329816831009151, -0.11407053289437061, -0.3317496346459559, 0.34939917286175737, -0.20985424299976926, -0.2661301308481154, -0.17589352444452985, 0.5724656748070915, -0.24494684544565404, -0.41806716290195356, -0.16279551984079504, -0.16109085212251725, -0.19800943739886304, 0.5724656748070915, -0.34952536093555675, -0.4295697723190465, -0.2726342992177217, -0.4054943248492947, -0.21428601764631144, -0.5183553580165514, 0.5724656748070915, -0.14732941165373659, -0.3382154512624156, -0.1432290748071185, -0.19355380060961105, -0.02722435995429588, -0.3860068411421766, -0.33060140536085036, -0.5606912887041615, -0.19203088127470344, -0.14102502157019284, -0.2143344420847796, -0.20073716424324278, -0.42956998932855345, 0.0, -0.09155265414645791, -0.3617210104618497, -0.018974572231579303, -0.4008041280924988, 0.014177217126038649, -0.3791675256835134, -0.16172166878045666, -0.3175462319895991, 0.015386324727374206, -0.46917107580440776, -0.38644891776426077, 0.04675709892822811, 0.0778352870406483, 0.08568742543268558, 0.014084248641294197, -0.003874112204534275, 0.07808013713657896, 0.06918801384216054, 0.00540926689163117, 0.011432568827323753, 0.08423428964173778, 0.007482679614927263, 0.00048745982378350667, 0.026876964288937766, 0.008806566164640513, 0.0212705382638714, -0.0014664217038855558, 0.03188691979499622, 0.10279626227054257, -0.01369807612001313, 0.005282521683429244, -0.006631915680131469, 0.0032253763030351177, -0.018224860647473834, -0.009330119731664133, -0.0061241934596931655, 0.012655146304222285, 0.010389282280168645, 0.04055376630322767, 0.03506071556065038, 0.09469771228913662, -0.0006479868198772975, 0.04394281731220037, 0.024437411880092977, 0.009177259865754987, 0.049439935032908326, 0.05344726058051867, 0.025954535202250575, 0.07658495569095382, -0.007352795232620964, -0.010619669499675013, 0.041175174496006155, 0.016127855158827, 0.01948233591229935, 0.010235392038016091, 0.012429400624643339, 0.04260119203047961, 0.00812621814656011, -0.02424083321041822, 0.00423611144447833, -0.05340824389817753, 0.11320642701886352, 0.05122851251450823, 0.006882043150139576, -0.022037560892661495, 0.08074118121906144, -0.019520951370159093, 0.08663746155573598, -0.0195377697875268, 0.048025065954727504, -0.023028596470864977, 0.07597876110696, 0.005179549327656144, 0.022765123109990106, 0.01610847736410967, 0.03483125350156993, 0.06281193252501256, 0.0012219042720774203, 0.00900214082193598, 0.05650383632964462, 0.026924897357438547, 0.01485288032386863, 0.10641086947482636, -0.004973259322077532, 0.02910044092794752, -0.0153489476891848, -0.012832020640768993, 0.022481826105948552, 0.023029463961226324, 0.01210003017441654, 0.0320116280353679, 0.0025660009054006136, 0.10297796461631953, 0.05928218362427185, 0.07685236251036881, 0.08967113216865914, 0.02980609316658717, 0.04237083423441304, 0.10297796461631953, -0.007679452024426284, 0.006790325646932619, -0.025248938010260364, 0.10556003543307292, -0.012832032104770963, -0.006023642504795522, 0.061054426198027006, 0.03807130134785439, -0.011583548294006814, 0.009929801720336815, 0.00540926689163117, -0.0018537856992035088, -0.013195816182636847, 0.037391451179692566, 0.026610498176528906, 0.03177811994083661, 0.05506074610357252, 0.04679377836399642, 0.06545288536793568, -0.025646926138909357, 0.06851631507268374, 0.03917484500092532, 0.0012024305649944028, 0.008417884285914522, 0.014487046480147538, 0.01673038862948009, 0.02429575335654596, 0.02792857512859725, 0.019037683833379063, 0.048025065954727504, 0.028233884972006327, 0.04842977734335444, 0.007861119063621259, 0.030215768628129712, 0.018422175415050535, 0.05534061163237949, -0.01645312152124429, 0.010776375099003824, -0.020207909669828758, 0.061631315560312996, -0.000913963306509473, 0.008088343261829264, 0.03898278562759714, 0.010688314513992157, 0.05964806774037243, 0.0022774799017165398, 0.03031843032402386, 0.08663746155573598, -0.0388685187290787, 0.007556830584663205, 0.025443491045731334, 0.052195832100277506, -0.012832032104770963, 0.034738273283271975, -0.029439793205662538, 0.0002449056254565999, 0.04369233555888242, 0.017809655237166128, 0.025259203084578817, 0.09753542446157623, 0.06251151413892757, 0.051761505675088026, 0.05515710329704677, 0.11648021069909806, 0.013643989355783783, 0.0054100328752906815, 0.0634941962845318, 0.12754295380872582, 0.07950748411608487, 0.08348543036008257, 0.04793720455236554, 0.10328454158845175, 0.022588852090652374, 0.06588230394370932, 0.028718753095473233, 0.03763445491757396, 0.038798289239698594, 0.022017020231722674, 0.0706944285057023, 0.10843498215275271, 0.023832586824195187, 0.04769233472317757, 0.030202968998820055, 0.04973040430738202, 0.014837142985249173, 0.04808464236311305, 0.016445068522439838, 0.006182630627039414, 0.06539755824500729, 0.012614287754479986, 0.03136167142103269, 0.07510741258327255, -0.029576065522714256, 0.03962055669237268, 0.024436879957777637, 0.05922865627771383, 0.06607238247772723, 0.033984151451017325, 0.09097469818928781, 0.006269441134911477, 0.049282781819507, -0.0019845251635483892, -0.010704299442263927, 0.09410015352752157, 0.0019667851182383895, 0.03338728537280353, 0.02932125441917166, 0.01693038401307232]}],\n",
       "                        {\"margin\": {\"b\": 0, \"l\": 0, \"r\": 0, \"t\": 0}, \"template\": {\"data\": {\"bar\": [{\"error_x\": {\"color\": \"#2a3f5f\"}, \"error_y\": {\"color\": \"#2a3f5f\"}, \"marker\": {\"line\": {\"color\": \"#E5ECF6\", \"width\": 0.5}}, \"type\": \"bar\"}], \"barpolar\": [{\"marker\": {\"line\": {\"color\": \"#E5ECF6\", \"width\": 0.5}}, \"type\": \"barpolar\"}], \"carpet\": [{\"aaxis\": {\"endlinecolor\": \"#2a3f5f\", \"gridcolor\": \"white\", \"linecolor\": \"white\", \"minorgridcolor\": \"white\", \"startlinecolor\": \"#2a3f5f\"}, \"baxis\": {\"endlinecolor\": \"#2a3f5f\", \"gridcolor\": \"white\", \"linecolor\": \"white\", \"minorgridcolor\": \"white\", \"startlinecolor\": \"#2a3f5f\"}, \"type\": \"carpet\"}], \"choropleth\": [{\"colorbar\": {\"outlinewidth\": 0, \"ticks\": \"\"}, \"type\": \"choropleth\"}], \"contour\": [{\"colorbar\": {\"outlinewidth\": 0, \"ticks\": \"\"}, \"colorscale\": [[0.0, \"#0d0887\"], [0.1111111111111111, \"#46039f\"], [0.2222222222222222, \"#7201a8\"], [0.3333333333333333, \"#9c179e\"], [0.4444444444444444, \"#bd3786\"], [0.5555555555555556, \"#d8576b\"], [0.6666666666666666, \"#ed7953\"], [0.7777777777777778, \"#fb9f3a\"], [0.8888888888888888, \"#fdca26\"], [1.0, \"#f0f921\"]], \"type\": \"contour\"}], \"contourcarpet\": [{\"colorbar\": {\"outlinewidth\": 0, \"ticks\": \"\"}, \"type\": \"contourcarpet\"}], \"heatmap\": [{\"colorbar\": {\"outlinewidth\": 0, \"ticks\": \"\"}, \"colorscale\": [[0.0, \"#0d0887\"], [0.1111111111111111, \"#46039f\"], [0.2222222222222222, \"#7201a8\"], [0.3333333333333333, \"#9c179e\"], [0.4444444444444444, \"#bd3786\"], [0.5555555555555556, \"#d8576b\"], [0.6666666666666666, \"#ed7953\"], [0.7777777777777778, \"#fb9f3a\"], [0.8888888888888888, \"#fdca26\"], [1.0, \"#f0f921\"]], \"type\": \"heatmap\"}], \"heatmapgl\": [{\"colorbar\": {\"outlinewidth\": 0, \"ticks\": \"\"}, \"colorscale\": [[0.0, \"#0d0887\"], [0.1111111111111111, \"#46039f\"], [0.2222222222222222, \"#7201a8\"], [0.3333333333333333, \"#9c179e\"], [0.4444444444444444, \"#bd3786\"], [0.5555555555555556, \"#d8576b\"], [0.6666666666666666, \"#ed7953\"], [0.7777777777777778, \"#fb9f3a\"], [0.8888888888888888, \"#fdca26\"], [1.0, \"#f0f921\"]], \"type\": \"heatmapgl\"}], \"histogram\": [{\"marker\": {\"colorbar\": {\"outlinewidth\": 0, \"ticks\": \"\"}}, \"type\": \"histogram\"}], \"histogram2d\": [{\"colorbar\": {\"outlinewidth\": 0, \"ticks\": \"\"}, \"colorscale\": [[0.0, \"#0d0887\"], [0.1111111111111111, \"#46039f\"], [0.2222222222222222, \"#7201a8\"], [0.3333333333333333, \"#9c179e\"], [0.4444444444444444, \"#bd3786\"], [0.5555555555555556, \"#d8576b\"], [0.6666666666666666, \"#ed7953\"], [0.7777777777777778, \"#fb9f3a\"], [0.8888888888888888, \"#fdca26\"], [1.0, \"#f0f921\"]], \"type\": \"histogram2d\"}], \"histogram2dcontour\": [{\"colorbar\": {\"outlinewidth\": 0, \"ticks\": \"\"}, \"colorscale\": [[0.0, \"#0d0887\"], [0.1111111111111111, \"#46039f\"], [0.2222222222222222, \"#7201a8\"], [0.3333333333333333, \"#9c179e\"], [0.4444444444444444, \"#bd3786\"], [0.5555555555555556, \"#d8576b\"], [0.6666666666666666, \"#ed7953\"], [0.7777777777777778, \"#fb9f3a\"], [0.8888888888888888, \"#fdca26\"], [1.0, \"#f0f921\"]], \"type\": \"histogram2dcontour\"}], \"mesh3d\": [{\"colorbar\": {\"outlinewidth\": 0, \"ticks\": \"\"}, \"type\": \"mesh3d\"}], \"parcoords\": [{\"line\": {\"colorbar\": {\"outlinewidth\": 0, \"ticks\": \"\"}}, \"type\": \"parcoords\"}], \"pie\": [{\"automargin\": true, \"type\": \"pie\"}], \"scatter\": [{\"marker\": {\"colorbar\": {\"outlinewidth\": 0, \"ticks\": \"\"}}, \"type\": \"scatter\"}], \"scatter3d\": [{\"line\": {\"colorbar\": {\"outlinewidth\": 0, \"ticks\": \"\"}}, \"marker\": {\"colorbar\": {\"outlinewidth\": 0, \"ticks\": \"\"}}, \"type\": \"scatter3d\"}], \"scattercarpet\": [{\"marker\": {\"colorbar\": {\"outlinewidth\": 0, \"ticks\": \"\"}}, \"type\": \"scattercarpet\"}], \"scattergeo\": [{\"marker\": {\"colorbar\": {\"outlinewidth\": 0, \"ticks\": \"\"}}, \"type\": \"scattergeo\"}], \"scattergl\": [{\"marker\": {\"colorbar\": {\"outlinewidth\": 0, \"ticks\": \"\"}}, \"type\": \"scattergl\"}], \"scattermapbox\": [{\"marker\": {\"colorbar\": {\"outlinewidth\": 0, \"ticks\": \"\"}}, \"type\": \"scattermapbox\"}], \"scatterpolar\": [{\"marker\": {\"colorbar\": {\"outlinewidth\": 0, \"ticks\": \"\"}}, \"type\": \"scatterpolar\"}], \"scatterpolargl\": [{\"marker\": {\"colorbar\": {\"outlinewidth\": 0, \"ticks\": \"\"}}, \"type\": \"scatterpolargl\"}], \"scatterternary\": [{\"marker\": {\"colorbar\": {\"outlinewidth\": 0, \"ticks\": \"\"}}, \"type\": \"scatterternary\"}], \"surface\": [{\"colorbar\": {\"outlinewidth\": 0, \"ticks\": \"\"}, \"colorscale\": [[0.0, \"#0d0887\"], [0.1111111111111111, \"#46039f\"], [0.2222222222222222, \"#7201a8\"], [0.3333333333333333, \"#9c179e\"], [0.4444444444444444, \"#bd3786\"], [0.5555555555555556, \"#d8576b\"], [0.6666666666666666, \"#ed7953\"], [0.7777777777777778, \"#fb9f3a\"], [0.8888888888888888, \"#fdca26\"], [1.0, \"#f0f921\"]], \"type\": \"surface\"}], \"table\": [{\"cells\": {\"fill\": {\"color\": \"#EBF0F8\"}, \"line\": {\"color\": \"white\"}}, \"header\": {\"fill\": {\"color\": \"#C8D4E3\"}, \"line\": {\"color\": \"white\"}}, \"type\": \"table\"}]}, \"layout\": {\"annotationdefaults\": {\"arrowcolor\": \"#2a3f5f\", \"arrowhead\": 0, \"arrowwidth\": 1}, \"coloraxis\": {\"colorbar\": {\"outlinewidth\": 0, \"ticks\": \"\"}}, \"colorscale\": {\"diverging\": [[0, \"#8e0152\"], [0.1, \"#c51b7d\"], [0.2, \"#de77ae\"], [0.3, \"#f1b6da\"], [0.4, \"#fde0ef\"], [0.5, \"#f7f7f7\"], [0.6, \"#e6f5d0\"], [0.7, \"#b8e186\"], [0.8, \"#7fbc41\"], [0.9, \"#4d9221\"], [1, \"#276419\"]], \"sequential\": [[0.0, \"#0d0887\"], [0.1111111111111111, \"#46039f\"], [0.2222222222222222, \"#7201a8\"], [0.3333333333333333, \"#9c179e\"], [0.4444444444444444, \"#bd3786\"], [0.5555555555555556, \"#d8576b\"], [0.6666666666666666, \"#ed7953\"], [0.7777777777777778, \"#fb9f3a\"], [0.8888888888888888, \"#fdca26\"], [1.0, \"#f0f921\"]], \"sequentialminus\": [[0.0, \"#0d0887\"], [0.1111111111111111, \"#46039f\"], [0.2222222222222222, \"#7201a8\"], [0.3333333333333333, \"#9c179e\"], [0.4444444444444444, \"#bd3786\"], [0.5555555555555556, \"#d8576b\"], [0.6666666666666666, \"#ed7953\"], [0.7777777777777778, \"#fb9f3a\"], [0.8888888888888888, \"#fdca26\"], [1.0, \"#f0f921\"]]}, \"colorway\": [\"#636efa\", \"#EF553B\", \"#00cc96\", \"#ab63fa\", \"#FFA15A\", \"#19d3f3\", \"#FF6692\", \"#B6E880\", \"#FF97FF\", \"#FECB52\"], \"font\": {\"color\": \"#2a3f5f\"}, \"geo\": {\"bgcolor\": \"white\", \"lakecolor\": \"white\", \"landcolor\": \"#E5ECF6\", \"showlakes\": true, \"showland\": true, \"subunitcolor\": \"white\"}, \"hoverlabel\": {\"align\": \"left\"}, \"hovermode\": \"closest\", \"mapbox\": {\"style\": \"light\"}, \"paper_bgcolor\": \"white\", \"plot_bgcolor\": \"#E5ECF6\", \"polar\": {\"angularaxis\": {\"gridcolor\": \"white\", \"linecolor\": \"white\", \"ticks\": \"\"}, \"bgcolor\": \"#E5ECF6\", \"radialaxis\": {\"gridcolor\": \"white\", \"linecolor\": \"white\", \"ticks\": \"\"}}, \"scene\": {\"xaxis\": {\"backgroundcolor\": \"#E5ECF6\", \"gridcolor\": \"white\", \"gridwidth\": 2, \"linecolor\": \"white\", \"showbackground\": true, \"ticks\": \"\", \"zerolinecolor\": \"white\"}, \"yaxis\": {\"backgroundcolor\": \"#E5ECF6\", \"gridcolor\": \"white\", \"gridwidth\": 2, \"linecolor\": \"white\", \"showbackground\": true, \"ticks\": \"\", \"zerolinecolor\": \"white\"}, \"zaxis\": {\"backgroundcolor\": \"#E5ECF6\", \"gridcolor\": \"white\", \"gridwidth\": 2, \"linecolor\": \"white\", \"showbackground\": true, \"ticks\": \"\", \"zerolinecolor\": \"white\"}}, \"shapedefaults\": {\"line\": {\"color\": \"#2a3f5f\"}}, \"ternary\": {\"aaxis\": {\"gridcolor\": \"white\", \"linecolor\": \"white\", \"ticks\": \"\"}, \"baxis\": {\"gridcolor\": \"white\", \"linecolor\": \"white\", \"ticks\": \"\"}, \"bgcolor\": \"#E5ECF6\", \"caxis\": {\"gridcolor\": \"white\", \"linecolor\": \"white\", \"ticks\": \"\"}}, \"title\": {\"x\": 0.05}, \"xaxis\": {\"automargin\": true, \"gridcolor\": \"white\", \"linecolor\": \"white\", \"ticks\": \"\", \"title\": {\"standoff\": 15}, \"zerolinecolor\": \"white\", \"zerolinewidth\": 2}, \"yaxis\": {\"automargin\": true, \"gridcolor\": \"white\", \"linecolor\": \"white\", \"ticks\": \"\", \"title\": {\"standoff\": 15}, \"zerolinecolor\": \"white\", \"zerolinewidth\": 2}}}},\n",
       "                        {\"responsive\": true}\n",
       "                    ).then(function(){\n",
       "                            \n",
       "var gd = document.getElementById('ed8b1469-8cea-41fb-a54f-71ad8c260667');\n",
       "var x = new MutationObserver(function (mutations, observer) {{\n",
       "        var display = window.getComputedStyle(gd).display;\n",
       "        if (!display || display === 'none') {{\n",
       "            console.log([gd, 'removed!']);\n",
       "            Plotly.purge(gd);\n",
       "            observer.disconnect();\n",
       "        }}\n",
       "}});\n",
       "\n",
       "// Listen for the removal of the full notebook cells\n",
       "var notebookContainer = gd.closest('#notebook-container');\n",
       "if (notebookContainer) {{\n",
       "    x.observe(notebookContainer, {childList: true});\n",
       "}}\n",
       "\n",
       "// Listen for the clearing of the current output cell\n",
       "var outputEl = gd.closest('.output');\n",
       "if (outputEl) {{\n",
       "    x.observe(outputEl, {childList: true});\n",
       "}}\n",
       "\n",
       "                        })\n",
       "                };\n",
       "                });\n",
       "            </script>\n",
       "        </div>"
      ]
     },
     "metadata": {},
     "output_type": "display_data"
    }
   ],
   "source": [
    "import plotly.graph_objects as go\n",
    "import numpy as np\n",
    "\n",
    "fig = go.Figure(data=[go.Scatter3d(\n",
    "    x=trunc[:, 0],\n",
    "    y=trunc[:, 1],\n",
    "    z=trunc[:, 2],\n",
    "    hovertext = \"Query: <b>\" + df[\"search_query\"] + \"</b>\" + df[\"description\"].apply(add_new_lines),\n",
    "    mode='markers',\n",
    "    marker=dict(\n",
    "        size=20,\n",
    "        color=encoded_labels,\n",
    "        colorscale='Viridis',\n",
    "        opacity=0.8\n",
    "    )\n",
    ")])\n",
    "\n",
    "fig.update_layout(margin=dict(l=0, r=0, b=0, t=0))\n",
    "fig.show()"
   ]
  }
 ],
 "metadata": {
  "kernelspec": {
   "display_name": "Python 3",
   "language": "python",
   "name": "python3"
  },
  "language_info": {
   "codemirror_mode": {
    "name": "ipython",
    "version": 3
   },
   "file_extension": ".py",
   "mimetype": "text/x-python",
   "name": "python",
   "nbconvert_exporter": "python",
   "pygments_lexer": "ipython3",
   "version": "3.6.8"
  },
  "toc": {
   "base_numbering": 1,
   "nav_menu": {},
   "number_sections": true,
   "sideBar": true,
   "skip_h1_title": false,
   "title_cell": "Table of Contents",
   "title_sidebar": "Contents",
   "toc_cell": false,
   "toc_position": {},
   "toc_section_display": true,
   "toc_window_display": false
  }
 },
 "nbformat": 4,
 "nbformat_minor": 2
}
